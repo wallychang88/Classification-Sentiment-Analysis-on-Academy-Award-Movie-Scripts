{
 "cells": [
  {
   "cell_type": "code",
   "execution_count": 1,
   "id": "85d4b2e7",
   "metadata": {
    "tags": []
   },
   "outputs": [
    {
     "name": "stderr",
     "output_type": "stream",
     "text": [
      "/Users/wally/anaconda3/envs/3350/lib/python3.11/site-packages/fuzzywuzzy/fuzz.py:11: UserWarning: Using slow pure-python SequenceMatcher. Install python-Levenshtein to remove this warning\n",
      "  warnings.warn('Using slow pure-python SequenceMatcher. Install python-Levenshtein to remove this warning')\n"
     ]
    }
   ],
   "source": [
    "import chardet\n",
    "import os\n",
    "import pandas as pd\n",
    "import numpy as np\n",
    "import re\n",
    "from sklearn.feature_extraction.text import CountVectorizer, TfidfVectorizer\n",
    "from sklearn.decomposition import LatentDirichletAllocation, PCA\n",
    "from sklearn.linear_model import LinearRegression\n",
    "from sklearn.model_selection import cross_val_score, cross_validate\n",
    "from sklearn.preprocessing import StandardScaler\n",
    "from sklearn.cluster import KMeans\n",
    "import matplotlib.pyplot as plt\n",
    "from sklearn.decomposition import TruncatedSVD   \n",
    "from nltk.tokenize import word_tokenize\n",
    "import nltk\n",
    "from fuzzywuzzy import fuzz\n",
    "import random\n",
    "import time\n",
    "from sklearn.metrics.pairwise import cosine_similarity\n",
    "import nltk\n",
    "from nltk.sentiment.vader import SentimentIntensityAnalyzer\n",
    "import seaborn as sns\n",
    "\n",
    "from sklearn.model_selection import train_test_split\n",
    "from sklearn.linear_model import LogisticRegression\n",
    "from sklearn.metrics import classification_report\n",
    "from sklearn.ensemble import RandomForestClassifier\n",
    "from collections import Counter\n"
   ]
  },
  {
   "cell_type": "markdown",
   "id": "499cd3db",
   "metadata": {},
   "source": [
    "# 1. Data Importing and Cleaning"
   ]
  },
  {
   "cell_type": "code",
   "execution_count": 2,
   "id": "5260aefe-2690-4658-a2f3-6e7c8488a401",
   "metadata": {
    "tags": []
   },
   "outputs": [],
   "source": [
    "def detect_encoding(file_path):\n",
    "    with open(file_path, 'rb') as file:\n",
    "        raw_data = file.read()\n",
    "\n",
    "    result = chardet.detect(raw_data)\n",
    "    return result['encoding']\n",
    "\n",
    "def srt_to_text(srt_file_path):\n",
    "    encoding_attempts = ['utf-8', 'ISO-8859-1', 'utf-16', ]\n",
    "\n",
    "    for encoding in encoding_attempts:\n",
    "        try:\n",
    "            with open(srt_file_path, 'r', encoding=encoding) as file:\n",
    "                lines = file.readlines()\n",
    "\n",
    "            text = \"\"\n",
    "            current_line = \"\"\n",
    "            is_time_line = True\n",
    "\n",
    "            for line in lines:\n",
    "                line = line.strip()\n",
    "\n",
    "                if not line:\n",
    "                    is_time_line = True\n",
    "                    continue\n",
    "\n",
    "                if is_time_line:\n",
    "                    is_time_line = False\n",
    "                    continue\n",
    "\n",
    "                current_line += line + \" \"\n",
    "\n",
    "                # If the line ends with a punctuation indicating the end of a sentence\n",
    "                if line.endswith(('.', '!', '?')):\n",
    "                    text += current_line + \"\\n\"\n",
    "                    current_line = \"\"\n",
    "\n",
    "            return text.strip()\n",
    "        except UnicodeDecodeError:\n",
    "            None\n",
    "\n",
    "    # If none of the encodings work\n",
    "    print(f\"Unable to decode file: {srt_file_path}\")\n",
    "    return None\n",
    "\n",
    "def process_srt_files_in_folder(folder_path):\n",
    "    result_dict = []\n",
    "\n",
    "    for filename in os.listdir(folder_path):\n",
    "        if filename.endswith(\".srt\"):\n",
    "            srt_file_path = os.path.join(folder_path, filename)\n",
    "            text_content = srt_to_text(srt_file_path)\n",
    "\n",
    "            if text_content is not None:\n",
    "                file_dict = {\"name\": filename, \"text\": text_content}\n",
    "                result_dict.append(file_dict)\n",
    "\n",
    "    return result_dict\n",
    "\n",
    "# Example usage for a folder containing SRT files\n",
    "wally = '/Users/wally/Library/CloudStorage/OneDrive-Personal/Documents/Cornell/1. Fourth Year/INFO 6350 - Text Mining History and Literature/INFO6350_Final_Project/srt_files'\n",
    "casey = '/Users/caseykaufman/Documents/GitHub/INFO6350_Final_Project/srt_files'\n",
    "\n",
    "folder_path = wally\n",
    "\n",
    "result_dictionary = process_srt_files_in_folder(folder_path)"
   ]
  },
  {
   "cell_type": "code",
   "execution_count": 3,
   "id": "98e7947f",
   "metadata": {
    "tags": []
   },
   "outputs": [],
   "source": [
    "movie_subtitles_df = pd.DataFrame(result_dictionary)"
   ]
  },
  {
   "cell_type": "code",
   "execution_count": 4,
   "id": "8cd84e01",
   "metadata": {
    "tags": []
   },
   "outputs": [],
   "source": [
    "# Removal of timestamps\n",
    "movie_subtitles_df['text'] = movie_subtitles_df['text'].str.replace(r'\\d{2}:\\d{2}:\\d{2},\\d{3} --> \\d{2}:\\d{2}:\\d{2},\\d{3}[\\s-]+', '\\n', regex=True)\n",
    "movie_subtitles_df['text'] = movie_subtitles_df['text'].str.replace(r'<font.*?>|<\\/font>', '', regex=True)\n",
    "movie_subtitles_df['text'] = movie_subtitles_df['text'].str.replace(r'\\bdownloaded.*?|subtitles downloaded.*?|http.*?|www.*?', '', regex=True, flags=re.IGNORECASE)"
   ]
  },
  {
   "cell_type": "code",
   "execution_count": 5,
   "id": "c6aba171",
   "metadata": {
    "tags": []
   },
   "outputs": [],
   "source": [
    "pd.options.display.max_rows = 400"
   ]
  },
  {
   "cell_type": "code",
   "execution_count": 6,
   "id": "1ee1b940",
   "metadata": {
    "tags": []
   },
   "outputs": [],
   "source": [
    "# Find the year of each movie from the file name\n",
    "years = []\n",
    "for name_index in range(len(movie_subtitles_df['name'])):\n",
    "    found_year = False\n",
    "    for letter_index in range(len(movie_subtitles_df['name'][name_index])):\n",
    "        if movie_subtitles_df['name'][name_index][letter_index:letter_index+2] == '19' and movie_subtitles_df['name'][name_index][letter_index:letter_index+4].isdigit() or movie_subtitles_df['name'][name_index][letter_index:letter_index+2] == '20' and movie_subtitles_df['name'][name_index][letter_index:letter_index+4].isdigit():\n",
    "            y = movie_subtitles_df['name'][name_index][letter_index:letter_index+4]\n",
    "            years.append(y)\n",
    "            found_year = True\n",
    "            break\n",
    "    if not found_year:\n",
    "        years.append('na')\n",
    "\n",
    "# Add new column with corresponding years\n",
    "movie_subtitles_df['years'] = years"
   ]
  },
  {
   "cell_type": "code",
   "execution_count": 7,
   "id": "e00d84eb",
   "metadata": {
    "tags": []
   },
   "outputs": [],
   "source": [
    "#cleaning names\n",
    "pattern1= r'^([^\\d(]+)(?:\\.\\d{4}| \\(\\d{4}\\))?\\.?[^\\w]*'\n",
    "pattern2 = r'^[^a-zA-Z]*(.*?)\\.[a-zA-Z]{3}\\b'\n",
    "pattern3 = r'^[^a-zA-Z]*(.*?)\\.[a-zA-Z]{3}-'\n",
    "\n",
    "clean_names = []\n",
    "for file_name in movie_subtitles_df['name']:\n",
    "    match = re.match(pattern1, file_name) or re.match(pattern2, file_name) or re.match(pattern3, file_name)\n",
    "    if match:\n",
    "        extracted_name = match.group(1).replace('.', ' ')\n",
    "        clean_names.append(extracted_name)\n",
    "    else:\n",
    "        print(\"Name extraction pattern not found for:\", file_name)\n",
    "        \n",
    "new = [name.split('WWW')[0].strip() if 'WWW' in name else name for name in clean_names]\n",
    "clean_names = [x.replace('-','') for x in new]"
   ]
  },
  {
   "cell_type": "code",
   "execution_count": 8,
   "id": "baff62b8",
   "metadata": {
    "tags": []
   },
   "outputs": [],
   "source": [
    "movie_subtitles_df['Movie Name'] = clean_names"
   ]
  },
  {
   "cell_type": "code",
   "execution_count": 9,
   "id": "2aa0b906",
   "metadata": {},
   "outputs": [],
   "source": [
    "#adding win/loss\n",
    "excel = pd.read_csv('scripts.csv')\n",
    "\n",
    "#getting index values\n",
    "highest = []\n",
    "for films in clean_names: \n",
    "    similarity = []\n",
    "    indexes = []\n",
    "    for all_films in excel['Film']:\n",
    "        sim = fuzz.ratio(str(films), str(all_films))\n",
    "        similarity.append(sim)\n",
    "    highest.append(similarity.index(max(similarity)))\n",
    "    \n",
    "movie_name_check = []\n",
    "win_loss = []\n",
    "for idx in highest:\n",
    "    value1 = excel.loc[idx,'Film']\n",
    "    value2 = excel.loc[idx,'Win']\n",
    "    movie_name_check.append(value1)\n",
    "    win_loss.append(value2)\n",
    "    \n",
    "movie_subtitles_df['Similarity Calc Name'] = movie_name_check\n",
    "movie_subtitles_df['Win or Loss'] = win_loss"
   ]
  },
  {
   "cell_type": "code",
   "execution_count": 10,
   "id": "47ceda15-18a7-4cdb-901a-38d887479eeb",
   "metadata": {
    "scrolled": true,
    "tags": []
   },
   "outputs": [
    {
     "data": {
      "text/html": [
       "<div>\n",
       "<style scoped>\n",
       "    .dataframe tbody tr th:only-of-type {\n",
       "        vertical-align: middle;\n",
       "    }\n",
       "\n",
       "    .dataframe tbody tr th {\n",
       "        vertical-align: top;\n",
       "    }\n",
       "\n",
       "    .dataframe thead th {\n",
       "        text-align: right;\n",
       "    }\n",
       "</style>\n",
       "<table border=\"1\" class=\"dataframe\">\n",
       "  <thead>\n",
       "    <tr style=\"text-align: right;\">\n",
       "      <th></th>\n",
       "      <th>name</th>\n",
       "      <th>text</th>\n",
       "      <th>years</th>\n",
       "      <th>Movie Name</th>\n",
       "      <th>Similarity Calc Name</th>\n",
       "      <th>Win or Loss</th>\n",
       "    </tr>\n",
       "  </thead>\n",
       "  <tbody>\n",
       "    <tr>\n",
       "      <th>0</th>\n",
       "      <td>Sunset Blvd. (1950)_english.srt</td>\n",
       "      <td>\\nYes, this is Sunset Boulevard, Los Angeles, ...</td>\n",
       "      <td>1950</td>\n",
       "      <td>Sunset Blvd</td>\n",
       "      <td>Sunset Boulevard</td>\n",
       "      <td>1.0</td>\n",
       "    </tr>\n",
       "    <tr>\n",
       "      <th>1</th>\n",
       "      <td>Diner.1982.720p.BluRay.x264-AMIABLE.srt</td>\n",
       "      <td>\\nA little bit softer now - Shout \\nA little b...</td>\n",
       "      <td>1982</td>\n",
       "      <td>Diner</td>\n",
       "      <td>Diner</td>\n",
       "      <td>0.0</td>\n",
       "    </tr>\n",
       "    <tr>\n",
       "      <th>2</th>\n",
       "      <td>Road.To.Utopia.1945.1080p.BluRay.x264-[YTS.AM]...</td>\n",
       "      <td>\\nFor those of you who don't go to the movies,...</td>\n",
       "      <td>1945</td>\n",
       "      <td>Road To Utopia</td>\n",
       "      <td>Road to Utopia</td>\n",
       "      <td>0.0</td>\n",
       "    </tr>\n",
       "    <tr>\n",
       "      <th>3</th>\n",
       "      <td>Tender Mercies (1983).srt</td>\n",
       "      <td>\\nHere, give me the bottle. \\n- Go to hell. \\n...</td>\n",
       "      <td>1983</td>\n",
       "      <td>Tender Mercies</td>\n",
       "      <td>Tender Mercies</td>\n",
       "      <td>1.0</td>\n",
       "    </tr>\n",
       "    <tr>\n",
       "      <th>4</th>\n",
       "      <td>Ghandi.1982.1080p.BluRay.x264.YIFY.srt</td>\n",
       "      <td>\\nThere are more than yesterday. \\n\\nHe will b...</td>\n",
       "      <td>1982</td>\n",
       "      <td>Ghandi</td>\n",
       "      <td>Gandhi</td>\n",
       "      <td>1.0</td>\n",
       "    </tr>\n",
       "  </tbody>\n",
       "</table>\n",
       "</div>"
      ],
      "text/plain": [
       "                                                name  \\\n",
       "0                    Sunset Blvd. (1950)_english.srt   \n",
       "1            Diner.1982.720p.BluRay.x264-AMIABLE.srt   \n",
       "2  Road.To.Utopia.1945.1080p.BluRay.x264-[YTS.AM]...   \n",
       "3                          Tender Mercies (1983).srt   \n",
       "4             Ghandi.1982.1080p.BluRay.x264.YIFY.srt   \n",
       "\n",
       "                                                text years       Movie Name  \\\n",
       "0  \\nYes, this is Sunset Boulevard, Los Angeles, ...  1950    Sunset Blvd     \n",
       "1  \\nA little bit softer now - Shout \\nA little b...  1982           Diner    \n",
       "2  \\nFor those of you who don't go to the movies,...  1945  Road To Utopia    \n",
       "3  \\nHere, give me the bottle. \\n- Go to hell. \\n...  1983  Tender Mercies    \n",
       "4  \\nThere are more than yesterday. \\n\\nHe will b...  1982          Ghandi    \n",
       "\n",
       "  Similarity Calc Name  Win or Loss  \n",
       "0     Sunset Boulevard          1.0  \n",
       "1                Diner          0.0  \n",
       "2       Road to Utopia          0.0  \n",
       "3       Tender Mercies          1.0  \n",
       "4               Gandhi          1.0  "
      ]
     },
     "execution_count": 10,
     "metadata": {},
     "output_type": "execute_result"
    }
   ],
   "source": [
    "movie_subtitles_df.head()"
   ]
  },
  {
   "cell_type": "code",
   "execution_count": 11,
   "id": "84912b18",
   "metadata": {},
   "outputs": [],
   "source": [
    "# Tokenize the text in each row\n",
    "tokenized_text = movie_subtitles_df['text'].apply(word_tokenize)\n",
    "\n",
    "# Add the tokenized text to a new column\n",
    "movie_subtitles_df['tokenized_text'] = tokenized_text"
   ]
  },
  {
   "cell_type": "markdown",
   "id": "44a8d067",
   "metadata": {},
   "source": [
    "# 2. Basic Data Exploration and Pre-Processing"
   ]
  },
  {
   "cell_type": "markdown",
   "id": "84776085",
   "metadata": {},
   "source": [
    "## Count Tokens in Each Movie Script"
   ]
  },
  {
   "cell_type": "code",
   "execution_count": 12,
   "id": "2e27c973",
   "metadata": {},
   "outputs": [],
   "source": [
    "# Add the number of tokens in a movie script to a new column titled 'num_tokens'\n",
    "movie_subtitles_df['num_tokens'] = [len(movie_subtitles_df['tokenized_text'][i]) for i in range(len(movie_subtitles_df['text']))]"
   ]
  },
  {
   "cell_type": "code",
   "execution_count": 13,
   "id": "8c4053ad",
   "metadata": {
    "tags": []
   },
   "outputs": [
    {
     "data": {
      "text/html": [
       "<div>\n",
       "<style scoped>\n",
       "    .dataframe tbody tr th:only-of-type {\n",
       "        vertical-align: middle;\n",
       "    }\n",
       "\n",
       "    .dataframe tbody tr th {\n",
       "        vertical-align: top;\n",
       "    }\n",
       "\n",
       "    .dataframe thead th {\n",
       "        text-align: right;\n",
       "    }\n",
       "</style>\n",
       "<table border=\"1\" class=\"dataframe\">\n",
       "  <thead>\n",
       "    <tr style=\"text-align: right;\">\n",
       "      <th></th>\n",
       "      <th>name</th>\n",
       "      <th>text</th>\n",
       "      <th>years</th>\n",
       "      <th>Movie Name</th>\n",
       "      <th>Similarity Calc Name</th>\n",
       "      <th>Win or Loss</th>\n",
       "      <th>tokenized_text</th>\n",
       "      <th>num_tokens</th>\n",
       "    </tr>\n",
       "  </thead>\n",
       "  <tbody>\n",
       "    <tr>\n",
       "      <th>0</th>\n",
       "      <td>Sunset Blvd. (1950)_english.srt</td>\n",
       "      <td>\\nYes, this is Sunset Boulevard, Los Angeles, ...</td>\n",
       "      <td>1950</td>\n",
       "      <td>Sunset Blvd</td>\n",
       "      <td>Sunset Boulevard</td>\n",
       "      <td>1.0</td>\n",
       "      <td>[Yes, ,, this, is, Sunset, Boulevard, ,, Los, ...</td>\n",
       "      <td>15458</td>\n",
       "    </tr>\n",
       "    <tr>\n",
       "      <th>1</th>\n",
       "      <td>Diner.1982.720p.BluRay.x264-AMIABLE.srt</td>\n",
       "      <td>\\nA little bit softer now - Shout \\nA little b...</td>\n",
       "      <td>1982</td>\n",
       "      <td>Diner</td>\n",
       "      <td>Diner</td>\n",
       "      <td>0.0</td>\n",
       "      <td>[A, little, bit, softer, now, -, Shout, A, lit...</td>\n",
       "      <td>16868</td>\n",
       "    </tr>\n",
       "    <tr>\n",
       "      <th>2</th>\n",
       "      <td>Road.To.Utopia.1945.1080p.BluRay.x264-[YTS.AM]...</td>\n",
       "      <td>\\nFor those of you who don't go to the movies,...</td>\n",
       "      <td>1945</td>\n",
       "      <td>Road To Utopia</td>\n",
       "      <td>Road to Utopia</td>\n",
       "      <td>0.0</td>\n",
       "      <td>[For, those, of, you, who, do, n't, go, to, th...</td>\n",
       "      <td>15171</td>\n",
       "    </tr>\n",
       "    <tr>\n",
       "      <th>3</th>\n",
       "      <td>Tender Mercies (1983).srt</td>\n",
       "      <td>\\nHere, give me the bottle. \\n- Go to hell. \\n...</td>\n",
       "      <td>1983</td>\n",
       "      <td>Tender Mercies</td>\n",
       "      <td>Tender Mercies</td>\n",
       "      <td>1.0</td>\n",
       "      <td>[Here, ,, give, me, the, bottle, ., -, Go, to,...</td>\n",
       "      <td>9986</td>\n",
       "    </tr>\n",
       "    <tr>\n",
       "      <th>4</th>\n",
       "      <td>Ghandi.1982.1080p.BluRay.x264.YIFY.srt</td>\n",
       "      <td>\\nThere are more than yesterday. \\n\\nHe will b...</td>\n",
       "      <td>1982</td>\n",
       "      <td>Ghandi</td>\n",
       "      <td>Gandhi</td>\n",
       "      <td>1.0</td>\n",
       "      <td>[There, are, more, than, yesterday, ., He, wil...</td>\n",
       "      <td>15581</td>\n",
       "    </tr>\n",
       "  </tbody>\n",
       "</table>\n",
       "</div>"
      ],
      "text/plain": [
       "                                                name  \\\n",
       "0                    Sunset Blvd. (1950)_english.srt   \n",
       "1            Diner.1982.720p.BluRay.x264-AMIABLE.srt   \n",
       "2  Road.To.Utopia.1945.1080p.BluRay.x264-[YTS.AM]...   \n",
       "3                          Tender Mercies (1983).srt   \n",
       "4             Ghandi.1982.1080p.BluRay.x264.YIFY.srt   \n",
       "\n",
       "                                                text years       Movie Name  \\\n",
       "0  \\nYes, this is Sunset Boulevard, Los Angeles, ...  1950    Sunset Blvd     \n",
       "1  \\nA little bit softer now - Shout \\nA little b...  1982           Diner    \n",
       "2  \\nFor those of you who don't go to the movies,...  1945  Road To Utopia    \n",
       "3  \\nHere, give me the bottle. \\n- Go to hell. \\n...  1983  Tender Mercies    \n",
       "4  \\nThere are more than yesterday. \\n\\nHe will b...  1982          Ghandi    \n",
       "\n",
       "  Similarity Calc Name  Win or Loss  \\\n",
       "0     Sunset Boulevard          1.0   \n",
       "1                Diner          0.0   \n",
       "2       Road to Utopia          0.0   \n",
       "3       Tender Mercies          1.0   \n",
       "4               Gandhi          1.0   \n",
       "\n",
       "                                      tokenized_text  num_tokens  \n",
       "0  [Yes, ,, this, is, Sunset, Boulevard, ,, Los, ...       15458  \n",
       "1  [A, little, bit, softer, now, -, Shout, A, lit...       16868  \n",
       "2  [For, those, of, you, who, do, n't, go, to, th...       15171  \n",
       "3  [Here, ,, give, me, the, bottle, ., -, Go, to,...        9986  \n",
       "4  [There, are, more, than, yesterday, ., He, wil...       15581  "
      ]
     },
     "execution_count": 13,
     "metadata": {},
     "output_type": "execute_result"
    }
   ],
   "source": [
    "movie_subtitles_df.head()"
   ]
  },
  {
   "cell_type": "markdown",
   "id": "af58a6d4",
   "metadata": {},
   "source": [
    "#### Most Frequently Occurring Tokens"
   ]
  },
  {
   "cell_type": "code",
   "execution_count": 14,
   "id": "444ff5db",
   "metadata": {},
   "outputs": [
    {
     "name": "stdout",
     "output_type": "stream",
     "text": [
      "Top 50 most frequent tokens:\n",
      ".: 414286\n",
      ",: 232214\n",
      "I: 141293\n",
      "?: 116160\n",
      "you: 115244\n",
      "the: 92202\n",
      "to: 78841\n",
      "'s: 73480\n",
      "a: 69298\n",
      "n't: 53126\n",
      ">: 52743\n",
      "<: 52724\n",
      "-: 51210\n",
      "it: 48673\n",
      "...: 48166\n",
      "!: 46899\n",
      "of: 40656\n",
      "You: 38629\n",
      "that: 38238\n",
      "do: 37603\n",
      "and: 37378\n",
      "in: 35179\n",
      "me: 31524\n",
      "is: 30225\n",
      "i: 26309\n",
      "/i: 25798\n",
      "on: 24445\n",
      "'m: 23886\n",
      "for: 23345\n",
      "'re: 21855\n",
      "have: 21703\n",
      "know: 21232\n",
      "your: 20688\n",
      "be: 20360\n",
      "What: 20156\n",
      "this: 20117\n",
      "It: 19824\n",
      "was: 19415\n",
      "my: 18844\n",
      "we: 18309\n",
      "with: 17123\n",
      "not: 17103\n",
      "are: 16685\n",
      "'ll: 16383\n",
      "he: 15184\n",
      "what: 15001\n",
      "all: 14702\n",
      "No: 13869\n",
      "like: 13832\n",
      "right: 13581\n"
     ]
    }
   ],
   "source": [
    "token_lists = movie_subtitles_df['tokenized_text']\n",
    "\n",
    "# Flatten the list of lists into a single list of tokens\n",
    "all_tokens = [token for sublist in token_lists for token in sublist]\n",
    "\n",
    "# Use Counter to count the occurrences of each token\n",
    "token_counts = Counter(all_tokens)\n",
    "\n",
    "# Get the 50 most common tokens\n",
    "top_50_tokens = token_counts.most_common(50)\n",
    "\n",
    "# Display the result\n",
    "print(\"Top 50 most frequent tokens:\")\n",
    "for token, count in top_50_tokens:\n",
    "    print(f\"{token}: {count}\")"
   ]
  },
  {
   "cell_type": "markdown",
   "id": "ca2755c0",
   "metadata": {},
   "source": [
    "#### Number of Tokens by Year"
   ]
  },
  {
   "cell_type": "code",
   "execution_count": 15,
   "id": "f63eb8c2",
   "metadata": {},
   "outputs": [
    {
     "data": {
      "image/png": "[encoded data removed]",
      "text/plain": [
       "<Figure size 640x480 with 1 Axes>"
      ]
     },
     "metadata": {},
     "output_type": "display_data"
    }
   ],
   "source": [
    "import matplotlib.pyplot as plt\n",
    "\n",
    "# Sort DataFrame by 'years' in ascending order\n",
    "movie_subtitles_df = movie_subtitles_df.sort_values(by='years')\n",
    "\n",
    "# Set x-axis ticks to show only once every other 20 years\n",
    "step = 40  # Adjust the step value as needed\n",
    "plt.xticks(range(0, len(movie_subtitles_df['years']), step), movie_subtitles_df['years'][::step])\n",
    "\n",
    "# Create bar chart\n",
    "plt.bar(movie_subtitles_df.index, movie_subtitles_df['num_tokens'], label='Number of Tokens')\n",
    "plt.xlabel('Year')\n",
    "plt.ylabel('Number of Tokens')\n",
    "plt.title('Number of Tokens by Year')\n",
    "\n",
    "# Plot the average line\n",
    "average_tokens = movie_subtitles_df['num_tokens'].mean()\n",
    "plt.axhline(y=average_tokens, color='red', linestyle='--', label='Average Tokens')\n",
    "\n",
    "# Display the average value\n",
    "plt.text(0.5, average_tokens + 500, f'Average: {average_tokens:.2f}', color='red', ha='left')\n",
    "\n",
    "plt.legend()\n",
    "plt.show()"
   ]
  },
  {
   "cell_type": "markdown",
   "id": "01390cc9",
   "metadata": {},
   "source": [
    "#### Minimum number of tokens vs maximum number of tokens"
   ]
  },
  {
   "cell_type": "code",
   "execution_count": 16,
   "id": "18262083",
   "metadata": {},
   "outputs": [
    {
     "name": "stdout",
     "output_type": "stream",
     "text": [
      "Minimum number of tokens in all scripts:  1125\n",
      "Maximum number of tokens in all scripts:  31547\n"
     ]
    },
    {
     "data": {
      "image/png": "[encoded data removed]",
      "text/plain": [
       "<Figure size 640x480 with 1 Axes>"
      ]
     },
     "metadata": {},
     "output_type": "display_data"
    }
   ],
   "source": [
    "# Minimum number of tokens versus maximum number of tokens\n",
    "min_tokens = min(movie_subtitles_df['num_tokens'])\n",
    "max_tokens = max(movie_subtitles_df['num_tokens'])\n",
    "\n",
    "print('Minimum number of tokens in all scripts: ', min_tokens)\n",
    "print('Maximum number of tokens in all scripts: ', max_tokens)\n",
    "\n",
    "# Plotting the data\n",
    "labels = ['Minimum Tokens', 'Maximum Tokens']\n",
    "values = [min_tokens, max_tokens]\n",
    "\n",
    "plt.bar(labels, values, color=['blue', 'orange'])\n",
    "plt.xlabel('Token Count')\n",
    "plt.ylabel('Number of Tokens')\n",
    "plt.title('Minimum and Maximum Number of Total Tokens in Movie Subtitles')\n",
    "plt.show()"
   ]
  },
  {
   "cell_type": "markdown",
   "id": "dddcc8bf",
   "metadata": {},
   "source": [
    "#### Longest paragraph/line versus shortest paragraph/line, split on line breaks"
   ]
  },
  {
   "cell_type": "code",
   "execution_count": 17,
   "id": "bb61cc36",
   "metadata": {},
   "outputs": [
    {
     "name": "stdout",
     "output_type": "stream",
     "text": [
      "Longest Paragraph length: \n",
      "284\n",
      "\n",
      "Shortest Paragraph length: \n",
      "2\n"
     ]
    },
    {
     "data": {
      "image/png": "[encoded data removed]",
      "text/plain": [
       "<Figure size 640x480 with 1 Axes>"
      ]
     },
     "metadata": {},
     "output_type": "display_data"
    }
   ],
   "source": [
    "# Find the longest and shortest paragraphs\n",
    "max_length = 0\n",
    "min_length = 100000000\n",
    "longest_paragraph = ''\n",
    "shortest_paragraph = ''\n",
    "\n",
    "for index, row in movie_subtitles_df.iterrows():\n",
    "    paragraphs = row['text'].split('\\n')  # Assuming paragraphs are separated by '\\n'\n",
    "    \n",
    "    for paragraph in paragraphs:\n",
    "        paragraph_length = len(paragraph)\n",
    "        \n",
    "        # Update longest paragraph\n",
    "        if paragraph_length > max_length:\n",
    "            max_length = paragraph_length\n",
    "            longest_paragraph = paragraph\n",
    "\n",
    "        # Update shortest paragraph\n",
    "        if paragraph_length < min_length and paragraph.strip():  # Check for non-empty paragraphs\n",
    "            min_length = paragraph_length\n",
    "            shortest_paragraph = paragraph\n",
    "\n",
    "print(\"Longest Paragraph length: \")\n",
    "print(len(longest_paragraph))\n",
    "\n",
    "print(\"\\nShortest Paragraph length: \")\n",
    "print(len(shortest_paragraph))\n",
    "\n",
    "# Plotting the data\n",
    "labels = ['Shortest Paragraph', 'Longest Paragraph']\n",
    "values = [len(shortest_paragraph), len(longest_paragraph)]\n",
    "\n",
    "plt.bar(labels, values, color=['red', 'yellow'])\n",
    "plt.xlabel('Paragraphs in Comparison')\n",
    "plt.ylabel('Length of Paragraph (words)')\n",
    "plt.title('Shortest and Longest Paragraphs in Movie Subtitles')\n",
    "plt.show()"
   ]
  },
  {
   "cell_type": "markdown",
   "id": "d008b8b7",
   "metadata": {},
   "source": [
    "#### See Cosine Similarity Scores Between Movies"
   ]
  },
  {
   "cell_type": "markdown",
   "id": "a89e8303",
   "metadata": {},
   "source": [
    "We were curious to see how similar movie subtitle scripts are to each other in general using cosine similarity scoring, first with stop words, then without stop words."
   ]
  },
  {
   "cell_type": "code",
   "execution_count": 18,
   "id": "29f6b109",
   "metadata": {},
   "outputs": [
    {
     "name": "stdout",
     "output_type": "stream",
     "text": [
      "Average Cosine Similarity Score Without Removing Stopwords: \n",
      "0.6701699398505467\n"
     ]
    }
   ],
   "source": [
    "# Create a TF-IDF vectorizer to conduct similarity test with stop word removal\n",
    "vectorizer = TfidfVectorizer()\n",
    "tfidf_matrix = vectorizer.fit_transform(movie_subtitles_df['text'])\n",
    "\n",
    "# Compute cosine similarity between movies\n",
    "similarity_matrix = cosine_similarity(tfidf_matrix)\n",
    "\n",
    "# Print the average similarity scores\n",
    "print(\"Average Cosine Similarity Score Without Removing Stopwords: \")\n",
    "print(np.mean(similarity_matrix))"
   ]
  },
  {
   "cell_type": "code",
   "execution_count": 19,
   "id": "ca094f51",
   "metadata": {},
   "outputs": [
    {
     "name": "stdout",
     "output_type": "stream",
     "text": [
      "Average Cosine Similarity Score, Removing Stopwords: \n",
      "0.17171533811168818\n"
     ]
    }
   ],
   "source": [
    "# Create a TF-IDF vectorizer to conduct similarity test with stop word removal\n",
    "vectorizer = TfidfVectorizer(stop_words='english')\n",
    "tfidf_matrix = vectorizer.fit_transform(movie_subtitles_df['text'])\n",
    "\n",
    "# Compute cosine similarity between movies\n",
    "similarity_matrix = cosine_similarity(tfidf_matrix)\n",
    "\n",
    "# Print the average similarity scores\n",
    "print(\"Average Cosine Similarity Score, Removing Stopwords: \")\n",
    "print(np.mean(similarity_matrix))"
   ]
  },
  {
   "cell_type": "markdown",
   "id": "499d3666",
   "metadata": {},
   "source": [
    "It appears that when stop words are not removed, movie subtitles are quite similar, scoring .67 in cosine similarity. This seems logical, as subtitles are largely dialogue, and there are frequently occurring pieces of speech in all dialogue. When stop words are removed, the average cosine similarity score drops to .17, which is also logical. This leads us to believe that during classification tasks, models might find it difficult to differentiate between winners and losers of the Academy Award for Best Original Screenplay based on tokens if stop words are not removed, since it appears that there is significant similarity between subtitles."
   ]
  },
  {
   "cell_type": "markdown",
   "id": "dcb28c73",
   "metadata": {},
   "source": [
    "#### Visualizing the 700 most frequently occurring token unigrams between winners and losers, using truncated SVD"
   ]
  },
  {
   "cell_type": "code",
   "execution_count": 20,
   "id": "988c1090",
   "metadata": {
    "scrolled": true
   },
   "outputs": [
    {
     "name": "stdout",
     "output_type": "stream",
     "text": [
      "Features Shape: (355, 700) Labels Shape: (355,)\n"
     ]
    }
   ],
   "source": [
    "# Vectorizer to get token unigram counts\n",
    "vectorizer = TfidfVectorizer(max_features=700, stop_words='english')\n",
    "X = vectorizer.fit_transform(movie_subtitles_df['text'])\n",
    "\n",
    "# Convert the matrix to DataFrame\n",
    "features = pd.DataFrame(X.toarray(), columns=vectorizer.get_feature_names_out())\n",
    "\n",
    "# Set features and labels\n",
    "labels = movie_subtitles_df['Win or Loss']\n",
    "features = features  # No length normalization\n",
    "\n",
    "# Display the shapes of features and labels\n",
    "print('Features Shape:', features.shape, 'Labels Shape:', labels.shape)"
   ]
  },
  {
   "cell_type": "code",
   "execution_count": 21,
   "id": "dbc947f5",
   "metadata": {},
   "outputs": [
    {
     "data": {
      "image/png": "[encoded data removed]",
      "text/plain": [
       "<Figure size 640x480 with 1 Axes>"
      ]
     },
     "metadata": {},
     "output_type": "display_data"
    }
   ],
   "source": [
    "# Plot the feature data, default: 2 dimensional truncated SVD\n",
    "features_reduced = TruncatedSVD().fit_transform(features)\n",
    "sns.scatterplot(x=features_reduced[:,0], y=features_reduced[:,1], hue=labels, alpha=0.2)\n",
    "plt.title('Plotted Feature Data (Award Win vs Loss) Using Truncated SVD')\n",
    "plt.show()"
   ]
  },
  {
   "cell_type": "markdown",
   "id": "df256547",
   "metadata": {},
   "source": [
    "## Create Chunks of Tokens out of the Paragraphs"
   ]
  },
  {
   "cell_type": "markdown",
   "id": "031bd3bb",
   "metadata": {},
   "source": [
    "Since there is a significant discrepancy between the lengths of the shortest \"paragraph\" and the longest \"paragraph\", we felt like creating standardized chunks of tokens to feed into our vectorizer could help normalize our vectors and provide more informative outputs."
   ]
  },
  {
   "cell_type": "code",
   "execution_count": 22,
   "id": "edbc625a",
   "metadata": {
    "tags": []
   },
   "outputs": [],
   "source": [
    "def generate_chunks(paragraphs, movie, year, win_loss, chunk_size=200):\n",
    "    chunks = []\n",
    "    chunk_movie_name = []\n",
    "    chunk_year = []\n",
    "    chunk_win_loss = []\n",
    "\n",
    "    for i in range(len(paragraphs)):\n",
    "        text = paragraphs.iloc[i]  # Extract the text from the Series\n",
    "        newsletter_type = movie.iloc[i]\n",
    "        date = year.iloc[i]\n",
    "        result = win_loss.iloc[i]\n",
    "\n",
    "        # Split the text into paragraphs using '\\n'\n",
    "        text_paragraphs = text.split('\\n')\n",
    "\n",
    "        current_chunk = []\n",
    "        current_chunk_movie_name = []\n",
    "        current_chunk_win_loss = []\n",
    "\n",
    "        for paragraph in text_paragraphs:\n",
    "            # Check if the length of the paragraph exceeds the chunk size\n",
    "            if len(paragraph) > chunk_size:\n",
    "                chunks.append(paragraph)\n",
    "                chunk_movie_name.append(newsletter_type)\n",
    "                chunk_year.append(date)\n",
    "                chunk_win_loss.append(result)\n",
    "            else:\n",
    "                # If not, add the paragraph to the current chunk\n",
    "                current_chunk.append(paragraph)\n",
    "                current_chunk_movie_name.append(newsletter_type)\n",
    "                current_chunk_win_loss.append(result)\n",
    "\n",
    "                # Check if the current chunk size exceeds the specified limit\n",
    "                if len(' '.join(current_chunk)) > chunk_size:\n",
    "                    chunks.append(' '.join(current_chunk))\n",
    "                    chunk_year.extend([date])\n",
    "                    chunk_movie_name.append(newsletter_type)\n",
    "                    chunk_win_loss.append(result)\n",
    "                    current_chunk = []\n",
    "                    current_chunk_movie_name = []\n",
    "                    current_chunk_win_loss = []\n",
    "\n",
    "        # Add any remaining paragraphs to the last chunk\n",
    "        if current_chunk:\n",
    "            chunks.append(' '.join(current_chunk))\n",
    "            chunk_year.extend([date])\n",
    "            chunk_movie_name.append(newsletter_type)\n",
    "            chunk_win_loss.append(result)\n",
    "\n",
    "    return chunks, chunk_movie_name, chunk_year, chunk_win_loss\n",
    "\n",
    "# Generate chunks\n",
    "text_chunks, chunk_movie_name, chunk_year, chunk_win_loss = generate_chunks(\n",
    "    movie_subtitles_df['text'],\n",
    "    movie_subtitles_df['Similarity Calc Name'],\n",
    "    movie_subtitles_df['years'],\n",
    "    movie_subtitles_df['Win or Loss']\n",
    ")\n"
   ]
  },
  {
   "cell_type": "code",
   "execution_count": 23,
   "id": "a397206d",
   "metadata": {},
   "outputs": [
    {
     "data": {
      "text/html": [
       "<div>\n",
       "<style scoped>\n",
       "    .dataframe tbody tr th:only-of-type {\n",
       "        vertical-align: middle;\n",
       "    }\n",
       "\n",
       "    .dataframe tbody tr th {\n",
       "        vertical-align: top;\n",
       "    }\n",
       "\n",
       "    .dataframe thead th {\n",
       "        text-align: right;\n",
       "    }\n",
       "</style>\n",
       "<table border=\"1\" class=\"dataframe\">\n",
       "  <thead>\n",
       "    <tr style=\"text-align: right;\">\n",
       "      <th></th>\n",
       "      <th>Text Chunk</th>\n",
       "      <th>Movie Name</th>\n",
       "      <th>Year</th>\n",
       "      <th>Win or Loss</th>\n",
       "    </tr>\n",
       "  </thead>\n",
       "  <tbody>\n",
       "    <tr>\n",
       "      <th>0</th>\n",
       "      <td>What's new?  - Same old daily bunkeroo.   Mr....</td>\n",
       "      <td>Foreign Correspondent</td>\n",
       "      <td>1940</td>\n",
       "      <td>0.0</td>\n",
       "    </tr>\n",
       "    <tr>\n",
       "      <th>1</th>\n",
       "      <td>Bah!   Foreign correspondent!   I could get mo...</td>\n",
       "      <td>Foreign Correspondent</td>\n",
       "      <td>1940</td>\n",
       "      <td>0.0</td>\n",
       "    </tr>\n",
       "    <tr>\n",
       "      <th>2</th>\n",
       "      <td>is a daily guessing game.   I want some facts...</td>\n",
       "      <td>Foreign Correspondent</td>\n",
       "      <td>1940</td>\n",
       "      <td>0.0</td>\n",
       "    </tr>\n",
       "    <tr>\n",
       "      <th>3</th>\n",
       "      <td>You've written a book on economics or somethi...</td>\n",
       "      <td>Foreign Correspondent</td>\n",
       "      <td>1940</td>\n",
       "      <td>0.0</td>\n",
       "    </tr>\n",
       "    <tr>\n",
       "      <th>4</th>\n",
       "      <td>I want a reporter, somebody who doesn't know ...</td>\n",
       "      <td>Foreign Correspondent</td>\n",
       "      <td>1940</td>\n",
       "      <td>0.0</td>\n",
       "    </tr>\n",
       "    <tr>\n",
       "      <th>...</th>\n",
       "      <td>...</td>\n",
       "      <td>...</td>\n",
       "      <td>...</td>\n",
       "      <td>...</td>\n",
       "    </tr>\n",
       "    <tr>\n",
       "      <th>90449</th>\n",
       "      <td>&lt;i&gt;What you mean?&lt;/i&gt;  &lt;i&gt;Nein, nein, nein...&lt;...</td>\n",
       "      <td>Triangle of Sadness</td>\n",
       "      <td>2022</td>\n",
       "      <td>0.0</td>\n",
       "    </tr>\n",
       "    <tr>\n",
       "      <th>90450</th>\n",
       "      <td>Abigail!  - Yaya!   Yaya!   Abigail!   Abigai...</td>\n",
       "      <td>Triangle of Sadness</td>\n",
       "      <td>2022</td>\n",
       "      <td>0.0</td>\n",
       "    </tr>\n",
       "    <tr>\n",
       "      <th>90451</th>\n",
       "      <td>It's been there the whole fucking time, Abiga...</td>\n",
       "      <td>Triangle of Sadness</td>\n",
       "      <td>2022</td>\n",
       "      <td>0.0</td>\n",
       "    </tr>\n",
       "    <tr>\n",
       "      <th>90452</th>\n",
       "      <td>- Ah...   Sorry.   Let's go.   I need to wee-w...</td>\n",
       "      <td>Triangle of Sadness</td>\n",
       "      <td>2022</td>\n",
       "      <td>0.0</td>\n",
       "    </tr>\n",
       "    <tr>\n",
       "      <th>90453</th>\n",
       "      <td>You could be my assistant.   Aargh!   Fuck!  ...</td>\n",
       "      <td>Triangle of Sadness</td>\n",
       "      <td>2022</td>\n",
       "      <td>0.0</td>\n",
       "    </tr>\n",
       "  </tbody>\n",
       "</table>\n",
       "<p>90454 rows × 4 columns</p>\n",
       "</div>"
      ],
      "text/plain": [
       "                                              Text Chunk  \\\n",
       "0       What's new?  - Same old daily bunkeroo.   Mr....   \n",
       "1      Bah!   Foreign correspondent!   I could get mo...   \n",
       "2       is a daily guessing game.   I want some facts...   \n",
       "3       You've written a book on economics or somethi...   \n",
       "4       I want a reporter, somebody who doesn't know ...   \n",
       "...                                                  ...   \n",
       "90449  <i>What you mean?</i>  <i>Nein, nein, nein...<...   \n",
       "90450   Abigail!  - Yaya!   Yaya!   Abigail!   Abigai...   \n",
       "90451   It's been there the whole fucking time, Abiga...   \n",
       "90452  - Ah...   Sorry.   Let's go.   I need to wee-w...   \n",
       "90453   You could be my assistant.   Aargh!   Fuck!  ...   \n",
       "\n",
       "                  Movie Name  Year  Win or Loss  \n",
       "0      Foreign Correspondent  1940          0.0  \n",
       "1      Foreign Correspondent  1940          0.0  \n",
       "2      Foreign Correspondent  1940          0.0  \n",
       "3      Foreign Correspondent  1940          0.0  \n",
       "4      Foreign Correspondent  1940          0.0  \n",
       "...                      ...   ...          ...  \n",
       "90449    Triangle of Sadness  2022          0.0  \n",
       "90450    Triangle of Sadness  2022          0.0  \n",
       "90451    Triangle of Sadness  2022          0.0  \n",
       "90452    Triangle of Sadness  2022          0.0  \n",
       "90453    Triangle of Sadness  2022          0.0  \n",
       "\n",
       "[90454 rows x 4 columns]"
      ]
     },
     "execution_count": 23,
     "metadata": {},
     "output_type": "execute_result"
    }
   ],
   "source": [
    "# Visualize token chunk features\n",
    "chunks_df = pd.DataFrame({\n",
    "    'Text Chunk': text_chunks,\n",
    "    'Movie Name': chunk_movie_name,\n",
    "    'Year': chunk_year,\n",
    "    'Win or Loss': chunk_win_loss\n",
    "})\n",
    "\n",
    "chunks_df"
   ]
  },
  {
   "cell_type": "code",
   "execution_count": 24,
   "id": "d6068005",
   "metadata": {},
   "outputs": [],
   "source": [
    "# TFIDF Vectorizer with idf on\n",
    "chunk_vectorizer = TfidfVectorizer(use_idf=True, norm=None)"
   ]
  },
  {
   "cell_type": "code",
   "execution_count": 25,
   "id": "9e17b6be",
   "metadata": {
    "tags": []
   },
   "outputs": [],
   "source": [
    "# Vectorize chunked texts\n",
    "X_chunked = chunk_vectorizer.fit_transform(text_chunks)"
   ]
  },
  {
   "cell_type": "markdown",
   "id": "e9542aa6",
   "metadata": {},
   "source": [
    "# 3. Unsupervised Cluster Analysis\n",
    "\n",
    "An initial unsupervised cluster analysis was performed to identify any discernible patterns in the data prior to further processing. Potential areas of pattern appearance are hypothesized to potentially be: winners/losers, movie release time period, and differences in sentiment.\n",
    "\n",
    "First, we used the elbow method to try and identify the optimal number of clusters for which to perform the KMeans cluster analysis. For each value of K, we are calculating WCSS (Within-Cluster Sum of Square). WCSS is the sum of the squared distance between each point and the centroid in a cluster."
   ]
  },
  {
   "cell_type": "code",
   "execution_count": 26,
   "id": "887fede5",
   "metadata": {},
   "outputs": [],
   "source": [
    "# # Using the elbow method to find the optimal number of clusters\n",
    "# # Referenced: https://www.analyticsvidhya.com/blog/2021/01/in-depth-intuition-of-k-means-clustering-algorithm-in-machine-learning/\n",
    "\n",
    "# wcss = [] \n",
    "# t0 = time.time()\n",
    "# for i in range(1, 20): \n",
    "#     kmeans = KMeans(n_clusters = i, init = 'k-means++', random_state = 42)\n",
    "#     kmeans.fit(X_chunked) \n",
    "#     wcss.append(kmeans.inertia_)\n",
    "# t1 = time.time()\n",
    "    \n",
    "# print(\"Plotting the Elbow curve took:{:.1f}s \".format(t1-t0))\n",
    "\n",
    "# # Plotting the Elbow Curve\n",
    "# plt.figure(figsize=(8, 6))\n",
    "# plt.plot(range(1, 20), wcss, marker='o', linestyle='-', color='b')\n",
    "# plt.title('Elbow Method for Optimal K')\n",
    "# plt.xlabel('Number of Clusters (K)')\n",
    "# plt.ylabel('Within-Cluster-Sum-of-Squares (WCSS)')\n",
    "# plt.show()"
   ]
  },
  {
   "cell_type": "code",
   "execution_count": 27,
   "id": "bec678c7",
   "metadata": {
    "tags": []
   },
   "outputs": [],
   "source": [
    "# y_pred = KMeans(n_clusters=2, n_init='auto').fit_predict(X_chunked)"
   ]
  },
  {
   "cell_type": "code",
   "execution_count": 28,
   "id": "5b35ccad",
   "metadata": {},
   "outputs": [],
   "source": [
    "# # Plotting function\n",
    "# def plot_compare(X, labels, title, alpha=0.2):\n",
    "#     '''\n",
    "#     Takes an array of object data, a list of cluster labels, a title string, and an optional alpha value.\n",
    "#     Reduces dimensions to 2 if necessary and plots the clustering with and without coloring by label.\n",
    "#     Returns nothing.\n",
    "#     '''\n",
    "#     if X.shape[1] > 2:\n",
    "#         svd = TruncatedSVD(n_components=3)\n",
    "#         X_2d = svd.fit_transform(X)\n",
    "#     else:\n",
    "#         X_2d = X\n",
    "\n",
    "#     # initialize figsize in prompt\n",
    "#     plt.figure(figsize=(12, 6))\n",
    "\n",
    "#     # left subplot, alpha value in function cell\n",
    "#     plt.subplot(121)\n",
    "#     plt.scatter(X_2d[:, 0], X_2d[:, 1], alpha=alpha)\n",
    "#     plt.title(\"Dimension-Reduced Unclustered Data\")\n",
    "\n",
    "#     # right subplot, same coordinate data and supplied cluster labels, alpha value in function cell\n",
    "#     plt.subplot(122)\n",
    "#     plt.scatter(X_2d[:, 0], X_2d[:, 1], c=labels, alpha=alpha)\n",
    "#     plt.title(\"Data with Clustering\")\n",
    "\n",
    "#     # Set the common title for the entire figure\n",
    "#     plt.title(title)"
   ]
  },
  {
   "cell_type": "code",
   "execution_count": 29,
   "id": "f428f18c",
   "metadata": {},
   "outputs": [],
   "source": [
    "# # plot resulting clustering\n",
    "# plot_compare(X_chunked, y_pred, 'k-Means Clustering with 3 Groups on Vectorized Movie Data')"
   ]
  },
  {
   "cell_type": "markdown",
   "id": "037e3f1f",
   "metadata": {},
   "source": [
    "Since the Within-Cluster-Sum-of-Squares (WCSS) does not seem to show a clear elbow during the KMeans analysis, we realized that KMeans might not be the best algorithm to try and determine patterns or clusters in the data. Since there is no distinct elbow, interpretation is also much less straightforward. Therefore, it is difficult to try to support or reject the hypotheses set out at the onset of the KMeans analysis. "
   ]
  },
  {
   "cell_type": "markdown",
   "id": "02b242a5",
   "metadata": {},
   "source": [
    "# 4. Baseline Supervised Classification Task for Winner vs Loser Classification Using Top 100 Unigram Token Features"
   ]
  },
  {
   "cell_type": "markdown",
   "id": "62e6fe8e",
   "metadata": {},
   "source": [
    "#### Identifying the top 100 features\n",
    "Referenced PS2 method"
   ]
  },
  {
   "cell_type": "code",
   "execution_count": 52,
   "id": "49670c8b",
   "metadata": {},
   "outputs": [
    {
     "name": "stdout",
     "output_type": "stream",
     "text": [
      "Features Shape: (355, 53266) Labels Shape: (355,)\n"
     ]
    }
   ],
   "source": [
    "# Create a Vectorizer to get token unigram counts\n",
    "vectorizer = TfidfVectorizer()\n",
    "X = vectorizer.fit_transform(movie_subtitles_df['text'])\n",
    "\n",
    "# Convert the TF-IDF matrix to a DataFrame\n",
    "features = pd.DataFrame(X.toarray(), columns=vectorizer.get_feature_names_out())\n",
    "\n",
    "# Set features and labels\n",
    "labels = movie_subtitles_df['Win or Loss']\n",
    "features = features\n",
    "\n",
    "# Display the shapes of features and labels\n",
    "print('Features Shape:', features.shape, 'Labels Shape:', labels.shape)"
   ]
  },
  {
   "cell_type": "code",
   "execution_count": 72,
   "id": "5a1f1dbc",
   "metadata": {},
   "outputs": [
    {
     "name": "stdout",
     "output_type": "stream",
     "text": [
      "Top 100 features (Random Forest): ['massage' 'settled' 'stud' 'tellin' 'at' 'total' 'nazi' 'statistically'\n",
      " 'psycho' 'dieu' 'trunk' 'blew' 'safer' 'phobias' 'band' 'riot' 'raymond'\n",
      " 'tiptop' 'jackrabbit' 'starry' 'turnin' 'accessory' 'says' 'now' 'woo'\n",
      " 'receding' 'community' 'watchin' 'runner' 'directly' 'maker' 'are' 'lady'\n",
      " 'hope' 'harmless' 'setup' 'walters' 'saying' 'an' 'meetin' 'worryin'\n",
      " 'rob' 'bury' 'desired' 'gob' 'most' 'certainly' 'claude' 'nothing'\n",
      " 'metro' 'scholar' 'witnesses' 'talked' 'guitar' 'clinging' 'gay' 'sis'\n",
      " 'keep' 'california' 'add' 'tell' 'known' 'hoot' 'fascinated' 'healthy'\n",
      " 'larger' 'gallons' 'will' 'lip' 'butch' 'opens' 'approach' 'said'\n",
      " 'catches' 'faced' 'sang' 'welcome' 'traditionally' 'nigger' 'girl' 'done'\n",
      " 'guest' 'white' 'bent' 'fan' 'stewardess' 'texas' 'friendly' 'vast'\n",
      " 'elvis' 'chief' 'mourning' 'su' 'lungs' 'past' 'songs' 'shows' '200'\n",
      " 'very' 'jennings']\n"
     ]
    }
   ],
   "source": [
    "# Train the model on the full feature set\n",
    "rf_full = RandomForestClassifier()\n",
    "rf_full.fit(features, labels)\n",
    "\n",
    "# Get feature importances\n",
    "importances = rf_full.feature_importances_\n",
    "indices = importances.argsort()[::-1]\n",
    "\n",
    "# Select the top 100 features\n",
    "top_100_features_rf = np.array(vectorizer.get_feature_names_out())[indices][:100]\n",
    "print(\"Top 100 features (Random Forest):\", top_100_features_rf)"
   ]
  },
  {
   "cell_type": "code",
   "execution_count": 54,
   "id": "7d4961e2",
   "metadata": {},
   "outputs": [],
   "source": [
    "X_top_100 = features[top_100_features_rf]\n",
    "y = labels"
   ]
  },
  {
   "cell_type": "markdown",
   "id": "e5302fa3",
   "metadata": {},
   "source": [
    "## Logistic Regression"
   ]
  },
  {
   "cell_type": "code",
   "execution_count": 55,
   "id": "1f982339",
   "metadata": {},
   "outputs": [],
   "source": [
    "# Train test val split\n",
    "X_train_temp, X_test, y_train_temp, y_test = train_test_split(X_top_100, y, test_size=0.3, random_state=42)\n",
    "X_train, X_val, y_train, y_val = train_test_split(X_train_temp, y_train_temp, test_size=0.5, random_state=42)\n",
    "\n",
    "# Extract NumPy arrays from DataFrames\n",
    "X_train_array = X_train.values\n",
    "X_val_array = X_val.values\n",
    "X_test_array = X_test.values"
   ]
  },
  {
   "cell_type": "code",
   "execution_count": 56,
   "id": "ad8e63eb",
   "metadata": {},
   "outputs": [
    {
     "name": "stdout",
     "output_type": "stream",
     "text": [
      "              precision    recall  f1-score   support\n",
      "\n",
      "         0.0       0.81      1.00      0.89       100\n",
      "         1.0       1.00      0.00      0.00        24\n",
      "\n",
      "    accuracy                           0.81       124\n",
      "   macro avg       0.90      0.50      0.45       124\n",
      "weighted avg       0.84      0.81      0.72       124\n",
      "\n"
     ]
    }
   ],
   "source": [
    "# Train logistic regression model on data\n",
    "logreg_clf = LogisticRegression(max_iter=10000).fit(X_train_array, y_train)\n",
    "\n",
    "# Predict on the validation data\n",
    "y_val_pred = logreg_clf.predict(X_val_array)\n",
    "print(classification_report(y_val, y_val_pred, zero_division = 1))"
   ]
  },
  {
   "cell_type": "code",
   "execution_count": 57,
   "id": "9bc419ca",
   "metadata": {},
   "outputs": [
    {
     "name": "stdout",
     "output_type": "stream",
     "text": [
      "              precision    recall  f1-score   support\n",
      "\n",
      "         0.0       0.80      1.00      0.89        86\n",
      "         1.0       1.00      0.00      0.00        21\n",
      "\n",
      "    accuracy                           0.80       107\n",
      "   macro avg       0.90      0.50      0.45       107\n",
      "weighted avg       0.84      0.80      0.72       107\n",
      "\n"
     ]
    }
   ],
   "source": [
    "# Predict on test set\n",
    "y_test_pred = logreg_clf.predict(X_test_array)\n",
    "print(classification_report(y_test, y_test_pred, zero_division = 1))"
   ]
  },
  {
   "cell_type": "markdown",
   "id": "05656be4",
   "metadata": {},
   "source": [
    "## Random Forest"
   ]
  },
  {
   "cell_type": "code",
   "execution_count": 59,
   "id": "96d7c577",
   "metadata": {},
   "outputs": [
    {
     "data": {
      "text/html": [
       "<style>#sk-container-id-5 {color: black;}#sk-container-id-5 pre{padding: 0;}#sk-container-id-5 div.sk-toggleable {background-color: white;}#sk-container-id-5 label.sk-toggleable__label {cursor: pointer;display: block;width: 100%;margin-bottom: 0;padding: 0.3em;box-sizing: border-box;text-align: center;}#sk-container-id-5 label.sk-toggleable__label-arrow:before {content: \"▸\";float: left;margin-right: 0.25em;color: #696969;}#sk-container-id-5 label.sk-toggleable__label-arrow:hover:before {color: black;}#sk-container-id-5 div.sk-estimator:hover label.sk-toggleable__label-arrow:before {color: black;}#sk-container-id-5 div.sk-toggleable__content {max-height: 0;max-width: 0;overflow: hidden;text-align: left;background-color: #f0f8ff;}#sk-container-id-5 div.sk-toggleable__content pre {margin: 0.2em;color: black;border-radius: 0.25em;background-color: #f0f8ff;}#sk-container-id-5 input.sk-toggleable__control:checked~div.sk-toggleable__content {max-height: 200px;max-width: 100%;overflow: auto;}#sk-container-id-5 input.sk-toggleable__control:checked~label.sk-toggleable__label-arrow:before {content: \"▾\";}#sk-container-id-5 div.sk-estimator input.sk-toggleable__control:checked~label.sk-toggleable__label {background-color: #d4ebff;}#sk-container-id-5 div.sk-label input.sk-toggleable__control:checked~label.sk-toggleable__label {background-color: #d4ebff;}#sk-container-id-5 input.sk-hidden--visually {border: 0;clip: rect(1px 1px 1px 1px);clip: rect(1px, 1px, 1px, 1px);height: 1px;margin: -1px;overflow: hidden;padding: 0;position: absolute;width: 1px;}#sk-container-id-5 div.sk-estimator {font-family: monospace;background-color: #f0f8ff;border: 1px dotted black;border-radius: 0.25em;box-sizing: border-box;margin-bottom: 0.5em;}#sk-container-id-5 div.sk-estimator:hover {background-color: #d4ebff;}#sk-container-id-5 div.sk-parallel-item::after {content: \"\";width: 100%;border-bottom: 1px solid gray;flex-grow: 1;}#sk-container-id-5 div.sk-label:hover label.sk-toggleable__label {background-color: #d4ebff;}#sk-container-id-5 div.sk-serial::before {content: \"\";position: absolute;border-left: 1px solid gray;box-sizing: border-box;top: 0;bottom: 0;left: 50%;z-index: 0;}#sk-container-id-5 div.sk-serial {display: flex;flex-direction: column;align-items: center;background-color: white;padding-right: 0.2em;padding-left: 0.2em;position: relative;}#sk-container-id-5 div.sk-item {position: relative;z-index: 1;}#sk-container-id-5 div.sk-parallel {display: flex;align-items: stretch;justify-content: center;background-color: white;position: relative;}#sk-container-id-5 div.sk-item::before, #sk-container-id-5 div.sk-parallel-item::before {content: \"\";position: absolute;border-left: 1px solid gray;box-sizing: border-box;top: 0;bottom: 0;left: 50%;z-index: -1;}#sk-container-id-5 div.sk-parallel-item {display: flex;flex-direction: column;z-index: 1;position: relative;background-color: white;}#sk-container-id-5 div.sk-parallel-item:first-child::after {align-self: flex-end;width: 50%;}#sk-container-id-5 div.sk-parallel-item:last-child::after {align-self: flex-start;width: 50%;}#sk-container-id-5 div.sk-parallel-item:only-child::after {width: 0;}#sk-container-id-5 div.sk-dashed-wrapped {border: 1px dashed gray;margin: 0 0.4em 0.5em 0.4em;box-sizing: border-box;padding-bottom: 0.4em;background-color: white;}#sk-container-id-5 div.sk-label label {font-family: monospace;font-weight: bold;display: inline-block;line-height: 1.2em;}#sk-container-id-5 div.sk-label-container {text-align: center;}#sk-container-id-5 div.sk-container {/* jupyter's `normalize.less` sets `[hidden] { display: none; }` but bootstrap.min.css set `[hidden] { display: none !important; }` so we also need the `!important` here to be able to override the default hidden behavior on the sphinx rendered scikit-learn.org. See: https://github.com/scikit-learn/scikit-learn/issues/21755 */display: inline-block !important;position: relative;}#sk-container-id-5 div.sk-text-repr-fallback {display: none;}</style><div id=\"sk-container-id-5\" class=\"sk-top-container\"><div class=\"sk-text-repr-fallback\"><pre>RandomForestClassifier(random_state=42)</pre><b>In a Jupyter environment, please rerun this cell to show the HTML representation or trust the notebook. <br />On GitHub, the HTML representation is unable to render, please try loading this page with nbviewer.org.</b></div><div class=\"sk-container\" hidden><div class=\"sk-item\"><div class=\"sk-estimator sk-toggleable\"><input class=\"sk-toggleable__control sk-hidden--visually\" id=\"sk-estimator-id-5\" type=\"checkbox\" checked><label for=\"sk-estimator-id-5\" class=\"sk-toggleable__label sk-toggleable__label-arrow\">RandomForestClassifier</label><div class=\"sk-toggleable__content\"><pre>RandomForestClassifier(random_state=42)</pre></div></div></div></div></div>"
      ],
      "text/plain": [
       "RandomForestClassifier(random_state=42)"
      ]
     },
     "execution_count": 59,
     "metadata": {},
     "output_type": "execute_result"
    }
   ],
   "source": [
    "# Train random forest  classifier\n",
    "rf_clf = RandomForestClassifier(n_estimators=100, random_state=42)\n",
    "rf_clf.fit(X_train_array, y_train)"
   ]
  },
  {
   "cell_type": "code",
   "execution_count": 60,
   "id": "2fa2a85f",
   "metadata": {},
   "outputs": [
    {
     "name": "stdout",
     "output_type": "stream",
     "text": [
      "              precision    recall  f1-score   support\n",
      "\n",
      "         0.0       0.81      1.00      0.90       100\n",
      "         1.0       1.00      0.04      0.08        24\n",
      "\n",
      "    accuracy                           0.81       124\n",
      "   macro avg       0.91      0.52      0.49       124\n",
      "weighted avg       0.85      0.81      0.74       124\n",
      "\n"
     ]
    }
   ],
   "source": [
    "# Predict on validation set\n",
    "rf_val_predictions = rf_clf.predict(X_val_array)\n",
    "print(classification_report(y_val, rf_val_predictions, zero_division=1))"
   ]
  },
  {
   "cell_type": "code",
   "execution_count": 61,
   "id": "6f041c88",
   "metadata": {},
   "outputs": [
    {
     "name": "stdout",
     "output_type": "stream",
     "text": [
      "              precision    recall  f1-score   support\n",
      "\n",
      "         0.0       0.81      1.00      0.90        86\n",
      "         1.0       1.00      0.05      0.09        21\n",
      "\n",
      "    accuracy                           0.81       107\n",
      "   macro avg       0.91      0.52      0.49       107\n",
      "weighted avg       0.85      0.81      0.74       107\n",
      "\n"
     ]
    }
   ],
   "source": [
    "# Predict on test set\n",
    "rf_test_predictions = rf_clf.predict(X_test_array)\n",
    "print(classification_report(y_test, rf_test_predictions, zero_division=1))"
   ]
  },
  {
   "cell_type": "markdown",
   "id": "0c396ff9",
   "metadata": {},
   "source": [
    "# 5. Baseline Supervised Classification Task for Winner vs Loser Classification Using Token Chunk Features"
   ]
  },
  {
   "cell_type": "markdown",
   "id": "5ecaeebd",
   "metadata": {},
   "source": [
    "We aimed to apply two commonly used supervised classification methods (Logistic Regression and Random Forest) to set a baseline understanding of whether classifying movies into winner or loser categories for the Academy Awards Best Original Screenplay was possible."
   ]
  },
  {
   "cell_type": "markdown",
   "id": "8d2dcc6b",
   "metadata": {},
   "source": [
    "#### Pre-processing and creating train test split"
   ]
  },
  {
   "cell_type": "code",
   "execution_count": 62,
   "id": "07b2c96f",
   "metadata": {},
   "outputs": [],
   "source": [
    "X = text_chunks\n",
    "y = chunk_win_loss"
   ]
  },
  {
   "cell_type": "code",
   "execution_count": 63,
   "id": "09197195",
   "metadata": {},
   "outputs": [],
   "source": [
    "# Train test val Split\n",
    "X_train, X_temp, y_train, y_temp = train_test_split(X, y, test_size=0.3, random_state=42, stratify=y)\n",
    "X_val, X_test, y_val, y_test = train_test_split(X_temp, y_temp, test_size=0.5, random_state=42, stratify=y_temp)"
   ]
  },
  {
   "cell_type": "markdown",
   "id": "b7b161fd",
   "metadata": {},
   "source": [
    "I set a 70%, 15%, 15% split for training, test, and validation sets, respectively. I also introduced stratification of the datasets to maintain the distribution of classes in each subset."
   ]
  },
  {
   "cell_type": "code",
   "execution_count": 64,
   "id": "ac567875",
   "metadata": {},
   "outputs": [],
   "source": [
    "baseline_classification_vectorizer = TfidfVectorizer(use_idf=True, norm=None)"
   ]
  },
  {
   "cell_type": "code",
   "execution_count": 65,
   "id": "64ea7a1e",
   "metadata": {},
   "outputs": [],
   "source": [
    "X_train_transformed = baseline_classification_vectorizer.fit_transform(X_train)\n",
    "X_test_transformed = baseline_classification_vectorizer.transform(X_test)\n",
    "X_val_transformed = baseline_classification_vectorizer.transform(X_val)"
   ]
  },
  {
   "cell_type": "markdown",
   "id": "6f2f5010",
   "metadata": {},
   "source": [
    "## Logistic Regression"
   ]
  },
  {
   "cell_type": "code",
   "execution_count": 66,
   "id": "5ba7dc87",
   "metadata": {},
   "outputs": [],
   "source": [
    "# Train logistic regression classifier\n",
    "logreg_clf = LogisticRegression(max_iter = 10000).fit(X_train_transformed, y_train)"
   ]
  },
  {
   "cell_type": "code",
   "execution_count": 67,
   "id": "ad28fb7b",
   "metadata": {},
   "outputs": [
    {
     "name": "stdout",
     "output_type": "stream",
     "text": [
      "              precision    recall  f1-score   support\n",
      "\n",
      "         0.0       0.87      0.87      0.87     10720\n",
      "         1.0       0.52      0.53      0.52      2848\n",
      "\n",
      "    accuracy                           0.80     13568\n",
      "   macro avg       0.70      0.70      0.70     13568\n",
      "weighted avg       0.80      0.80      0.80     13568\n",
      "\n"
     ]
    }
   ],
   "source": [
    "# Predict on validation set\n",
    "logreg_val_predictions = logreg_clf.predict(X_val_transformed)\n",
    "print(classification_report(y_val, logreg_val_predictions, zero_division=1))"
   ]
  },
  {
   "cell_type": "code",
   "execution_count": 68,
   "id": "0b63ef46",
   "metadata": {},
   "outputs": [
    {
     "name": "stdout",
     "output_type": "stream",
     "text": [
      "              precision    recall  f1-score   support\n",
      "\n",
      "         0.0       0.88      0.86      0.87     10720\n",
      "         1.0       0.51      0.54      0.53      2849\n",
      "\n",
      "    accuracy                           0.80     13569\n",
      "   macro avg       0.69      0.70      0.70     13569\n",
      "weighted avg       0.80      0.80      0.80     13569\n",
      "\n"
     ]
    }
   ],
   "source": [
    "# Predict on test set\n",
    "logreg_test_predictions = logreg_clf.predict(X_test_transformed)\n",
    "print(classification_report(y_test, logreg_test_predictions, zero_division=1))"
   ]
  },
  {
   "cell_type": "markdown",
   "id": "d2f01154",
   "metadata": {},
   "source": [
    "It seems as though the logistic regression classifier is essentially predicting that all movie scripts will lose and not win the Academy Award for Best Original Screenplay. "
   ]
  },
  {
   "cell_type": "markdown",
   "id": "5e59289c",
   "metadata": {},
   "source": [
    "## Random Forest"
   ]
  },
  {
   "cell_type": "code",
   "execution_count": 69,
   "id": "caa2d68f",
   "metadata": {},
   "outputs": [
    {
     "data": {
      "text/html": [
       "<style>#sk-container-id-6 {color: black;}#sk-container-id-6 pre{padding: 0;}#sk-container-id-6 div.sk-toggleable {background-color: white;}#sk-container-id-6 label.sk-toggleable__label {cursor: pointer;display: block;width: 100%;margin-bottom: 0;padding: 0.3em;box-sizing: border-box;text-align: center;}#sk-container-id-6 label.sk-toggleable__label-arrow:before {content: \"▸\";float: left;margin-right: 0.25em;color: #696969;}#sk-container-id-6 label.sk-toggleable__label-arrow:hover:before {color: black;}#sk-container-id-6 div.sk-estimator:hover label.sk-toggleable__label-arrow:before {color: black;}#sk-container-id-6 div.sk-toggleable__content {max-height: 0;max-width: 0;overflow: hidden;text-align: left;background-color: #f0f8ff;}#sk-container-id-6 div.sk-toggleable__content pre {margin: 0.2em;color: black;border-radius: 0.25em;background-color: #f0f8ff;}#sk-container-id-6 input.sk-toggleable__control:checked~div.sk-toggleable__content {max-height: 200px;max-width: 100%;overflow: auto;}#sk-container-id-6 input.sk-toggleable__control:checked~label.sk-toggleable__label-arrow:before {content: \"▾\";}#sk-container-id-6 div.sk-estimator input.sk-toggleable__control:checked~label.sk-toggleable__label {background-color: #d4ebff;}#sk-container-id-6 div.sk-label input.sk-toggleable__control:checked~label.sk-toggleable__label {background-color: #d4ebff;}#sk-container-id-6 input.sk-hidden--visually {border: 0;clip: rect(1px 1px 1px 1px);clip: rect(1px, 1px, 1px, 1px);height: 1px;margin: -1px;overflow: hidden;padding: 0;position: absolute;width: 1px;}#sk-container-id-6 div.sk-estimator {font-family: monospace;background-color: #f0f8ff;border: 1px dotted black;border-radius: 0.25em;box-sizing: border-box;margin-bottom: 0.5em;}#sk-container-id-6 div.sk-estimator:hover {background-color: #d4ebff;}#sk-container-id-6 div.sk-parallel-item::after {content: \"\";width: 100%;border-bottom: 1px solid gray;flex-grow: 1;}#sk-container-id-6 div.sk-label:hover label.sk-toggleable__label {background-color: #d4ebff;}#sk-container-id-6 div.sk-serial::before {content: \"\";position: absolute;border-left: 1px solid gray;box-sizing: border-box;top: 0;bottom: 0;left: 50%;z-index: 0;}#sk-container-id-6 div.sk-serial {display: flex;flex-direction: column;align-items: center;background-color: white;padding-right: 0.2em;padding-left: 0.2em;position: relative;}#sk-container-id-6 div.sk-item {position: relative;z-index: 1;}#sk-container-id-6 div.sk-parallel {display: flex;align-items: stretch;justify-content: center;background-color: white;position: relative;}#sk-container-id-6 div.sk-item::before, #sk-container-id-6 div.sk-parallel-item::before {content: \"\";position: absolute;border-left: 1px solid gray;box-sizing: border-box;top: 0;bottom: 0;left: 50%;z-index: -1;}#sk-container-id-6 div.sk-parallel-item {display: flex;flex-direction: column;z-index: 1;position: relative;background-color: white;}#sk-container-id-6 div.sk-parallel-item:first-child::after {align-self: flex-end;width: 50%;}#sk-container-id-6 div.sk-parallel-item:last-child::after {align-self: flex-start;width: 50%;}#sk-container-id-6 div.sk-parallel-item:only-child::after {width: 0;}#sk-container-id-6 div.sk-dashed-wrapped {border: 1px dashed gray;margin: 0 0.4em 0.5em 0.4em;box-sizing: border-box;padding-bottom: 0.4em;background-color: white;}#sk-container-id-6 div.sk-label label {font-family: monospace;font-weight: bold;display: inline-block;line-height: 1.2em;}#sk-container-id-6 div.sk-label-container {text-align: center;}#sk-container-id-6 div.sk-container {/* jupyter's `normalize.less` sets `[hidden] { display: none; }` but bootstrap.min.css set `[hidden] { display: none !important; }` so we also need the `!important` here to be able to override the default hidden behavior on the sphinx rendered scikit-learn.org. See: https://github.com/scikit-learn/scikit-learn/issues/21755 */display: inline-block !important;position: relative;}#sk-container-id-6 div.sk-text-repr-fallback {display: none;}</style><div id=\"sk-container-id-6\" class=\"sk-top-container\"><div class=\"sk-text-repr-fallback\"><pre>RandomForestClassifier(random_state=42)</pre><b>In a Jupyter environment, please rerun this cell to show the HTML representation or trust the notebook. <br />On GitHub, the HTML representation is unable to render, please try loading this page with nbviewer.org.</b></div><div class=\"sk-container\" hidden><div class=\"sk-item\"><div class=\"sk-estimator sk-toggleable\"><input class=\"sk-toggleable__control sk-hidden--visually\" id=\"sk-estimator-id-6\" type=\"checkbox\" checked><label for=\"sk-estimator-id-6\" class=\"sk-toggleable__label sk-toggleable__label-arrow\">RandomForestClassifier</label><div class=\"sk-toggleable__content\"><pre>RandomForestClassifier(random_state=42)</pre></div></div></div></div></div>"
      ],
      "text/plain": [
       "RandomForestClassifier(random_state=42)"
      ]
     },
     "execution_count": 69,
     "metadata": {},
     "output_type": "execute_result"
    }
   ],
   "source": [
    "# Train random forest  classifier\n",
    "rf_clf = RandomForestClassifier(n_estimators=100, random_state=42)\n",
    "rf_clf.fit(X_train_transformed, y_train)"
   ]
  },
  {
   "cell_type": "code",
   "execution_count": 70,
   "id": "0b0a23c8",
   "metadata": {},
   "outputs": [
    {
     "name": "stdout",
     "output_type": "stream",
     "text": [
      "              precision    recall  f1-score   support\n",
      "\n",
      "         0.0       0.84      0.99      0.91     10720\n",
      "         1.0       0.88      0.27      0.42      2848\n",
      "\n",
      "    accuracy                           0.84     13568\n",
      "   macro avg       0.86      0.63      0.66     13568\n",
      "weighted avg       0.85      0.84      0.80     13568\n",
      "\n"
     ]
    }
   ],
   "source": [
    "# Predict on validation set\n",
    "rf_val_predictions = rf_clf.predict(X_val_transformed)\n",
    "print(classification_report(y_val, rf_val_predictions, zero_division=1))"
   ]
  },
  {
   "cell_type": "code",
   "execution_count": 71,
   "id": "32c6f34d",
   "metadata": {},
   "outputs": [
    {
     "name": "stdout",
     "output_type": "stream",
     "text": [
      "              precision    recall  f1-score   support\n",
      "\n",
      "         0.0       0.84      0.99      0.91     10720\n",
      "         1.0       0.89      0.28      0.43      2849\n",
      "\n",
      "    accuracy                           0.84     13569\n",
      "   macro avg       0.86      0.64      0.67     13569\n",
      "weighted avg       0.85      0.84      0.81     13569\n",
      "\n"
     ]
    }
   ],
   "source": [
    "# Predict on test set\n",
    "rf_test_predictions = rf_clf.predict(X_test_transformed)\n",
    "print(classification_report(y_test, rf_test_predictions, zero_division=1))"
   ]
  },
  {
   "cell_type": "markdown",
   "id": "26be4020",
   "metadata": {},
   "source": [
    "(also, not shown here, but prior to running classification using token chunks as features, we used entire movie subtitles as features, and saw worse performance, with weighted average scores hovering around 0.7 for both logistic regression and random forest classifiers)"
   ]
  },
  {
   "cell_type": "markdown",
   "id": "94bee246",
   "metadata": {},
   "source": [
    "# 6.  Same as Part 5, but with Stopword Removal"
   ]
  },
  {
   "cell_type": "code",
   "execution_count": null,
   "id": "96f7090e",
   "metadata": {},
   "outputs": [],
   "source": []
  },
  {
   "cell_type": "markdown",
   "id": "852b0143",
   "metadata": {},
   "source": [
    "# 5. Sentiment Analysis over the decades"
   ]
  },
  {
   "cell_type": "markdown",
   "id": "5bbbc878",
   "metadata": {},
   "source": [
    "For this analysis, we will be looking into the different sentiments within the decades, but also within the winners and losers of our dataset. "
   ]
  },
  {
   "cell_type": "code",
   "execution_count": null,
   "id": "bfce766f",
   "metadata": {},
   "outputs": [],
   "source": [
    "#decades \n",
    "# twenties = movie_subtitles_df[(movie_subtitles_df['Year'] >= '1920') & (movie_subtitles_df['Year'] < '1930')]\n",
    "# thirties = movie_subtitles_df[(movie_subtitles_df['Year'] >= '1930') & (movie_subtitles_df['Year'] < '1940')]\n",
    "fourties = movie_subtitles_df[(movie_subtitles_df['years'] >= '1940') & (movie_subtitles_df['years'] < '1950')]\n",
    "fifties = movie_subtitles_df[(movie_subtitles_df['years'] >= '1950') & (movie_subtitles_df['years'] < '1960')]\n",
    "sixties = movie_subtitles_df[(movie_subtitles_df['years'] >= '1960') & (movie_subtitles_df['years'] < '1970')]\n",
    "seventies = movie_subtitles_df[(movie_subtitles_df['years'] >= '1970') & (movie_subtitles_df['years'] < '1980')]\n",
    "eighties = movie_subtitles_df[(movie_subtitles_df['years'] >= '1980') & (movie_subtitles_df['years'] < '1990')]\n",
    "ninties = movie_subtitles_df[(movie_subtitles_df['years'] >= '1990') & (movie_subtitles_df['years'] < '2000')]\n",
    "twenty = movie_subtitles_df[(movie_subtitles_df['years'] >= '2000') & (movie_subtitles_df['years'] < '2010')]\n",
    "twenty_ten = movie_subtitles_df[(movie_subtitles_df['years'] >= '2010') & (movie_subtitles_df['years'] < '2020')]"
   ]
  },
  {
   "cell_type": "code",
   "execution_count": null,
   "id": "da41c01b",
   "metadata": {},
   "outputs": [],
   "source": [
    "years = [fourties, fifties, sixties, seventies, eighties, ninties, twenty, twenty_ten]"
   ]
  },
  {
   "cell_type": "code",
   "execution_count": null,
   "id": "b0071a25",
   "metadata": {},
   "outputs": [],
   "source": [
    "fourties.head(1)"
   ]
  },
  {
   "cell_type": "code",
   "execution_count": null,
   "id": "94995d71",
   "metadata": {},
   "outputs": [],
   "source": [
    "def sentiment_score(vader, text_string, name):\n",
    "    sentiment_dict = vader.polarity_scores(text_string)\n",
    "    overall_sentiment = 'positive' if sentiment_dict['compound'] >= 0.05 else 'negative' if sentiment_dict['compound'] <= -0.05 else 'neutral'\n",
    "    # print(\"Movie:\",name)\n",
    "    # print(\"neg:      \",sentiment_dict['neg'])\n",
    "    # print(\"neu:      \",sentiment_dict['neu'])\n",
    "    # print(\"post:      \",sentiment_dict['pos'])\n",
    "    # print(\"comp:      \",sentiment_dict['compound'])\n",
    "    # print(\"overall sentiment: \", overall_sentiment)\n",
    "    return sentiment_dict['pos'], sentiment_dict['neg']"
   ]
  },
  {
   "cell_type": "code",
   "execution_count": null,
   "id": "c1afe2ec",
   "metadata": {},
   "outputs": [],
   "source": [
    "#compiling sentiment scores for decades \n",
    "names = [1940, 1950, 1960, 1970, 1980, 1990, 2000, 2010]\n",
    "ind = 0\n",
    "# pos_list, neg_list = [], []\n",
    "pos_neg = {}\n",
    "for year in years:\n",
    "    analyzer = SentimentIntensityAnalyzer()\n",
    "    pos_list, neg_list = [], []\n",
    "    for text,movie in zip(year['text'], year['Movie Name']):\n",
    "        pos, neg = sentiment_score(analyzer, str(text), movie)\n",
    "        pos_list.append(pos)\n",
    "        neg_list.append(neg)\n",
    "    pos_neg[f\"{names[ind]}_pos\"] = pos_list\n",
    "    pos_neg[f\"{names[ind]}_neg\"] = neg_list\n",
    "    ind += 1"
   ]
  },
  {
   "cell_type": "code",
   "execution_count": null,
   "id": "0237f965",
   "metadata": {},
   "outputs": [],
   "source": [
    "plt.figure(figsize=(10, 6))\n",
    "plt.title('Scatter Plot for Dictionary Values')\n",
    "plt.xticks(rotation=45)\n",
    "plt.xlabel('Years')\n",
    "plt.ylabel('Sentiment Scores')\n",
    "\n",
    "for key, values in pos_neg.items():\n",
    "    plt.scatter([key] * len(values), values, label=key)\n",
    "\n",
    "plt.show()"
   ]
  },
  {
   "cell_type": "code",
   "execution_count": null,
   "id": "63ca665f",
   "metadata": {},
   "outputs": [],
   "source": [
    "#winners or losers \n",
    "winners = movie_subtitles_df[(movie_subtitles_df['Win or Loss'] == 1)]\n",
    "losers = movie_subtitles_df[(movie_subtitles_df['Win or Loss'] == 0)]"
   ]
  },
  {
   "cell_type": "code",
   "execution_count": null,
   "id": "a7c28ea0",
   "metadata": {},
   "outputs": [],
   "source": [
    "names = ['wins', 'losses']\n",
    "ind = 0\n",
    "# pos_list, neg_list = [], []\n",
    "win_loss = {}\n",
    "for group in [winners, losers]:\n",
    "    analyzer = SentimentIntensityAnalyzer()\n",
    "    pos_list, neg_list = [], []\n",
    "    for text, movie in zip(group['text'], group['Movie Name']):\n",
    "        pos, neg = sentiment_score(analyzer, str(text), movie)\n",
    "        pos_list.append(pos)\n",
    "        neg_list.append(neg)\n",
    "    win_loss[f\"{names[ind]}_pos\"] = pos_list\n",
    "    win_loss[f\"{names[ind]}_neg\"] = neg_list\n",
    "    ind += 1"
   ]
  },
  {
   "cell_type": "code",
   "execution_count": null,
   "id": "a479729d",
   "metadata": {},
   "outputs": [],
   "source": [
    "plt.figure(figsize=(10, 6))\n",
    "plt.title('Scatter Plot for Dictionary Values')\n",
    "plt.xticks(rotation=45)\n",
    "plt.xlabel('Years')\n",
    "plt.ylabel('Sentiment Scores')\n",
    "for key, values in win_loss.items():\n",
    "    plt.scatter([key] * len(values), values, label=key)\n",
    "\n",
    "plt.show()"
   ]
  },
  {
   "cell_type": "code",
   "execution_count": null,
   "id": "b0b48c53",
   "metadata": {},
   "outputs": [],
   "source": []
  }
 ],
 "metadata": {
  "kernelspec": {
   "display_name": "Python 3 (ipykernel)",
   "language": "python",
   "name": "python3"
  },
  "language_info": {
   "codemirror_mode": {
    "name": "ipython",
    "version": 3
   },
   "file_extension": ".py",
   "mimetype": "text/x-python",
   "name": "python",
   "nbconvert_exporter": "python",
   "pygments_lexer": "ipython3",
   "version": "3.11.4"
  }
 },
 "nbformat": 4,
 "nbformat_minor": 5
}
