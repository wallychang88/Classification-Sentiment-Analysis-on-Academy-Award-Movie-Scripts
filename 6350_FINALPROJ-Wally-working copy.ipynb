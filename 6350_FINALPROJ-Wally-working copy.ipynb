{
 "cells": [
  {
   "cell_type": "code",
   "execution_count": 1,
   "id": "85d4b2e7",
   "metadata": {
    "tags": []
   },
   "outputs": [
    {
     "name": "stderr",
     "output_type": "stream",
     "text": [
      "/Users/wally/anaconda3/envs/3350/lib/python3.11/site-packages/fuzzywuzzy/fuzz.py:11: UserWarning: Using slow pure-python SequenceMatcher. Install python-Levenshtein to remove this warning\n",
      "  warnings.warn('Using slow pure-python SequenceMatcher. Install python-Levenshtein to remove this warning')\n"
     ]
    },
    {
     "name": "stdout",
     "output_type": "stream",
     "text": [
      "Requirement already satisfied: accelerate in /Users/wally/anaconda3/envs/3350/lib/python3.11/site-packages (0.25.0)\n",
      "Requirement already satisfied: numpy>=1.17 in /Users/wally/anaconda3/envs/3350/lib/python3.11/site-packages (from accelerate) (1.24.3)\n",
      "Requirement already satisfied: packaging>=20.0 in /Users/wally/anaconda3/envs/3350/lib/python3.11/site-packages (from accelerate) (23.0)\n",
      "Requirement already satisfied: psutil in /Users/wally/anaconda3/envs/3350/lib/python3.11/site-packages (from accelerate) (5.9.0)\n",
      "Requirement already satisfied: pyyaml in /Users/wally/anaconda3/envs/3350/lib/python3.11/site-packages (from accelerate) (6.0)\n",
      "Requirement already satisfied: torch>=1.10.0 in /Users/wally/anaconda3/envs/3350/lib/python3.11/site-packages (from accelerate) (2.0.1)\n",
      "Requirement already satisfied: huggingface-hub in /Users/wally/anaconda3/envs/3350/lib/python3.11/site-packages (from accelerate) (0.15.1)\n",
      "Requirement already satisfied: safetensors>=0.3.1 in /Users/wally/anaconda3/envs/3350/lib/python3.11/site-packages (from accelerate) (0.4.1)\n",
      "Requirement already satisfied: filelock in /Users/wally/anaconda3/envs/3350/lib/python3.11/site-packages (from torch>=1.10.0->accelerate) (3.9.0)\n",
      "Requirement already satisfied: typing-extensions in /Users/wally/anaconda3/envs/3350/lib/python3.11/site-packages (from torch>=1.10.0->accelerate) (4.7.1)\n",
      "Requirement already satisfied: sympy in /Users/wally/anaconda3/envs/3350/lib/python3.11/site-packages (from torch>=1.10.0->accelerate) (1.11.1)\n",
      "Requirement already satisfied: networkx in /Users/wally/anaconda3/envs/3350/lib/python3.11/site-packages (from torch>=1.10.0->accelerate) (3.1)\n",
      "Requirement already satisfied: jinja2 in /Users/wally/anaconda3/envs/3350/lib/python3.11/site-packages (from torch>=1.10.0->accelerate) (3.1.2)\n",
      "Requirement already satisfied: fsspec in /Users/wally/anaconda3/envs/3350/lib/python3.11/site-packages (from huggingface-hub->accelerate) (2023.4.0)\n",
      "Requirement already satisfied: requests in /Users/wally/anaconda3/envs/3350/lib/python3.11/site-packages (from huggingface-hub->accelerate) (2.31.0)\n",
      "Requirement already satisfied: tqdm>=4.42.1 in /Users/wally/anaconda3/envs/3350/lib/python3.11/site-packages (from huggingface-hub->accelerate) (4.65.0)\n",
      "Requirement already satisfied: MarkupSafe>=2.0 in /Users/wally/anaconda3/envs/3350/lib/python3.11/site-packages (from jinja2->torch>=1.10.0->accelerate) (2.1.1)\n",
      "Requirement already satisfied: charset-normalizer<4,>=2 in /Users/wally/anaconda3/envs/3350/lib/python3.11/site-packages (from requests->huggingface-hub->accelerate) (2.0.4)\n",
      "Requirement already satisfied: idna<4,>=2.5 in /Users/wally/anaconda3/envs/3350/lib/python3.11/site-packages (from requests->huggingface-hub->accelerate) (3.4)\n",
      "Requirement already satisfied: urllib3<3,>=1.21.1 in /Users/wally/anaconda3/envs/3350/lib/python3.11/site-packages (from requests->huggingface-hub->accelerate) (1.26.16)\n",
      "Requirement already satisfied: certifi>=2017.4.17 in /Users/wally/anaconda3/envs/3350/lib/python3.11/site-packages (from requests->huggingface-hub->accelerate) (2023.11.17)\n",
      "Requirement already satisfied: mpmath>=0.19 in /Users/wally/anaconda3/envs/3350/lib/python3.11/site-packages (from sympy->torch>=1.10.0->accelerate) (1.3.0)\n",
      "Note: you may need to restart the kernel to use updated packages.\n"
     ]
    }
   ],
   "source": [
    "import chardet\n",
    "import os\n",
    "import pandas as pd\n",
    "import numpy as np\n",
    "import re\n",
    "from sklearn.feature_extraction.text import CountVectorizer, TfidfVectorizer\n",
    "from sklearn.decomposition import LatentDirichletAllocation, PCA\n",
    "from sklearn.linear_model import LinearRegression\n",
    "from sklearn.model_selection import cross_val_score, cross_validate\n",
    "from sklearn.preprocessing import StandardScaler\n",
    "from sklearn.cluster import KMeans\n",
    "import matplotlib.pyplot as plt\n",
    "from sklearn.decomposition import TruncatedSVD   \n",
    "from nltk.tokenize import word_tokenize\n",
    "import nltk\n",
    "from fuzzywuzzy import fuzz\n",
    "import random\n",
    "import time\n",
    "from sklearn.metrics.pairwise import cosine_similarity\n",
    "import nltk\n",
    "from nltk.sentiment.vader import SentimentIntensityAnalyzer\n",
    "import seaborn as sns\n",
    "\n",
    "from sklearn.model_selection import train_test_split\n",
    "from sklearn.linear_model import LogisticRegression\n",
    "from sklearn.metrics import classification_report, confusion_matrix, f1_score\n",
    "from sklearn.ensemble import RandomForestClassifier\n",
    "from collections import Counter\n",
    "from transformers import pipeline, AutoModelForSequenceClassification, AutoTokenizer, DistilBertTokenizerFast, DistilBertForSequenceClassification\n",
    "import torch\n",
    "from transformers import Trainer, TrainingArguments\n",
    "%pip install --upgrade accelerate"
   ]
  },
  {
   "cell_type": "markdown",
   "id": "499cd3db",
   "metadata": {},
   "source": [
    "# 1. Data Importing and Cleaning"
   ]
  },
  {
   "cell_type": "code",
   "execution_count": 2,
   "id": "5260aefe-2690-4658-a2f3-6e7c8488a401",
   "metadata": {
    "tags": []
   },
   "outputs": [],
   "source": [
    "def detect_encoding(file_path):\n",
    "    with open(file_path, 'rb') as file:\n",
    "        raw_data = file.read()\n",
    "\n",
    "    result = chardet.detect(raw_data)\n",
    "    return result['encoding']\n",
    "\n",
    "def srt_to_text(srt_file_path):\n",
    "    encoding_attempts = ['utf-8', 'ISO-8859-1', 'utf-16', ]\n",
    "\n",
    "    for encoding in encoding_attempts:\n",
    "        try:\n",
    "            with open(srt_file_path, 'r', encoding=encoding) as file:\n",
    "                lines = file.readlines()\n",
    "\n",
    "            text = \"\"\n",
    "            current_line = \"\"\n",
    "            is_time_line = True\n",
    "\n",
    "            for line in lines:\n",
    "                line = line.strip()\n",
    "\n",
    "                if not line:\n",
    "                    is_time_line = True\n",
    "                    continue\n",
    "\n",
    "                if is_time_line:\n",
    "                    is_time_line = False\n",
    "                    continue\n",
    "\n",
    "                current_line += line + \" \"\n",
    "\n",
    "                # If the line ends with a punctuation indicating the end of a sentence\n",
    "                if line.endswith(('.', '!', '?')):\n",
    "                    text += current_line + \"\\n\"\n",
    "                    current_line = \"\"\n",
    "\n",
    "            return text.strip()\n",
    "        except UnicodeDecodeError:\n",
    "            None\n",
    "\n",
    "    # If none of the encodings work\n",
    "    print(f\"Unable to decode file: {srt_file_path}\")\n",
    "    return None\n",
    "\n",
    "def process_srt_files_in_folder(folder_path):\n",
    "    result_dict = []\n",
    "\n",
    "    for filename in os.listdir(folder_path):\n",
    "        if filename.endswith(\".srt\"):\n",
    "            srt_file_path = os.path.join(folder_path, filename)\n",
    "            text_content = srt_to_text(srt_file_path)\n",
    "\n",
    "            if text_content is not None:\n",
    "                file_dict = {\"name\": filename, \"text\": text_content}\n",
    "                result_dict.append(file_dict)\n",
    "\n",
    "    return result_dict\n",
    "\n",
    "# Example usage for a folder containing SRT files\n",
    "wally = '/Users/wally/Library/CloudStorage/OneDrive-Personal/Documents/Cornell/1. Fourth Year/INFO 6350 - Text Mining History and Literature/INFO6350_Final_Project/srt_files'\n",
    "casey = '/Users/caseykaufman/Documents/GitHub/INFO6350_Final_Project/srt_files'\n",
    "\n",
    "folder_path = wally\n",
    "\n",
    "result_dictionary = process_srt_files_in_folder(folder_path)"
   ]
  },
  {
   "cell_type": "code",
   "execution_count": 3,
   "id": "98e7947f",
   "metadata": {
    "tags": []
   },
   "outputs": [],
   "source": [
    "movie_subtitles_df = pd.DataFrame(result_dictionary)"
   ]
  },
  {
   "cell_type": "code",
   "execution_count": 4,
   "id": "8cd84e01",
   "metadata": {
    "tags": []
   },
   "outputs": [],
   "source": [
    "# Removal of timestamps\n",
    "movie_subtitles_df['text'] = movie_subtitles_df['text'].str.replace(r'\\d{2}:\\d{2}:\\d{2},\\d{3} --> \\d{2}:\\d{2}:\\d{2},\\d{3}[\\s-]+', '\\n', regex=True)\n",
    "movie_subtitles_df['text'] = movie_subtitles_df['text'].str.replace(r'<font.*?>|<\\/font>', '', regex=True)\n",
    "movie_subtitles_df['text'] = movie_subtitles_df['text'].str.replace(r'\\bdownloaded.*?|subtitles downloaded.*?|http.*?|www.*?', '', regex=True, flags=re.IGNORECASE)"
   ]
  },
  {
   "cell_type": "code",
   "execution_count": 5,
   "id": "c6aba171",
   "metadata": {
    "tags": []
   },
   "outputs": [],
   "source": [
    "pd.options.display.max_rows = 400"
   ]
  },
  {
   "cell_type": "code",
   "execution_count": 6,
   "id": "1ee1b940",
   "metadata": {
    "tags": []
   },
   "outputs": [],
   "source": [
    "# Find the year of each movie from the file name\n",
    "years = []\n",
    "for name_index in range(len(movie_subtitles_df['name'])):\n",
    "    found_year = False\n",
    "    for letter_index in range(len(movie_subtitles_df['name'][name_index])):\n",
    "        if movie_subtitles_df['name'][name_index][letter_index:letter_index+2] == '19' and movie_subtitles_df['name'][name_index][letter_index:letter_index+4].isdigit() or movie_subtitles_df['name'][name_index][letter_index:letter_index+2] == '20' and movie_subtitles_df['name'][name_index][letter_index:letter_index+4].isdigit():\n",
    "            y = movie_subtitles_df['name'][name_index][letter_index:letter_index+4]\n",
    "            years.append(y)\n",
    "            found_year = True\n",
    "            break\n",
    "    if not found_year:\n",
    "        years.append('na')\n",
    "\n",
    "# Add new column with corresponding years\n",
    "movie_subtitles_df['years'] = years"
   ]
  },
  {
   "cell_type": "code",
   "execution_count": 7,
   "id": "e00d84eb",
   "metadata": {
    "tags": []
   },
   "outputs": [],
   "source": [
    "#cleaning names\n",
    "pattern1= r'^([^\\d(]+)(?:\\.\\d{4}| \\(\\d{4}\\))?\\.?[^\\w]*'\n",
    "pattern2 = r'^[^a-zA-Z]*(.*?)\\.[a-zA-Z]{3}\\b'\n",
    "pattern3 = r'^[^a-zA-Z]*(.*?)\\.[a-zA-Z]{3}-'\n",
    "\n",
    "clean_names = []\n",
    "for file_name in movie_subtitles_df['name']:\n",
    "    match = re.match(pattern1, file_name) or re.match(pattern2, file_name) or re.match(pattern3, file_name)\n",
    "    if match:\n",
    "        extracted_name = match.group(1).replace('.', ' ')\n",
    "        clean_names.append(extracted_name)\n",
    "    else:\n",
    "        print(\"Name extraction pattern not found for:\", file_name)\n",
    "        \n",
    "new = [name.split('WWW')[0].strip() if 'WWW' in name else name for name in clean_names]\n",
    "clean_names = [x.replace('-','') for x in new]"
   ]
  },
  {
   "cell_type": "code",
   "execution_count": 8,
   "id": "baff62b8",
   "metadata": {
    "tags": []
   },
   "outputs": [],
   "source": [
    "movie_subtitles_df['Movie Name'] = clean_names"
   ]
  },
  {
   "cell_type": "code",
   "execution_count": 9,
   "id": "2aa0b906",
   "metadata": {},
   "outputs": [],
   "source": [
    "#adding win/loss\n",
    "excel = pd.read_csv('scripts.csv')\n",
    "\n",
    "#getting index values\n",
    "highest = []\n",
    "for films in clean_names: \n",
    "    similarity = []\n",
    "    indexes = []\n",
    "    for all_films in excel['Film']:\n",
    "        sim = fuzz.ratio(str(films), str(all_films))\n",
    "        similarity.append(sim)\n",
    "    highest.append(similarity.index(max(similarity)))\n",
    "    \n",
    "movie_name_check = []\n",
    "win_loss = []\n",
    "for idx in highest:\n",
    "    value1 = excel.loc[idx,'Film']\n",
    "    value2 = excel.loc[idx,'Win']\n",
    "    movie_name_check.append(value1)\n",
    "    win_loss.append(value2)\n",
    "    \n",
    "movie_subtitles_df['Similarity Calc Name'] = movie_name_check\n",
    "movie_subtitles_df['Win or Loss'] = win_loss"
   ]
  },
  {
   "cell_type": "code",
   "execution_count": 10,
   "id": "47ceda15-18a7-4cdb-901a-38d887479eeb",
   "metadata": {
    "scrolled": true,
    "tags": []
   },
   "outputs": [
    {
     "data": {
      "text/html": [
       "<div>\n",
       "<style scoped>\n",
       "    .dataframe tbody tr th:only-of-type {\n",
       "        vertical-align: middle;\n",
       "    }\n",
       "\n",
       "    .dataframe tbody tr th {\n",
       "        vertical-align: top;\n",
       "    }\n",
       "\n",
       "    .dataframe thead th {\n",
       "        text-align: right;\n",
       "    }\n",
       "</style>\n",
       "<table border=\"1\" class=\"dataframe\">\n",
       "  <thead>\n",
       "    <tr style=\"text-align: right;\">\n",
       "      <th></th>\n",
       "      <th>name</th>\n",
       "      <th>text</th>\n",
       "      <th>years</th>\n",
       "      <th>Movie Name</th>\n",
       "      <th>Similarity Calc Name</th>\n",
       "      <th>Win or Loss</th>\n",
       "    </tr>\n",
       "  </thead>\n",
       "  <tbody>\n",
       "    <tr>\n",
       "      <th>0</th>\n",
       "      <td>Sunset Blvd. (1950)_english.srt</td>\n",
       "      <td>\\nYes, this is Sunset Boulevard, Los Angeles, ...</td>\n",
       "      <td>1950</td>\n",
       "      <td>Sunset Blvd</td>\n",
       "      <td>Sunset Boulevard</td>\n",
       "      <td>1.0</td>\n",
       "    </tr>\n",
       "    <tr>\n",
       "      <th>1</th>\n",
       "      <td>Diner.1982.720p.BluRay.x264-AMIABLE.srt</td>\n",
       "      <td>\\nA little bit softer now - Shout \\nA little b...</td>\n",
       "      <td>1982</td>\n",
       "      <td>Diner</td>\n",
       "      <td>Diner</td>\n",
       "      <td>0.0</td>\n",
       "    </tr>\n",
       "    <tr>\n",
       "      <th>2</th>\n",
       "      <td>Road.To.Utopia.1945.1080p.BluRay.x264-[YTS.AM]...</td>\n",
       "      <td>\\nFor those of you who don't go to the movies,...</td>\n",
       "      <td>1945</td>\n",
       "      <td>Road To Utopia</td>\n",
       "      <td>Road to Utopia</td>\n",
       "      <td>0.0</td>\n",
       "    </tr>\n",
       "    <tr>\n",
       "      <th>3</th>\n",
       "      <td>Tender Mercies (1983).srt</td>\n",
       "      <td>\\nHere, give me the bottle. \\n- Go to hell. \\n...</td>\n",
       "      <td>1983</td>\n",
       "      <td>Tender Mercies</td>\n",
       "      <td>Tender Mercies</td>\n",
       "      <td>1.0</td>\n",
       "    </tr>\n",
       "    <tr>\n",
       "      <th>4</th>\n",
       "      <td>Ghandi.1982.1080p.BluRay.x264.YIFY.srt</td>\n",
       "      <td>\\nThere are more than yesterday. \\n\\nHe will b...</td>\n",
       "      <td>1982</td>\n",
       "      <td>Ghandi</td>\n",
       "      <td>Gandhi</td>\n",
       "      <td>1.0</td>\n",
       "    </tr>\n",
       "  </tbody>\n",
       "</table>\n",
       "</div>"
      ],
      "text/plain": [
       "                                                name  \\\n",
       "0                    Sunset Blvd. (1950)_english.srt   \n",
       "1            Diner.1982.720p.BluRay.x264-AMIABLE.srt   \n",
       "2  Road.To.Utopia.1945.1080p.BluRay.x264-[YTS.AM]...   \n",
       "3                          Tender Mercies (1983).srt   \n",
       "4             Ghandi.1982.1080p.BluRay.x264.YIFY.srt   \n",
       "\n",
       "                                                text years       Movie Name  \\\n",
       "0  \\nYes, this is Sunset Boulevard, Los Angeles, ...  1950    Sunset Blvd     \n",
       "1  \\nA little bit softer now - Shout \\nA little b...  1982           Diner    \n",
       "2  \\nFor those of you who don't go to the movies,...  1945  Road To Utopia    \n",
       "3  \\nHere, give me the bottle. \\n- Go to hell. \\n...  1983  Tender Mercies    \n",
       "4  \\nThere are more than yesterday. \\n\\nHe will b...  1982          Ghandi    \n",
       "\n",
       "  Similarity Calc Name  Win or Loss  \n",
       "0     Sunset Boulevard          1.0  \n",
       "1                Diner          0.0  \n",
       "2       Road to Utopia          0.0  \n",
       "3       Tender Mercies          1.0  \n",
       "4               Gandhi          1.0  "
      ]
     },
     "execution_count": 10,
     "metadata": {},
     "output_type": "execute_result"
    }
   ],
   "source": [
    "movie_subtitles_df.head()"
   ]
  },
  {
   "cell_type": "code",
   "execution_count": 11,
   "id": "84912b18",
   "metadata": {},
   "outputs": [],
   "source": [
    "# Tokenize the text in each row\n",
    "tokenized_text = movie_subtitles_df['text'].apply(word_tokenize)\n",
    "\n",
    "# Add the tokenized text to a new column\n",
    "movie_subtitles_df['tokenized_text'] = tokenized_text"
   ]
  },
  {
   "cell_type": "markdown",
   "id": "44a8d067",
   "metadata": {},
   "source": [
    "# 2. Basic Data Exploration and Pre-Processing"
   ]
  },
  {
   "cell_type": "markdown",
   "id": "84776085",
   "metadata": {},
   "source": [
    "## Count Tokens in Each Movie Script"
   ]
  },
  {
   "cell_type": "code",
   "execution_count": 12,
   "id": "2e27c973",
   "metadata": {},
   "outputs": [],
   "source": [
    "# Add the number of tokens in a movie script to a new column titled 'num_tokens'\n",
    "movie_subtitles_df['num_tokens'] = [len(movie_subtitles_df['tokenized_text'][i]) for i in range(len(movie_subtitles_df['text']))]"
   ]
  },
  {
   "cell_type": "code",
   "execution_count": 13,
   "id": "8c4053ad",
   "metadata": {
    "tags": []
   },
   "outputs": [
    {
     "data": {
      "text/html": [
       "<div>\n",
       "<style scoped>\n",
       "    .dataframe tbody tr th:only-of-type {\n",
       "        vertical-align: middle;\n",
       "    }\n",
       "\n",
       "    .dataframe tbody tr th {\n",
       "        vertical-align: top;\n",
       "    }\n",
       "\n",
       "    .dataframe thead th {\n",
       "        text-align: right;\n",
       "    }\n",
       "</style>\n",
       "<table border=\"1\" class=\"dataframe\">\n",
       "  <thead>\n",
       "    <tr style=\"text-align: right;\">\n",
       "      <th></th>\n",
       "      <th>name</th>\n",
       "      <th>text</th>\n",
       "      <th>years</th>\n",
       "      <th>Movie Name</th>\n",
       "      <th>Similarity Calc Name</th>\n",
       "      <th>Win or Loss</th>\n",
       "      <th>tokenized_text</th>\n",
       "      <th>num_tokens</th>\n",
       "    </tr>\n",
       "  </thead>\n",
       "  <tbody>\n",
       "    <tr>\n",
       "      <th>0</th>\n",
       "      <td>Sunset Blvd. (1950)_english.srt</td>\n",
       "      <td>\\nYes, this is Sunset Boulevard, Los Angeles, ...</td>\n",
       "      <td>1950</td>\n",
       "      <td>Sunset Blvd</td>\n",
       "      <td>Sunset Boulevard</td>\n",
       "      <td>1.0</td>\n",
       "      <td>[Yes, ,, this, is, Sunset, Boulevard, ,, Los, ...</td>\n",
       "      <td>15458</td>\n",
       "    </tr>\n",
       "    <tr>\n",
       "      <th>1</th>\n",
       "      <td>Diner.1982.720p.BluRay.x264-AMIABLE.srt</td>\n",
       "      <td>\\nA little bit softer now - Shout \\nA little b...</td>\n",
       "      <td>1982</td>\n",
       "      <td>Diner</td>\n",
       "      <td>Diner</td>\n",
       "      <td>0.0</td>\n",
       "      <td>[A, little, bit, softer, now, -, Shout, A, lit...</td>\n",
       "      <td>16868</td>\n",
       "    </tr>\n",
       "    <tr>\n",
       "      <th>2</th>\n",
       "      <td>Road.To.Utopia.1945.1080p.BluRay.x264-[YTS.AM]...</td>\n",
       "      <td>\\nFor those of you who don't go to the movies,...</td>\n",
       "      <td>1945</td>\n",
       "      <td>Road To Utopia</td>\n",
       "      <td>Road to Utopia</td>\n",
       "      <td>0.0</td>\n",
       "      <td>[For, those, of, you, who, do, n't, go, to, th...</td>\n",
       "      <td>15171</td>\n",
       "    </tr>\n",
       "    <tr>\n",
       "      <th>3</th>\n",
       "      <td>Tender Mercies (1983).srt</td>\n",
       "      <td>\\nHere, give me the bottle. \\n- Go to hell. \\n...</td>\n",
       "      <td>1983</td>\n",
       "      <td>Tender Mercies</td>\n",
       "      <td>Tender Mercies</td>\n",
       "      <td>1.0</td>\n",
       "      <td>[Here, ,, give, me, the, bottle, ., -, Go, to,...</td>\n",
       "      <td>9986</td>\n",
       "    </tr>\n",
       "    <tr>\n",
       "      <th>4</th>\n",
       "      <td>Ghandi.1982.1080p.BluRay.x264.YIFY.srt</td>\n",
       "      <td>\\nThere are more than yesterday. \\n\\nHe will b...</td>\n",
       "      <td>1982</td>\n",
       "      <td>Ghandi</td>\n",
       "      <td>Gandhi</td>\n",
       "      <td>1.0</td>\n",
       "      <td>[There, are, more, than, yesterday, ., He, wil...</td>\n",
       "      <td>15581</td>\n",
       "    </tr>\n",
       "  </tbody>\n",
       "</table>\n",
       "</div>"
      ],
      "text/plain": [
       "                                                name  \\\n",
       "0                    Sunset Blvd. (1950)_english.srt   \n",
       "1            Diner.1982.720p.BluRay.x264-AMIABLE.srt   \n",
       "2  Road.To.Utopia.1945.1080p.BluRay.x264-[YTS.AM]...   \n",
       "3                          Tender Mercies (1983).srt   \n",
       "4             Ghandi.1982.1080p.BluRay.x264.YIFY.srt   \n",
       "\n",
       "                                                text years       Movie Name  \\\n",
       "0  \\nYes, this is Sunset Boulevard, Los Angeles, ...  1950    Sunset Blvd     \n",
       "1  \\nA little bit softer now - Shout \\nA little b...  1982           Diner    \n",
       "2  \\nFor those of you who don't go to the movies,...  1945  Road To Utopia    \n",
       "3  \\nHere, give me the bottle. \\n- Go to hell. \\n...  1983  Tender Mercies    \n",
       "4  \\nThere are more than yesterday. \\n\\nHe will b...  1982          Ghandi    \n",
       "\n",
       "  Similarity Calc Name  Win or Loss  \\\n",
       "0     Sunset Boulevard          1.0   \n",
       "1                Diner          0.0   \n",
       "2       Road to Utopia          0.0   \n",
       "3       Tender Mercies          1.0   \n",
       "4               Gandhi          1.0   \n",
       "\n",
       "                                      tokenized_text  num_tokens  \n",
       "0  [Yes, ,, this, is, Sunset, Boulevard, ,, Los, ...       15458  \n",
       "1  [A, little, bit, softer, now, -, Shout, A, lit...       16868  \n",
       "2  [For, those, of, you, who, do, n't, go, to, th...       15171  \n",
       "3  [Here, ,, give, me, the, bottle, ., -, Go, to,...        9986  \n",
       "4  [There, are, more, than, yesterday, ., He, wil...       15581  "
      ]
     },
     "execution_count": 13,
     "metadata": {},
     "output_type": "execute_result"
    }
   ],
   "source": [
    "movie_subtitles_df.head()"
   ]
  },
  {
   "cell_type": "markdown",
   "id": "941fc758",
   "metadata": {},
   "source": [
    "#### Most Frequently Occurring Tokens"
   ]
  },
  {
   "cell_type": "code",
   "execution_count": 14,
   "id": "2dd89816",
   "metadata": {},
   "outputs": [
    {
     "name": "stdout",
     "output_type": "stream",
     "text": [
      "Top 50 most frequent tokens:\n",
      ".: 414286\n",
      ",: 232214\n",
      "I: 141293\n",
      "?: 116160\n",
      "you: 115244\n",
      "the: 92202\n",
      "to: 78841\n",
      "'s: 73480\n",
      "a: 69298\n",
      "n't: 53126\n",
      ">: 52743\n",
      "<: 52724\n",
      "-: 51210\n",
      "it: 48673\n",
      "...: 48166\n",
      "!: 46899\n",
      "of: 40656\n",
      "You: 38629\n",
      "that: 38238\n",
      "do: 37603\n",
      "and: 37378\n",
      "in: 35179\n",
      "me: 31524\n",
      "is: 30225\n",
      "i: 26309\n",
      "/i: 25798\n",
      "on: 24445\n",
      "'m: 23886\n",
      "for: 23345\n",
      "'re: 21855\n",
      "have: 21703\n",
      "know: 21232\n",
      "your: 20688\n",
      "be: 20360\n",
      "What: 20156\n",
      "this: 20117\n",
      "It: 19824\n",
      "was: 19415\n",
      "my: 18844\n",
      "we: 18309\n",
      "with: 17123\n",
      "not: 17103\n",
      "are: 16685\n",
      "'ll: 16383\n",
      "he: 15184\n",
      "what: 15001\n",
      "all: 14702\n",
      "No: 13869\n",
      "like: 13832\n",
      "right: 13581\n"
     ]
    }
   ],
   "source": [
    "token_lists = movie_subtitles_df['tokenized_text']\n",
    "\n",
    "# Flatten the list of lists into a single list of tokens\n",
    "all_tokens = [token for sublist in token_lists for token in sublist]\n",
    "\n",
    "# Use Counter to count the occurrences of each token\n",
    "token_counts = Counter(all_tokens)\n",
    "\n",
    "# Get the 50 most common tokens\n",
    "top_50_tokens = token_counts.most_common(50)\n",
    "\n",
    "# Display the result\n",
    "print(\"Top 50 most frequent tokens:\")\n",
    "for token, count in top_50_tokens:\n",
    "    print(f\"{token}: {count}\")"
   ]
  },
  {
   "cell_type": "markdown",
   "id": "ca2755c0",
   "metadata": {},
   "source": [
    "#### Number of Tokens by Year"
   ]
  },
  {
   "cell_type": "code",
   "execution_count": 15,
   "id": "f63eb8c2",
   "metadata": {},
   "outputs": [
    {
     "data": {
      "image/png": "[encoded data removed]",
      "text/plain": [
       "<Figure size 640x480 with 1 Axes>"
      ]
     },
     "metadata": {},
     "output_type": "display_data"
    }
   ],
   "source": [
    "import matplotlib.pyplot as plt\n",
    "\n",
    "# Sort DataFrame by 'years' in ascending order\n",
    "movie_subtitles_df = movie_subtitles_df.sort_values(by='years')\n",
    "\n",
    "# Set x-axis ticks to show only once every other 20 years\n",
    "step = 40  # Adjust the step value as needed\n",
    "plt.xticks(range(0, len(movie_subtitles_df['years']), step), movie_subtitles_df['years'][::step])\n",
    "\n",
    "# Create bar chart\n",
    "plt.bar(movie_subtitles_df.index, movie_subtitles_df['num_tokens'], label='Number of Tokens')\n",
    "plt.xlabel('Year')\n",
    "plt.ylabel('Number of Tokens')\n",
    "plt.title('Number of Tokens by Year')\n",
    "\n",
    "# Plot the average line\n",
    "average_tokens = movie_subtitles_df['num_tokens'].mean()\n",
    "plt.axhline(y=average_tokens, color='red', linestyle='--', label='Average Tokens')\n",
    "\n",
    "# Display the average value\n",
    "plt.text(0.5, average_tokens + 500, f'Average: {average_tokens:.2f}', color='red', ha='left')\n",
    "\n",
    "plt.legend()\n",
    "plt.show()"
   ]
  },
  {
   "cell_type": "markdown",
   "id": "01390cc9",
   "metadata": {},
   "source": [
    "#### Minimum number of tokens vs maximum number of tokens"
   ]
  },
  {
   "cell_type": "code",
   "execution_count": 16,
   "id": "18262083",
   "metadata": {},
   "outputs": [
    {
     "name": "stdout",
     "output_type": "stream",
     "text": [
      "Minimum number of tokens in all scripts:  1125\n",
      "Maximum number of tokens in all scripts:  31547\n"
     ]
    },
    {
     "data": {
      "image/png": "[encoded data removed]",
      "text/plain": [
       "<Figure size 640x480 with 1 Axes>"
      ]
     },
     "metadata": {},
     "output_type": "display_data"
    }
   ],
   "source": [
    "# Minimum number of tokens versus maximum number of tokens\n",
    "min_tokens = min(movie_subtitles_df['num_tokens'])\n",
    "max_tokens = max(movie_subtitles_df['num_tokens'])\n",
    "\n",
    "print('Minimum number of tokens in all scripts: ', min_tokens)\n",
    "print('Maximum number of tokens in all scripts: ', max_tokens)\n",
    "\n",
    "# Plotting the data\n",
    "labels = ['Minimum Tokens', 'Maximum Tokens']\n",
    "values = [min_tokens, max_tokens]\n",
    "\n",
    "plt.bar(labels, values, color=['blue', 'orange'])\n",
    "plt.xlabel('Token Count')\n",
    "plt.ylabel('Number of Tokens')\n",
    "plt.title('Minimum and Maximum Number of Total Tokens in Movie Subtitles')\n",
    "plt.show()"
   ]
  },
  {
   "cell_type": "markdown",
   "id": "dddcc8bf",
   "metadata": {},
   "source": [
    "#### Longest paragraph/line versus shortest paragraph/line, split on line breaks"
   ]
  },
  {
   "cell_type": "code",
   "execution_count": 17,
   "id": "bb61cc36",
   "metadata": {},
   "outputs": [
    {
     "name": "stdout",
     "output_type": "stream",
     "text": [
      "Longest Paragraph length: \n",
      "284\n",
      "\n",
      "Shortest Paragraph length: \n",
      "2\n"
     ]
    },
    {
     "data": {
      "image/png": "[encoded data removed]",
      "text/plain": [
       "<Figure size 640x480 with 1 Axes>"
      ]
     },
     "metadata": {},
     "output_type": "display_data"
    }
   ],
   "source": [
    "# Find the longest and shortest paragraphs\n",
    "max_length = 0\n",
    "min_length = 100000000\n",
    "longest_paragraph = ''\n",
    "shortest_paragraph = ''\n",
    "\n",
    "for index, row in movie_subtitles_df.iterrows():\n",
    "    paragraphs = row['text'].split('\\n')  # Assuming paragraphs are separated by '\\n'\n",
    "    \n",
    "    for paragraph in paragraphs:\n",
    "        paragraph_length = len(paragraph)\n",
    "        \n",
    "        # Update longest paragraph\n",
    "        if paragraph_length > max_length:\n",
    "            max_length = paragraph_length\n",
    "            longest_paragraph = paragraph\n",
    "\n",
    "        # Update shortest paragraph\n",
    "        if paragraph_length < min_length and paragraph.strip():  # Check for non-empty paragraphs\n",
    "            min_length = paragraph_length\n",
    "            shortest_paragraph = paragraph\n",
    "\n",
    "print(\"Longest Paragraph length: \")\n",
    "print(len(longest_paragraph))\n",
    "\n",
    "print(\"\\nShortest Paragraph length: \")\n",
    "print(len(shortest_paragraph))\n",
    "\n",
    "# Plotting the data\n",
    "labels = ['Shortest Paragraph', 'Longest Paragraph']\n",
    "values = [len(shortest_paragraph), len(longest_paragraph)]\n",
    "\n",
    "plt.bar(labels, values, color=['red', 'yellow'])\n",
    "plt.xlabel('Paragraphs in Comparison')\n",
    "plt.ylabel('Length of Paragraph (words)')\n",
    "plt.title('Shortest and Longest Paragraphs in Movie Subtitles')\n",
    "plt.show()"
   ]
  },
  {
   "cell_type": "markdown",
   "id": "d008b8b7",
   "metadata": {},
   "source": [
    "#### See Cosine Similarity Scores Between Movies"
   ]
  },
  {
   "cell_type": "markdown",
   "id": "575894a7",
   "metadata": {},
   "source": [
    "We were curious to see how similar movie subtitle scripts are to each other in general using cosine similarity scoring, first with stop words, then without stop words."
   ]
  },
  {
   "cell_type": "code",
   "execution_count": 18,
   "id": "f8a8cbfd",
   "metadata": {},
   "outputs": [
    {
     "name": "stdout",
     "output_type": "stream",
     "text": [
      "Average Cosine Similarity Score Without Removing Stopwords: \n",
      "0.6701699398505467\n"
     ]
    }
   ],
   "source": [
    "# Create a TF-IDF vectorizer to conduct similarity test with stop word removal\n",
    "vectorizer = TfidfVectorizer()\n",
    "tfidf_matrix = vectorizer.fit_transform(movie_subtitles_df['text'])\n",
    "\n",
    "# Compute cosine similarity between movies\n",
    "similarity_matrix = cosine_similarity(tfidf_matrix)\n",
    "\n",
    "# Print the average similarity scores\n",
    "print(\"Average Cosine Similarity Score Without Removing Stopwords: \")\n",
    "print(np.mean(similarity_matrix))"
   ]
  },
  {
   "cell_type": "code",
   "execution_count": 19,
   "id": "ca094f51",
   "metadata": {},
   "outputs": [
    {
     "name": "stdout",
     "output_type": "stream",
     "text": [
      "Average Cosine Similarity Score, Removing Stopwords: \n",
      "0.17171533811168818\n"
     ]
    }
   ],
   "source": [
    "# Create a TF-IDF vectorizer to conduct similarity test with stop word removal\n",
    "vectorizer = TfidfVectorizer(stop_words='english')\n",
    "tfidf_matrix = vectorizer.fit_transform(movie_subtitles_df['text'])\n",
    "\n",
    "# Compute cosine similarity between movies\n",
    "similarity_matrix = cosine_similarity(tfidf_matrix)\n",
    "\n",
    "# Print the average similarity scores\n",
    "print(\"Average Cosine Similarity Score, Removing Stopwords: \")\n",
    "print(np.mean(similarity_matrix))"
   ]
  },
  {
   "cell_type": "markdown",
   "id": "b4988090",
   "metadata": {},
   "source": [
    "It appears that when stop words are not removed, movie subtitles are quite similar, scoring .67 in cosine similarity. This seems logical, as subtitles are largely dialogue, and there are frequently occurring pieces of speech in all dialogue. When stop words are removed, the average cosine similarity score drops to .17, which is also logical. This leads us to believe that during classification tasks, models might find it difficult to differentiate between winners and losers of the Academy Award for Best Original Screenplay based on tokens if stop words are not removed, since it appears that there is significant similarity between subtitles."
   ]
  },
  {
   "cell_type": "markdown",
   "id": "dcb28c73",
   "metadata": {},
   "source": [
    "#### Visualizing the 700 most frequently occurring token unigrams between winners and losers, using truncated SVD"
   ]
  },
  {
   "cell_type": "code",
   "execution_count": 20,
   "id": "988c1090",
   "metadata": {
    "scrolled": true
   },
   "outputs": [
    {
     "name": "stdout",
     "output_type": "stream",
     "text": [
      "Features Shape: (355, 700) Labels Shape: (355,)\n"
     ]
    }
   ],
   "source": [
    "# Vectorizer to get token unigram counts\n",
    "vectorizer = TfidfVectorizer(max_features=700, stop_words='english')\n",
    "X = vectorizer.fit_transform(movie_subtitles_df['text'])\n",
    "\n",
    "# Convert the matrix to DataFrame\n",
    "features = pd.DataFrame(X.toarray(), columns=vectorizer.get_feature_names_out())\n",
    "\n",
    "# Set features and labels\n",
    "labels = movie_subtitles_df['Win or Loss']\n",
    "features = features  # No length normalization\n",
    "\n",
    "# Display the shapes of features and labels\n",
    "print('Features Shape:', features.shape, 'Labels Shape:', labels.shape)"
   ]
  },
  {
   "cell_type": "code",
   "execution_count": 21,
   "id": "dbc947f5",
   "metadata": {},
   "outputs": [
    {
     "data": {
      "image/png": "[encoded data removed]",
      "text/plain": [
       "<Figure size 640x480 with 1 Axes>"
      ]
     },
     "metadata": {},
     "output_type": "display_data"
    }
   ],
   "source": [
    "# Plot the feature data, default: 2 dimensional truncated SVD\n",
    "features_reduced = TruncatedSVD().fit_transform(features)\n",
    "sns.scatterplot(x=features_reduced[:,0], y=features_reduced[:,1], hue=labels, alpha=0.2)\n",
    "plt.title('Plotted Feature Data (Award Win vs Loss) Using Truncated SVD')\n",
    "plt.show()"
   ]
  },
  {
   "cell_type": "markdown",
   "id": "df256547",
   "metadata": {},
   "source": [
    "## Create Chunks of Tokens out of the Paragraphs"
   ]
  },
  {
   "cell_type": "markdown",
   "id": "031bd3bb",
   "metadata": {},
   "source": [
    "Since there is a significant discrepancy between the lengths of the shortest \"paragraph\" and the longest \"paragraph\", we felt like creating standardized chunks of tokens to feed into our vectorizer could help normalize our vectors and provide more informative outputs."
   ]
  },
  {
   "cell_type": "code",
   "execution_count": 22,
   "id": "edbc625a",
   "metadata": {
    "tags": []
   },
   "outputs": [],
   "source": [
    "def generate_chunks(paragraphs, movie, year, win_loss, chunk_size=200):\n",
    "    chunks = []\n",
    "    chunk_movie_name = []\n",
    "    chunk_year = []\n",
    "    chunk_win_loss = []\n",
    "\n",
    "    for i in range(len(paragraphs)):\n",
    "        text = paragraphs.iloc[i]  # Extract the text from the Series\n",
    "        newsletter_type = movie.iloc[i]\n",
    "        date = year.iloc[i]\n",
    "        result = win_loss.iloc[i]\n",
    "\n",
    "        # Split the text into paragraphs using '\\n'\n",
    "        text_paragraphs = text.split('\\n')\n",
    "\n",
    "        current_chunk = []\n",
    "        current_chunk_movie_name = []\n",
    "        current_chunk_win_loss = []\n",
    "\n",
    "        for paragraph in text_paragraphs:\n",
    "            # Check if the length of the paragraph exceeds the chunk size\n",
    "            if len(paragraph) > chunk_size:\n",
    "                chunks.append(paragraph)\n",
    "                chunk_movie_name.append(newsletter_type)\n",
    "                chunk_year.append(date)\n",
    "                chunk_win_loss.append(result)\n",
    "            else:\n",
    "                # If not, add the paragraph to the current chunk\n",
    "                current_chunk.append(paragraph)\n",
    "                current_chunk_movie_name.append(newsletter_type)\n",
    "                current_chunk_win_loss.append(result)\n",
    "\n",
    "                # Check if the current chunk size exceeds the specified limit\n",
    "                if len(' '.join(current_chunk)) > chunk_size:\n",
    "                    chunks.append(' '.join(current_chunk))\n",
    "                    chunk_year.extend([date])\n",
    "                    chunk_movie_name.append(newsletter_type)\n",
    "                    chunk_win_loss.append(result)\n",
    "                    current_chunk = []\n",
    "                    current_chunk_movie_name = []\n",
    "                    current_chunk_win_loss = []\n",
    "\n",
    "        # Add any remaining paragraphs to the last chunk\n",
    "        if current_chunk:\n",
    "            chunks.append(' '.join(current_chunk))\n",
    "            chunk_year.extend([date])\n",
    "            chunk_movie_name.append(newsletter_type)\n",
    "            chunk_win_loss.append(result)\n",
    "\n",
    "    return chunks, chunk_movie_name, chunk_year, chunk_win_loss\n",
    "\n",
    "# Generate chunks\n",
    "text_chunks, chunk_movie_name, chunk_year, chunk_win_loss = generate_chunks(\n",
    "    movie_subtitles_df['text'],\n",
    "    movie_subtitles_df['Similarity Calc Name'],\n",
    "    movie_subtitles_df['years'],\n",
    "    movie_subtitles_df['Win or Loss']\n",
    ")\n"
   ]
  },
  {
   "cell_type": "code",
   "execution_count": 23,
   "id": "8da10c5a",
   "metadata": {},
   "outputs": [
    {
     "data": {
      "text/html": [
       "<div>\n",
       "<style scoped>\n",
       "    .dataframe tbody tr th:only-of-type {\n",
       "        vertical-align: middle;\n",
       "    }\n",
       "\n",
       "    .dataframe tbody tr th {\n",
       "        vertical-align: top;\n",
       "    }\n",
       "\n",
       "    .dataframe thead th {\n",
       "        text-align: right;\n",
       "    }\n",
       "</style>\n",
       "<table border=\"1\" class=\"dataframe\">\n",
       "  <thead>\n",
       "    <tr style=\"text-align: right;\">\n",
       "      <th></th>\n",
       "      <th>Text Chunk</th>\n",
       "      <th>Movie Name</th>\n",
       "      <th>Year</th>\n",
       "      <th>Win or Loss</th>\n",
       "    </tr>\n",
       "  </thead>\n",
       "  <tbody>\n",
       "    <tr>\n",
       "      <th>0</th>\n",
       "      <td>What's new?  - Same old daily bunkeroo.   Mr....</td>\n",
       "      <td>Foreign Correspondent</td>\n",
       "      <td>1940</td>\n",
       "      <td>0.0</td>\n",
       "    </tr>\n",
       "    <tr>\n",
       "      <th>1</th>\n",
       "      <td>Bah!   Foreign correspondent!   I could get mo...</td>\n",
       "      <td>Foreign Correspondent</td>\n",
       "      <td>1940</td>\n",
       "      <td>0.0</td>\n",
       "    </tr>\n",
       "    <tr>\n",
       "      <th>2</th>\n",
       "      <td>is a daily guessing game.   I want some facts...</td>\n",
       "      <td>Foreign Correspondent</td>\n",
       "      <td>1940</td>\n",
       "      <td>0.0</td>\n",
       "    </tr>\n",
       "    <tr>\n",
       "      <th>3</th>\n",
       "      <td>You've written a book on economics or somethi...</td>\n",
       "      <td>Foreign Correspondent</td>\n",
       "      <td>1940</td>\n",
       "      <td>0.0</td>\n",
       "    </tr>\n",
       "    <tr>\n",
       "      <th>4</th>\n",
       "      <td>I want a reporter, somebody who doesn't know ...</td>\n",
       "      <td>Foreign Correspondent</td>\n",
       "      <td>1940</td>\n",
       "      <td>0.0</td>\n",
       "    </tr>\n",
       "    <tr>\n",
       "      <th>...</th>\n",
       "      <td>...</td>\n",
       "      <td>...</td>\n",
       "      <td>...</td>\n",
       "      <td>...</td>\n",
       "    </tr>\n",
       "    <tr>\n",
       "      <th>90449</th>\n",
       "      <td>&lt;i&gt;What you mean?&lt;/i&gt;  &lt;i&gt;Nein, nein, nein...&lt;...</td>\n",
       "      <td>Triangle of Sadness</td>\n",
       "      <td>2022</td>\n",
       "      <td>0.0</td>\n",
       "    </tr>\n",
       "    <tr>\n",
       "      <th>90450</th>\n",
       "      <td>Abigail!  - Yaya!   Yaya!   Abigail!   Abigai...</td>\n",
       "      <td>Triangle of Sadness</td>\n",
       "      <td>2022</td>\n",
       "      <td>0.0</td>\n",
       "    </tr>\n",
       "    <tr>\n",
       "      <th>90451</th>\n",
       "      <td>It's been there the whole fucking time, Abiga...</td>\n",
       "      <td>Triangle of Sadness</td>\n",
       "      <td>2022</td>\n",
       "      <td>0.0</td>\n",
       "    </tr>\n",
       "    <tr>\n",
       "      <th>90452</th>\n",
       "      <td>- Ah...   Sorry.   Let's go.   I need to wee-w...</td>\n",
       "      <td>Triangle of Sadness</td>\n",
       "      <td>2022</td>\n",
       "      <td>0.0</td>\n",
       "    </tr>\n",
       "    <tr>\n",
       "      <th>90453</th>\n",
       "      <td>You could be my assistant.   Aargh!   Fuck!  ...</td>\n",
       "      <td>Triangle of Sadness</td>\n",
       "      <td>2022</td>\n",
       "      <td>0.0</td>\n",
       "    </tr>\n",
       "  </tbody>\n",
       "</table>\n",
       "<p>90454 rows × 4 columns</p>\n",
       "</div>"
      ],
      "text/plain": [
       "                                              Text Chunk  \\\n",
       "0       What's new?  - Same old daily bunkeroo.   Mr....   \n",
       "1      Bah!   Foreign correspondent!   I could get mo...   \n",
       "2       is a daily guessing game.   I want some facts...   \n",
       "3       You've written a book on economics or somethi...   \n",
       "4       I want a reporter, somebody who doesn't know ...   \n",
       "...                                                  ...   \n",
       "90449  <i>What you mean?</i>  <i>Nein, nein, nein...<...   \n",
       "90450   Abigail!  - Yaya!   Yaya!   Abigail!   Abigai...   \n",
       "90451   It's been there the whole fucking time, Abiga...   \n",
       "90452  - Ah...   Sorry.   Let's go.   I need to wee-w...   \n",
       "90453   You could be my assistant.   Aargh!   Fuck!  ...   \n",
       "\n",
       "                  Movie Name  Year  Win or Loss  \n",
       "0      Foreign Correspondent  1940          0.0  \n",
       "1      Foreign Correspondent  1940          0.0  \n",
       "2      Foreign Correspondent  1940          0.0  \n",
       "3      Foreign Correspondent  1940          0.0  \n",
       "4      Foreign Correspondent  1940          0.0  \n",
       "...                      ...   ...          ...  \n",
       "90449    Triangle of Sadness  2022          0.0  \n",
       "90450    Triangle of Sadness  2022          0.0  \n",
       "90451    Triangle of Sadness  2022          0.0  \n",
       "90452    Triangle of Sadness  2022          0.0  \n",
       "90453    Triangle of Sadness  2022          0.0  \n",
       "\n",
       "[90454 rows x 4 columns]"
      ]
     },
     "execution_count": 23,
     "metadata": {},
     "output_type": "execute_result"
    }
   ],
   "source": [
    "# Visualize token chunk features\n",
    "chunks_df = pd.DataFrame({\n",
    "    'Text Chunk': text_chunks,\n",
    "    'Movie Name': chunk_movie_name,\n",
    "    'Year': chunk_year,\n",
    "    'Win or Loss': chunk_win_loss\n",
    "})\n",
    "\n",
    "chunks_df"
   ]
  },
  {
   "cell_type": "code",
   "execution_count": 24,
   "id": "d6241ff6",
   "metadata": {},
   "outputs": [],
   "source": [
    "# TFIDF Vectorizer with idf on\n",
    "chunk_vectorizer = TfidfVectorizer(use_idf=True, norm=None)"
   ]
  },
  {
   "cell_type": "code",
   "execution_count": 25,
   "id": "9e17b6be",
   "metadata": {
    "tags": []
   },
   "outputs": [],
   "source": [
    "# Vectorize chunked texts\n",
    "X_chunked = chunk_vectorizer.fit_transform(text_chunks)"
   ]
  },
  {
   "cell_type": "markdown",
   "id": "e9542aa6",
   "metadata": {},
   "source": [
    "# 3. Unsupervised Cluster Analysis\n",
    "\n",
    "An initial unsupervised cluster analysis was performed to identify any discernible patterns in the data prior to further processing. Potential areas of pattern appearance are hypothesized to potentially be: winners/losers, movie release time period, and differences in sentiment.\n",
    "\n",
    "First, we used the elbow method to try and identify the optimal number of clusters for which to perform the KMeans cluster analysis. For each value of K, we are calculating WCSS (Within-Cluster Sum of Square). WCSS is the sum of the squared distance between each point and the centroid in a cluster."
   ]
  },
  {
   "cell_type": "code",
   "execution_count": 26,
   "id": "887fede5",
   "metadata": {},
   "outputs": [],
   "source": [
    "# Using the elbow method to find the optimal number of clusters\n",
    "# Referenced: https://www.analyticsvidhya.com/blog/2021/01/in-depth-intuition-of-k-means-clustering-algorithm-in-machine-learning/\n",
    "\n",
    "wcss = [] \n",
    "t0 = time.time()\n",
    "for i in range(1, 20): \n",
    "    kmeans = KMeans(n_clusters = i, init = 'k-means++', random_state = 42)\n",
    "    kmeans.fit(X_chunked) \n",
    "    wcss.append(kmeans.inertia_)\n",
    "t1 = time.time()\n",
    "    \n",
    "print(\"Plotting the Elbow curve took:{:.1f}s \".format(t1-t0))\n",
    "\n",
    "# Plotting the Elbow Curve\n",
    "plt.figure(figsize=(8, 6))\n",
    "plt.plot(range(1, 20), wcss, marker='o', linestyle='-', color='b')\n",
    "plt.title('Elbow Method for Optimal K')\n",
    "plt.xlabel('Number of Clusters (K)')\n",
    "plt.ylabel('Within-Cluster-Sum-of-Squares (WCSS)')\n",
    "plt.show()"
   ]
  },
  {
   "cell_type": "code",
   "execution_count": 27,
   "id": "bec678c7",
   "metadata": {
    "tags": []
   },
   "outputs": [],
   "source": [
    "y_pred = KMeans(n_clusters=2, n_init='auto').fit_predict(X_chunked)"
   ]
  },
  {
   "cell_type": "code",
   "execution_count": 28,
   "id": "5b35ccad",
   "metadata": {},
   "outputs": [],
   "source": [
    "# Plotting function\n",
    "def plot_compare(X, labels, title, alpha=0.2):\n",
    "    '''\n",
    "    Takes an array of object data, a list of cluster labels, a title string, and an optional alpha value.\n",
    "    Reduces dimensions to 2 if necessary and plots the clustering with and without coloring by label.\n",
    "    Returns nothing.\n",
    "    '''\n",
    "    if X.shape[1] > 2:\n",
    "        svd = TruncatedSVD(n_components=3)\n",
    "        X_2d = svd.fit_transform(X)\n",
    "    else:\n",
    "        X_2d = X\n",
    "\n",
    "    # initialize figsize in prompt\n",
    "    plt.figure(figsize=(12, 6))\n",
    "\n",
    "    # left subplot, alpha value in function cell\n",
    "    plt.subplot(121)\n",
    "    plt.scatter(X_2d[:, 0], X_2d[:, 1], alpha=alpha)\n",
    "    plt.title(\"Dimension-Reduced Unclustered Data\")\n",
    "\n",
    "    # right subplot, same coordinate data and supplied cluster labels, alpha value in function cell\n",
    "    plt.subplot(122)\n",
    "    plt.scatter(X_2d[:, 0], X_2d[:, 1], c=labels, alpha=alpha)\n",
    "    plt.title(\"Data with Clustering\")\n",
    "\n",
    "    # Set the common title for the entire figure\n",
    "    plt.title(title)"
   ]
  },
  {
   "cell_type": "code",
   "execution_count": 29,
   "id": "f428f18c",
   "metadata": {},
   "outputs": [],
   "source": [
    "# plot resulting clustering\n",
    "plot_compare(X_chunked, y_pred, 'k-Means Clustering with 3 Groups on Vectorized Movie Data')"
   ]
  },
  {
   "cell_type": "markdown",
   "id": "037e3f1f",
   "metadata": {},
   "source": [
    "Since the Within-Cluster-Sum-of-Squares (WCSS) does not seem to show a clear elbow during the KMeans analysis, we realized that KMeans might not be the best algorithm to try and determine patterns or clusters in the data. Since there is no distinct elbow, interpretation is also much less straightforward. Therefore, it is difficult to try to support or reject the hypotheses set out at the onset of the KMeans analysis. "
   ]
  },
  {
   "cell_type": "markdown",
   "id": "1c7d4062",
   "metadata": {},
   "source": [
    "# 4. Baseline Supervised Classification Task for Winner vs Loser Classification "
   ]
  },
  {
   "cell_type": "markdown",
   "id": "777e05c6",
   "metadata": {},
   "source": [
    "We aimed to apply two commonly used supervised classification methods (Logistic Regression and Random Forest) in 3 slightly modified methods (unigram token features, 200 token chunk features, stopword removal) to set a baseline understanding of whether classifying movies into winner or loser categories for the Academy Awards Best Original Screenplay was possible, and attempt to understand that of the 3 methods, which performed the best what we could learn from their performance."
   ]
  },
  {
   "cell_type": "markdown",
   "id": "4df22999",
   "metadata": {},
   "source": [
    "## I. Using Top 100 Unigram Token Features"
   ]
  },
  {
   "cell_type": "markdown",
   "id": "8e3b8202",
   "metadata": {},
   "source": [
    "#### Identifying the top 100 features\n",
    "Referenced PS2 method - performed a feature reduction, selectng the top 100 features using a random forest selector to reduce the number of features fed into the model - this was to help address dimentionality issues that could have arisen."
   ]
  },
  {
   "cell_type": "code",
   "execution_count": 30,
   "id": "edeed350",
   "metadata": {},
   "outputs": [
    {
     "name": "stdout",
     "output_type": "stream",
     "text": [
      "Features Shape: (355, 53266) Labels Shape: (355,)\n"
     ]
    }
   ],
   "source": [
    "# Create a Vectorizer\n",
    "vectorizer = TfidfVectorizer(use_idf=True)\n",
    "X = vectorizer.fit_transform(movie_subtitles_df['text'])\n",
    "\n",
    "# Convert the TF-IDF matrix to a DataFrame\n",
    "features = pd.DataFrame(X.toarray(), columns=vectorizer.get_feature_names_out())\n",
    "\n",
    "# Set features and labels\n",
    "labels = movie_subtitles_df['Win or Loss']\n",
    "features = features\n",
    "\n",
    "# Display the shapes of features and labels\n",
    "print('Features Shape:', features.shape, 'Labels Shape:', labels.shape)"
   ]
  },
  {
   "cell_type": "code",
   "execution_count": 31,
   "id": "40269476",
   "metadata": {},
   "outputs": [
    {
     "name": "stdout",
     "output_type": "stream",
     "text": [
      "Top 100 features (Random Forest): ['dieu' 'sting' 'after' 'lap' 'listen' 'cutters' 'sheet' 'drivin' 'lettin'\n",
      " 'named' 'pulled' 'is' 'replay' 'two' 'sang' 'regretted' 'band' 'peaches'\n",
      " 'using' 'gallons' 'sew' 'put' 'ohio' 'meetin' 'bay' 'matilde' 'cooler'\n",
      " 'at' 'choking' 'explained' 'convert' 'uppers' 'also' 'bride' 'jump'\n",
      " 'rejoice' 'this' 'ahold' 'louise' 'elevator' 'unless' 'dad' 'sistine'\n",
      " 'going' 'total' 'trying' 'feel' 'acting' 'francisco' 'dan' 'children'\n",
      " 'em' 'explanation' 'riot' 'each' 'haze' 'pilferage' 'music' 'tellin'\n",
      " 'fork' 'faced' 'chairs' 'patrick' 'wilson' 'freaks' 'howl' 'cities'\n",
      " 'hiya' 'remarkable' 'darned' 'drop' 'motivated' 'gossip' 'humbly' 'blows'\n",
      " 'thuds' 'speaking' 'professor' 'solutions' 'divisions' 'as' 'home'\n",
      " 'lessons' 'exhibition' 'such' 'cool' 'pomona' 'distribution' 'working'\n",
      " 'yogurt' 'third' 'antwerp' 'shock' 'play' 'slim' 'headlines' 'rundstedt'\n",
      " 'wonder' 'setup' 'doll']\n"
     ]
    }
   ],
   "source": [
    "# Train the model on the full feature set\n",
    "rf_full = RandomForestClassifier()\n",
    "rf_full.fit(features, labels)\n",
    "\n",
    "# Get feature importances\n",
    "importances = rf_full.feature_importances_\n",
    "indices = importances.argsort()[::-1]\n",
    "\n",
    "# Select the top 100 features\n",
    "top_100_features_rf = np.array(vectorizer.get_feature_names_out())[indices][:100]\n",
    "print(\"Top 100 features (Random Forest):\", top_100_features_rf)"
   ]
  },
  {
   "cell_type": "code",
   "execution_count": 32,
   "id": "05772eb6",
   "metadata": {},
   "outputs": [],
   "source": [
    "X_top_100 = features[top_100_features_rf]\n",
    "y = labels"
   ]
  },
  {
   "cell_type": "markdown",
   "id": "45609297",
   "metadata": {},
   "source": [
    "### Logistic Regression"
   ]
  },
  {
   "cell_type": "code",
   "execution_count": 33,
   "id": "bcbb5d0e",
   "metadata": {},
   "outputs": [],
   "source": [
    "# Train test val split\n",
    "X_train_temp, X_test, y_train_temp, y_test = train_test_split(X_top_100, y, test_size=0.3, random_state=42)\n",
    "X_train, X_val, y_train, y_val = train_test_split(X_train_temp, y_train_temp, test_size=0.5, random_state=42)\n",
    "\n",
    "# Extract NumPy arrays from DataFrames\n",
    "X_train_array = X_train.values\n",
    "X_val_array = X_val.values\n",
    "X_test_array = X_test.values"
   ]
  },
  {
   "cell_type": "code",
   "execution_count": 34,
   "id": "a0058a62",
   "metadata": {},
   "outputs": [
    {
     "name": "stdout",
     "output_type": "stream",
     "text": [
      "              precision    recall  f1-score   support\n",
      "\n",
      "         0.0       0.81      1.00      0.89       100\n",
      "         1.0       1.00      0.00      0.00        24\n",
      "\n",
      "    accuracy                           0.81       124\n",
      "   macro avg       0.90      0.50      0.45       124\n",
      "weighted avg       0.84      0.81      0.72       124\n",
      "\n"
     ]
    }
   ],
   "source": [
    "# Train logistic regression model on data\n",
    "logreg_clf = LogisticRegression(max_iter=10000).fit(X_train_array, y_train)\n",
    "\n",
    "# Predict on the validation data\n",
    "y_val_pred = logreg_clf.predict(X_val_array)\n",
    "print(classification_report(y_val, y_val_pred, zero_division = 1))"
   ]
  },
  {
   "cell_type": "code",
   "execution_count": 35,
   "id": "8ca3b87b",
   "metadata": {},
   "outputs": [
    {
     "name": "stdout",
     "output_type": "stream",
     "text": [
      "              precision    recall  f1-score   support\n",
      "\n",
      "         0.0       0.80      1.00      0.89        86\n",
      "         1.0       1.00      0.00      0.00        21\n",
      "\n",
      "    accuracy                           0.80       107\n",
      "   macro avg       0.90      0.50      0.45       107\n",
      "weighted avg       0.84      0.80      0.72       107\n",
      "\n"
     ]
    }
   ],
   "source": [
    "# Predict on test set\n",
    "y_test_pred = logreg_clf.predict(X_test_array)\n",
    "print(classification_report(y_test, y_test_pred, zero_division = 1))"
   ]
  },
  {
   "cell_type": "markdown",
   "id": "f827c0e8",
   "metadata": {},
   "source": [
    "### Random Forest"
   ]
  },
  {
   "cell_type": "code",
   "execution_count": 36,
   "id": "144b2678",
   "metadata": {},
   "outputs": [
    {
     "data": {
      "text/html": [
       "<style>#sk-container-id-1 {color: black;}#sk-container-id-1 pre{padding: 0;}#sk-container-id-1 div.sk-toggleable {background-color: white;}#sk-container-id-1 label.sk-toggleable__label {cursor: pointer;display: block;width: 100%;margin-bottom: 0;padding: 0.3em;box-sizing: border-box;text-align: center;}#sk-container-id-1 label.sk-toggleable__label-arrow:before {content: \"▸\";float: left;margin-right: 0.25em;color: #696969;}#sk-container-id-1 label.sk-toggleable__label-arrow:hover:before {color: black;}#sk-container-id-1 div.sk-estimator:hover label.sk-toggleable__label-arrow:before {color: black;}#sk-container-id-1 div.sk-toggleable__content {max-height: 0;max-width: 0;overflow: hidden;text-align: left;background-color: #f0f8ff;}#sk-container-id-1 div.sk-toggleable__content pre {margin: 0.2em;color: black;border-radius: 0.25em;background-color: #f0f8ff;}#sk-container-id-1 input.sk-toggleable__control:checked~div.sk-toggleable__content {max-height: 200px;max-width: 100%;overflow: auto;}#sk-container-id-1 input.sk-toggleable__control:checked~label.sk-toggleable__label-arrow:before {content: \"▾\";}#sk-container-id-1 div.sk-estimator input.sk-toggleable__control:checked~label.sk-toggleable__label {background-color: #d4ebff;}#sk-container-id-1 div.sk-label input.sk-toggleable__control:checked~label.sk-toggleable__label {background-color: #d4ebff;}#sk-container-id-1 input.sk-hidden--visually {border: 0;clip: rect(1px 1px 1px 1px);clip: rect(1px, 1px, 1px, 1px);height: 1px;margin: -1px;overflow: hidden;padding: 0;position: absolute;width: 1px;}#sk-container-id-1 div.sk-estimator {font-family: monospace;background-color: #f0f8ff;border: 1px dotted black;border-radius: 0.25em;box-sizing: border-box;margin-bottom: 0.5em;}#sk-container-id-1 div.sk-estimator:hover {background-color: #d4ebff;}#sk-container-id-1 div.sk-parallel-item::after {content: \"\";width: 100%;border-bottom: 1px solid gray;flex-grow: 1;}#sk-container-id-1 div.sk-label:hover label.sk-toggleable__label {background-color: #d4ebff;}#sk-container-id-1 div.sk-serial::before {content: \"\";position: absolute;border-left: 1px solid gray;box-sizing: border-box;top: 0;bottom: 0;left: 50%;z-index: 0;}#sk-container-id-1 div.sk-serial {display: flex;flex-direction: column;align-items: center;background-color: white;padding-right: 0.2em;padding-left: 0.2em;position: relative;}#sk-container-id-1 div.sk-item {position: relative;z-index: 1;}#sk-container-id-1 div.sk-parallel {display: flex;align-items: stretch;justify-content: center;background-color: white;position: relative;}#sk-container-id-1 div.sk-item::before, #sk-container-id-1 div.sk-parallel-item::before {content: \"\";position: absolute;border-left: 1px solid gray;box-sizing: border-box;top: 0;bottom: 0;left: 50%;z-index: -1;}#sk-container-id-1 div.sk-parallel-item {display: flex;flex-direction: column;z-index: 1;position: relative;background-color: white;}#sk-container-id-1 div.sk-parallel-item:first-child::after {align-self: flex-end;width: 50%;}#sk-container-id-1 div.sk-parallel-item:last-child::after {align-self: flex-start;width: 50%;}#sk-container-id-1 div.sk-parallel-item:only-child::after {width: 0;}#sk-container-id-1 div.sk-dashed-wrapped {border: 1px dashed gray;margin: 0 0.4em 0.5em 0.4em;box-sizing: border-box;padding-bottom: 0.4em;background-color: white;}#sk-container-id-1 div.sk-label label {font-family: monospace;font-weight: bold;display: inline-block;line-height: 1.2em;}#sk-container-id-1 div.sk-label-container {text-align: center;}#sk-container-id-1 div.sk-container {/* jupyter's `normalize.less` sets `[hidden] { display: none; }` but bootstrap.min.css set `[hidden] { display: none !important; }` so we also need the `!important` here to be able to override the default hidden behavior on the sphinx rendered scikit-learn.org. See: https://github.com/scikit-learn/scikit-learn/issues/21755 */display: inline-block !important;position: relative;}#sk-container-id-1 div.sk-text-repr-fallback {display: none;}</style><div id=\"sk-container-id-1\" class=\"sk-top-container\"><div class=\"sk-text-repr-fallback\"><pre>RandomForestClassifier(random_state=42)</pre><b>In a Jupyter environment, please rerun this cell to show the HTML representation or trust the notebook. <br />On GitHub, the HTML representation is unable to render, please try loading this page with nbviewer.org.</b></div><div class=\"sk-container\" hidden><div class=\"sk-item\"><div class=\"sk-estimator sk-toggleable\"><input class=\"sk-toggleable__control sk-hidden--visually\" id=\"sk-estimator-id-1\" type=\"checkbox\" checked><label for=\"sk-estimator-id-1\" class=\"sk-toggleable__label sk-toggleable__label-arrow\">RandomForestClassifier</label><div class=\"sk-toggleable__content\"><pre>RandomForestClassifier(random_state=42)</pre></div></div></div></div></div>"
      ],
      "text/plain": [
       "RandomForestClassifier(random_state=42)"
      ]
     },
     "execution_count": 36,
     "metadata": {},
     "output_type": "execute_result"
    }
   ],
   "source": [
    "# Train random forest  classifier\n",
    "rf_clf = RandomForestClassifier(n_estimators=100, random_state=42)\n",
    "rf_clf.fit(X_train_array, y_train)"
   ]
  },
  {
   "cell_type": "code",
   "execution_count": 37,
   "id": "606d32cf",
   "metadata": {},
   "outputs": [
    {
     "name": "stdout",
     "output_type": "stream",
     "text": [
      "              precision    recall  f1-score   support\n",
      "\n",
      "         0.0       0.82      1.00      0.90       100\n",
      "         1.0       1.00      0.08      0.15        24\n",
      "\n",
      "    accuracy                           0.82       124\n",
      "   macro avg       0.91      0.54      0.53       124\n",
      "weighted avg       0.85      0.82      0.76       124\n",
      "\n"
     ]
    }
   ],
   "source": [
    "# Predict on validation set\n",
    "rf_val_predictions = rf_clf.predict(X_val_array)\n",
    "print(classification_report(y_val, rf_val_predictions, zero_division=1))"
   ]
  },
  {
   "cell_type": "code",
   "execution_count": 38,
   "id": "d48fde8c",
   "metadata": {},
   "outputs": [
    {
     "name": "stdout",
     "output_type": "stream",
     "text": [
      "              precision    recall  f1-score   support\n",
      "\n",
      "         0.0       0.80      1.00      0.89        86\n",
      "         1.0       1.00      0.00      0.00        21\n",
      "\n",
      "    accuracy                           0.80       107\n",
      "   macro avg       0.90      0.50      0.45       107\n",
      "weighted avg       0.84      0.80      0.72       107\n",
      "\n"
     ]
    }
   ],
   "source": [
    "# Predict on test set\n",
    "rf_test_predictions = rf_clf.predict(X_test_array)\n",
    "print(classification_report(y_test, rf_test_predictions, zero_division=1))"
   ]
  },
  {
   "cell_type": "markdown",
   "id": "0c396ff9",
   "metadata": {},
   "source": [
    "## II. Using Token Chunk Features"
   ]
  },
  {
   "cell_type": "markdown",
   "id": "34d18879",
   "metadata": {},
   "source": [
    "#### Pre-processing and creating train test split"
   ]
  },
  {
   "cell_type": "code",
   "execution_count": 39,
   "id": "1910aed6",
   "metadata": {},
   "outputs": [],
   "source": [
    "X = text_chunks\n",
    "y = chunk_win_loss"
   ]
  },
  {
   "cell_type": "code",
   "execution_count": 40,
   "id": "467844b8",
   "metadata": {},
   "outputs": [],
   "source": [
    "# Train test val Split\n",
    "X_train, X_temp, y_train, y_temp = train_test_split(X, y, test_size=0.3, random_state=42, stratify=y)\n",
    "X_val, X_test, y_val, y_test = train_test_split(X_temp, y_temp, test_size=0.5, random_state=42, stratify=y_temp)"
   ]
  },
  {
   "cell_type": "markdown",
   "id": "816b9bc3",
   "metadata": {},
   "source": [
    "I set a 70%, 15%, 15% split for training, test, and validation sets, respectively. I also introduced stratification of the datasets to maintain the distribution of classes in each subset."
   ]
  },
  {
   "cell_type": "code",
   "execution_count": 41,
   "id": "b58ca3d5",
   "metadata": {},
   "outputs": [],
   "source": [
    "baseline_classification_vectorizer = TfidfVectorizer(use_idf=True, norm=None)"
   ]
  },
  {
   "cell_type": "code",
   "execution_count": 42,
   "id": "4031ef67",
   "metadata": {},
   "outputs": [],
   "source": [
    "X_train_transformed = baseline_classification_vectorizer.fit_transform(X_train)\n",
    "X_test_transformed = baseline_classification_vectorizer.transform(X_test)\n",
    "X_val_transformed = baseline_classification_vectorizer.transform(X_val)"
   ]
  },
  {
   "cell_type": "markdown",
   "id": "6f2f5010",
   "metadata": {},
   "source": [
    "### Logistic Regression"
   ]
  },
  {
   "cell_type": "code",
   "execution_count": 43,
   "id": "8217bc1b",
   "metadata": {},
   "outputs": [],
   "source": [
    "# Train logistic regression classifier\n",
    "logreg_clf = LogisticRegression(max_iter = 10000).fit(X_train_transformed, y_train)"
   ]
  },
  {
   "cell_type": "code",
   "execution_count": 44,
   "id": "cdd425c1",
   "metadata": {},
   "outputs": [
    {
     "name": "stdout",
     "output_type": "stream",
     "text": [
      "              precision    recall  f1-score   support\n",
      "\n",
      "         0.0       0.87      0.87      0.87     10720\n",
      "         1.0       0.52      0.53      0.52      2848\n",
      "\n",
      "    accuracy                           0.80     13568\n",
      "   macro avg       0.70      0.70      0.70     13568\n",
      "weighted avg       0.80      0.80      0.80     13568\n",
      "\n"
     ]
    }
   ],
   "source": [
    "# Predict on validation set\n",
    "logreg_val_predictions = logreg_clf.predict(X_val_transformed)\n",
    "print(classification_report(y_val, logreg_val_predictions, zero_division=1))"
   ]
  },
  {
   "cell_type": "code",
   "execution_count": 45,
   "id": "10a251ad",
   "metadata": {},
   "outputs": [
    {
     "name": "stdout",
     "output_type": "stream",
     "text": [
      "              precision    recall  f1-score   support\n",
      "\n",
      "         0.0       0.88      0.86      0.87     10720\n",
      "         1.0       0.51      0.54      0.53      2849\n",
      "\n",
      "    accuracy                           0.80     13569\n",
      "   macro avg       0.69      0.70      0.70     13569\n",
      "weighted avg       0.80      0.80      0.80     13569\n",
      "\n"
     ]
    }
   ],
   "source": [
    "# Predict on test set\n",
    "logreg_test_predictions = logreg_clf.predict(X_test_transformed)\n",
    "print(classification_report(y_test, logreg_test_predictions, zero_division=1))"
   ]
  },
  {
   "cell_type": "markdown",
   "id": "45fab883",
   "metadata": {},
   "source": [
    "It seems as though the logistic regression classifier is essentially predicting that all movie scripts will lose and not win the Academy Award for Best Original Screenplay. "
   ]
  },
  {
   "cell_type": "markdown",
   "id": "5e59289c",
   "metadata": {},
   "source": [
    "### Random Forest"
   ]
  },
  {
   "cell_type": "code",
   "execution_count": 46,
   "id": "caa2d68f",
   "metadata": {},
   "outputs": [
    {
     "data": {
      "text/html": [
       "<style>#sk-container-id-2 {color: black;}#sk-container-id-2 pre{padding: 0;}#sk-container-id-2 div.sk-toggleable {background-color: white;}#sk-container-id-2 label.sk-toggleable__label {cursor: pointer;display: block;width: 100%;margin-bottom: 0;padding: 0.3em;box-sizing: border-box;text-align: center;}#sk-container-id-2 label.sk-toggleable__label-arrow:before {content: \"▸\";float: left;margin-right: 0.25em;color: #696969;}#sk-container-id-2 label.sk-toggleable__label-arrow:hover:before {color: black;}#sk-container-id-2 div.sk-estimator:hover label.sk-toggleable__label-arrow:before {color: black;}#sk-container-id-2 div.sk-toggleable__content {max-height: 0;max-width: 0;overflow: hidden;text-align: left;background-color: #f0f8ff;}#sk-container-id-2 div.sk-toggleable__content pre {margin: 0.2em;color: black;border-radius: 0.25em;background-color: #f0f8ff;}#sk-container-id-2 input.sk-toggleable__control:checked~div.sk-toggleable__content {max-height: 200px;max-width: 100%;overflow: auto;}#sk-container-id-2 input.sk-toggleable__control:checked~label.sk-toggleable__label-arrow:before {content: \"▾\";}#sk-container-id-2 div.sk-estimator input.sk-toggleable__control:checked~label.sk-toggleable__label {background-color: #d4ebff;}#sk-container-id-2 div.sk-label input.sk-toggleable__control:checked~label.sk-toggleable__label {background-color: #d4ebff;}#sk-container-id-2 input.sk-hidden--visually {border: 0;clip: rect(1px 1px 1px 1px);clip: rect(1px, 1px, 1px, 1px);height: 1px;margin: -1px;overflow: hidden;padding: 0;position: absolute;width: 1px;}#sk-container-id-2 div.sk-estimator {font-family: monospace;background-color: #f0f8ff;border: 1px dotted black;border-radius: 0.25em;box-sizing: border-box;margin-bottom: 0.5em;}#sk-container-id-2 div.sk-estimator:hover {background-color: #d4ebff;}#sk-container-id-2 div.sk-parallel-item::after {content: \"\";width: 100%;border-bottom: 1px solid gray;flex-grow: 1;}#sk-container-id-2 div.sk-label:hover label.sk-toggleable__label {background-color: #d4ebff;}#sk-container-id-2 div.sk-serial::before {content: \"\";position: absolute;border-left: 1px solid gray;box-sizing: border-box;top: 0;bottom: 0;left: 50%;z-index: 0;}#sk-container-id-2 div.sk-serial {display: flex;flex-direction: column;align-items: center;background-color: white;padding-right: 0.2em;padding-left: 0.2em;position: relative;}#sk-container-id-2 div.sk-item {position: relative;z-index: 1;}#sk-container-id-2 div.sk-parallel {display: flex;align-items: stretch;justify-content: center;background-color: white;position: relative;}#sk-container-id-2 div.sk-item::before, #sk-container-id-2 div.sk-parallel-item::before {content: \"\";position: absolute;border-left: 1px solid gray;box-sizing: border-box;top: 0;bottom: 0;left: 50%;z-index: -1;}#sk-container-id-2 div.sk-parallel-item {display: flex;flex-direction: column;z-index: 1;position: relative;background-color: white;}#sk-container-id-2 div.sk-parallel-item:first-child::after {align-self: flex-end;width: 50%;}#sk-container-id-2 div.sk-parallel-item:last-child::after {align-self: flex-start;width: 50%;}#sk-container-id-2 div.sk-parallel-item:only-child::after {width: 0;}#sk-container-id-2 div.sk-dashed-wrapped {border: 1px dashed gray;margin: 0 0.4em 0.5em 0.4em;box-sizing: border-box;padding-bottom: 0.4em;background-color: white;}#sk-container-id-2 div.sk-label label {font-family: monospace;font-weight: bold;display: inline-block;line-height: 1.2em;}#sk-container-id-2 div.sk-label-container {text-align: center;}#sk-container-id-2 div.sk-container {/* jupyter's `normalize.less` sets `[hidden] { display: none; }` but bootstrap.min.css set `[hidden] { display: none !important; }` so we also need the `!important` here to be able to override the default hidden behavior on the sphinx rendered scikit-learn.org. See: https://github.com/scikit-learn/scikit-learn/issues/21755 */display: inline-block !important;position: relative;}#sk-container-id-2 div.sk-text-repr-fallback {display: none;}</style><div id=\"sk-container-id-2\" class=\"sk-top-container\"><div class=\"sk-text-repr-fallback\"><pre>RandomForestClassifier(random_state=42)</pre><b>In a Jupyter environment, please rerun this cell to show the HTML representation or trust the notebook. <br />On GitHub, the HTML representation is unable to render, please try loading this page with nbviewer.org.</b></div><div class=\"sk-container\" hidden><div class=\"sk-item\"><div class=\"sk-estimator sk-toggleable\"><input class=\"sk-toggleable__control sk-hidden--visually\" id=\"sk-estimator-id-2\" type=\"checkbox\" checked><label for=\"sk-estimator-id-2\" class=\"sk-toggleable__label sk-toggleable__label-arrow\">RandomForestClassifier</label><div class=\"sk-toggleable__content\"><pre>RandomForestClassifier(random_state=42)</pre></div></div></div></div></div>"
      ],
      "text/plain": [
       "RandomForestClassifier(random_state=42)"
      ]
     },
     "execution_count": 46,
     "metadata": {},
     "output_type": "execute_result"
    }
   ],
   "source": [
    "# Train random forest  classifier\n",
    "rf_clf = RandomForestClassifier(n_estimators=100, random_state=42)\n",
    "rf_clf.fit(X_train_transformed, y_train)"
   ]
  },
  {
   "cell_type": "code",
   "execution_count": 47,
   "id": "5d552ca4",
   "metadata": {},
   "outputs": [
    {
     "name": "stdout",
     "output_type": "stream",
     "text": [
      "              precision    recall  f1-score   support\n",
      "\n",
      "         0.0       0.84      0.99      0.91     10720\n",
      "         1.0       0.88      0.27      0.42      2848\n",
      "\n",
      "    accuracy                           0.84     13568\n",
      "   macro avg       0.86      0.63      0.66     13568\n",
      "weighted avg       0.85      0.84      0.80     13568\n",
      "\n"
     ]
    }
   ],
   "source": [
    "# Predict on validation set\n",
    "rf_val_predictions = rf_clf.predict(X_val_transformed)\n",
    "print(classification_report(y_val, rf_val_predictions, zero_division=1))"
   ]
  },
  {
   "cell_type": "code",
   "execution_count": 48,
   "id": "40b89fbf",
   "metadata": {},
   "outputs": [
    {
     "name": "stdout",
     "output_type": "stream",
     "text": [
      "              precision    recall  f1-score   support\n",
      "\n",
      "         0.0       0.84      0.99      0.91     10720\n",
      "         1.0       0.89      0.28      0.43      2849\n",
      "\n",
      "    accuracy                           0.84     13569\n",
      "   macro avg       0.86      0.64      0.67     13569\n",
      "weighted avg       0.85      0.84      0.81     13569\n",
      "\n"
     ]
    }
   ],
   "source": [
    "# Predict on test set\n",
    "rf_test_predictions = rf_clf.predict(X_test_transformed)\n",
    "print(classification_report(y_test, rf_test_predictions, zero_division=1))"
   ]
  },
  {
   "cell_type": "markdown",
   "id": "134b5753",
   "metadata": {},
   "source": [
    "## III. Same as Part 5, but with Stopword Removal"
   ]
  },
  {
   "cell_type": "code",
   "execution_count": 49,
   "id": "6c4db3c8",
   "metadata": {},
   "outputs": [],
   "source": [
    "# Create vectorizer with stop word removal\n",
    "stopword_removal_classification_vectorizer = TfidfVectorizer(use_idf=True, stop_words = 'english')"
   ]
  },
  {
   "cell_type": "code",
   "execution_count": 50,
   "id": "b14a34ee",
   "metadata": {},
   "outputs": [],
   "source": [
    "X_train_transformed = stopword_removal_classification_vectorizer.fit_transform(X_train)\n",
    "X_test_transformed = stopword_removal_classification_vectorizer.transform(X_test)\n",
    "X_val_transformed = stopword_removal_classification_vectorizer.transform(X_val)"
   ]
  },
  {
   "cell_type": "markdown",
   "id": "839ff0bc",
   "metadata": {},
   "source": [
    "### Logistic Regression"
   ]
  },
  {
   "cell_type": "code",
   "execution_count": 51,
   "id": "cf2aedab",
   "metadata": {},
   "outputs": [],
   "source": [
    "# Train logistic regression classifier\n",
    "logreg_clf = LogisticRegression(max_iter = 10000).fit(X_train_transformed, y_train)"
   ]
  },
  {
   "cell_type": "code",
   "execution_count": 52,
   "id": "5b1ed553",
   "metadata": {},
   "outputs": [
    {
     "name": "stdout",
     "output_type": "stream",
     "text": [
      "              precision    recall  f1-score   support\n",
      "\n",
      "         0.0       0.82      0.99      0.90     10720\n",
      "         1.0       0.89      0.20      0.33      2848\n",
      "\n",
      "    accuracy                           0.83     13568\n",
      "   macro avg       0.86      0.60      0.61     13568\n",
      "weighted avg       0.84      0.83      0.78     13568\n",
      "\n"
     ]
    }
   ],
   "source": [
    "# Predict on validation set\n",
    "logreg_val_predictions = logreg_clf.predict(X_val_transformed)\n",
    "print(classification_report(y_val, logreg_val_predictions, zero_division=1))"
   ]
  },
  {
   "cell_type": "code",
   "execution_count": 53,
   "id": "966ccc36",
   "metadata": {},
   "outputs": [
    {
     "name": "stdout",
     "output_type": "stream",
     "text": [
      "              precision    recall  f1-score   support\n",
      "\n",
      "         0.0       0.82      0.99      0.90     10720\n",
      "         1.0       0.90      0.20      0.33      2849\n",
      "\n",
      "    accuracy                           0.83     13569\n",
      "   macro avg       0.86      0.60      0.61     13569\n",
      "weighted avg       0.84      0.83      0.78     13569\n",
      "\n"
     ]
    }
   ],
   "source": [
    "# Predict on test set\n",
    "logreg_test_predictions = logreg_clf.predict(X_test_transformed)\n",
    "print(classification_report(y_test, logreg_test_predictions, zero_division=1))"
   ]
  },
  {
   "cell_type": "markdown",
   "id": "2cee6d27",
   "metadata": {},
   "source": [
    "### Random Forest"
   ]
  },
  {
   "cell_type": "code",
   "execution_count": 54,
   "id": "eea14032",
   "metadata": {},
   "outputs": [
    {
     "data": {
      "text/html": [
       "<style>#sk-container-id-3 {color: black;}#sk-container-id-3 pre{padding: 0;}#sk-container-id-3 div.sk-toggleable {background-color: white;}#sk-container-id-3 label.sk-toggleable__label {cursor: pointer;display: block;width: 100%;margin-bottom: 0;padding: 0.3em;box-sizing: border-box;text-align: center;}#sk-container-id-3 label.sk-toggleable__label-arrow:before {content: \"▸\";float: left;margin-right: 0.25em;color: #696969;}#sk-container-id-3 label.sk-toggleable__label-arrow:hover:before {color: black;}#sk-container-id-3 div.sk-estimator:hover label.sk-toggleable__label-arrow:before {color: black;}#sk-container-id-3 div.sk-toggleable__content {max-height: 0;max-width: 0;overflow: hidden;text-align: left;background-color: #f0f8ff;}#sk-container-id-3 div.sk-toggleable__content pre {margin: 0.2em;color: black;border-radius: 0.25em;background-color: #f0f8ff;}#sk-container-id-3 input.sk-toggleable__control:checked~div.sk-toggleable__content {max-height: 200px;max-width: 100%;overflow: auto;}#sk-container-id-3 input.sk-toggleable__control:checked~label.sk-toggleable__label-arrow:before {content: \"▾\";}#sk-container-id-3 div.sk-estimator input.sk-toggleable__control:checked~label.sk-toggleable__label {background-color: #d4ebff;}#sk-container-id-3 div.sk-label input.sk-toggleable__control:checked~label.sk-toggleable__label {background-color: #d4ebff;}#sk-container-id-3 input.sk-hidden--visually {border: 0;clip: rect(1px 1px 1px 1px);clip: rect(1px, 1px, 1px, 1px);height: 1px;margin: -1px;overflow: hidden;padding: 0;position: absolute;width: 1px;}#sk-container-id-3 div.sk-estimator {font-family: monospace;background-color: #f0f8ff;border: 1px dotted black;border-radius: 0.25em;box-sizing: border-box;margin-bottom: 0.5em;}#sk-container-id-3 div.sk-estimator:hover {background-color: #d4ebff;}#sk-container-id-3 div.sk-parallel-item::after {content: \"\";width: 100%;border-bottom: 1px solid gray;flex-grow: 1;}#sk-container-id-3 div.sk-label:hover label.sk-toggleable__label {background-color: #d4ebff;}#sk-container-id-3 div.sk-serial::before {content: \"\";position: absolute;border-left: 1px solid gray;box-sizing: border-box;top: 0;bottom: 0;left: 50%;z-index: 0;}#sk-container-id-3 div.sk-serial {display: flex;flex-direction: column;align-items: center;background-color: white;padding-right: 0.2em;padding-left: 0.2em;position: relative;}#sk-container-id-3 div.sk-item {position: relative;z-index: 1;}#sk-container-id-3 div.sk-parallel {display: flex;align-items: stretch;justify-content: center;background-color: white;position: relative;}#sk-container-id-3 div.sk-item::before, #sk-container-id-3 div.sk-parallel-item::before {content: \"\";position: absolute;border-left: 1px solid gray;box-sizing: border-box;top: 0;bottom: 0;left: 50%;z-index: -1;}#sk-container-id-3 div.sk-parallel-item {display: flex;flex-direction: column;z-index: 1;position: relative;background-color: white;}#sk-container-id-3 div.sk-parallel-item:first-child::after {align-self: flex-end;width: 50%;}#sk-container-id-3 div.sk-parallel-item:last-child::after {align-self: flex-start;width: 50%;}#sk-container-id-3 div.sk-parallel-item:only-child::after {width: 0;}#sk-container-id-3 div.sk-dashed-wrapped {border: 1px dashed gray;margin: 0 0.4em 0.5em 0.4em;box-sizing: border-box;padding-bottom: 0.4em;background-color: white;}#sk-container-id-3 div.sk-label label {font-family: monospace;font-weight: bold;display: inline-block;line-height: 1.2em;}#sk-container-id-3 div.sk-label-container {text-align: center;}#sk-container-id-3 div.sk-container {/* jupyter's `normalize.less` sets `[hidden] { display: none; }` but bootstrap.min.css set `[hidden] { display: none !important; }` so we also need the `!important` here to be able to override the default hidden behavior on the sphinx rendered scikit-learn.org. See: https://github.com/scikit-learn/scikit-learn/issues/21755 */display: inline-block !important;position: relative;}#sk-container-id-3 div.sk-text-repr-fallback {display: none;}</style><div id=\"sk-container-id-3\" class=\"sk-top-container\"><div class=\"sk-text-repr-fallback\"><pre>RandomForestClassifier(random_state=42)</pre><b>In a Jupyter environment, please rerun this cell to show the HTML representation or trust the notebook. <br />On GitHub, the HTML representation is unable to render, please try loading this page with nbviewer.org.</b></div><div class=\"sk-container\" hidden><div class=\"sk-item\"><div class=\"sk-estimator sk-toggleable\"><input class=\"sk-toggleable__control sk-hidden--visually\" id=\"sk-estimator-id-3\" type=\"checkbox\" checked><label for=\"sk-estimator-id-3\" class=\"sk-toggleable__label sk-toggleable__label-arrow\">RandomForestClassifier</label><div class=\"sk-toggleable__content\"><pre>RandomForestClassifier(random_state=42)</pre></div></div></div></div></div>"
      ],
      "text/plain": [
       "RandomForestClassifier(random_state=42)"
      ]
     },
     "execution_count": 54,
     "metadata": {},
     "output_type": "execute_result"
    }
   ],
   "source": [
    "# Train random forest  classifier\n",
    "rf_clf = RandomForestClassifier(n_estimators=100, random_state=42)\n",
    "rf_clf.fit(X_train_transformed, y_train)"
   ]
  },
  {
   "cell_type": "code",
   "execution_count": 55,
   "id": "14325d2c",
   "metadata": {},
   "outputs": [
    {
     "name": "stdout",
     "output_type": "stream",
     "text": [
      "              precision    recall  f1-score   support\n",
      "\n",
      "         0.0       0.85      0.99      0.91     10720\n",
      "         1.0       0.86      0.32      0.47      2848\n",
      "\n",
      "    accuracy                           0.85     13568\n",
      "   macro avg       0.85      0.65      0.69     13568\n",
      "weighted avg       0.85      0.85      0.82     13568\n",
      "\n"
     ]
    }
   ],
   "source": [
    "# Predict on validation set\n",
    "rf_val_predictions = rf_clf.predict(X_val_transformed)\n",
    "print(classification_report(y_val, rf_val_predictions, zero_division=1))"
   ]
  },
  {
   "cell_type": "code",
   "execution_count": 56,
   "id": "53888706",
   "metadata": {},
   "outputs": [
    {
     "name": "stdout",
     "output_type": "stream",
     "text": [
      "              precision    recall  f1-score   support\n",
      "\n",
      "         0.0       0.85      0.98      0.91     10720\n",
      "         1.0       0.85      0.34      0.49      2849\n",
      "\n",
      "    accuracy                           0.85     13569\n",
      "   macro avg       0.85      0.66      0.70     13569\n",
      "weighted avg       0.85      0.85      0.82     13569\n",
      "\n"
     ]
    }
   ],
   "source": [
    "# Predict on test set\n",
    "rf_test_predictions = rf_clf.predict(X_test_transformed)\n",
    "print(classification_report(y_test, rf_test_predictions, zero_division=1))"
   ]
  },
  {
   "cell_type": "markdown",
   "id": "c86de61c",
   "metadata": {},
   "source": [
    "## Section Summary"
   ]
  },
  {
   "cell_type": "markdown",
   "id": "2e17d1f0",
   "metadata": {},
   "source": [
    "In all 3 sections, we kept it consistent with a TFIDF vectorizer with IDF turned on. All in all though, it seems that random forest performs better than logistic regression on average, 200 token chunk features result in better predictions than token unigrams, and as hypothesized earlier, removal of stopwords also aids in accuracy of prediction. These results could possibly indicate the importance of context, as 200-word chunks may better preserve the semantic context of the text compared to isolated token unigrams. By grouping words together, chunks might capture more meaningful phrases and expressions, providing richer contextual information for classification. At the same time, chunks can help mitigate the downsides of feature sparsity, which can be a negative when inputting full texts as features. Overall, the baseline tests are very effective at predicting win/loss of a movie."
   ]
  },
  {
   "cell_type": "markdown",
   "id": "1f982ce4",
   "metadata": {},
   "source": [
    "(also, not shown here, but prior to running classification using token chunks as features, we used entire movie subtitles as features, and saw worse performance, with weighted average scores hovering around 0.7 for both logistic regression and random forest classifiers)"
   ]
  },
  {
   "cell_type": "markdown",
   "id": "a2c7adae",
   "metadata": {},
   "source": [
    "# 5. Baseline Supervised Classification Task for Decade Classification"
   ]
  },
  {
   "cell_type": "code",
   "execution_count": 57,
   "id": "18860a95",
   "metadata": {},
   "outputs": [],
   "source": [
    "#decades \n",
    "forties = movie_subtitles_df[(movie_subtitles_df['years'] >= '1940') & (movie_subtitles_df['years'] < '1950')]\n",
    "fifties = movie_subtitles_df[(movie_subtitles_df['years'] >= '1950') & (movie_subtitles_df['years'] < '1960')]\n",
    "sixties = movie_subtitles_df[(movie_subtitles_df['years'] >= '1960') & (movie_subtitles_df['years'] < '1970')]\n",
    "seventies = movie_subtitles_df[(movie_subtitles_df['years'] >= '1970') & (movie_subtitles_df['years'] < '1980')]\n",
    "eighties = movie_subtitles_df[(movie_subtitles_df['years'] >= '1980') & (movie_subtitles_df['years'] < '1990')]\n",
    "ninties = movie_subtitles_df[(movie_subtitles_df['years'] >= '1990') & (movie_subtitles_df['years'] < '2000')]\n",
    "twenty = movie_subtitles_df[(movie_subtitles_df['years'] >= '2000') & (movie_subtitles_df['years'] < '2010')]\n",
    "twenty_ten = movie_subtitles_df[(movie_subtitles_df['years'] >= '2010') & (movie_subtitles_df['years'] < '2020')]\n",
    "twenty_twenty = movie_subtitles_df[(movie_subtitles_df['years'] >= '2020') & (movie_subtitles_df['years'] < '2030')]"
   ]
  },
  {
   "cell_type": "code",
   "execution_count": 58,
   "id": "1c504215",
   "metadata": {},
   "outputs": [
    {
     "name": "stderr",
     "output_type": "stream",
     "text": [
      "/var/folders/qy/mhlfbdm940n8kbpppfc_whdh0000gn/T/ipykernel_16109/3597684698.py:2: SettingWithCopyWarning: \n",
      "A value is trying to be set on a copy of a slice from a DataFrame.\n",
      "Try using .loc[row_indexer,col_indexer] = value instead\n",
      "\n",
      "See the caveats in the documentation: https://pandas.pydata.org/pandas-docs/stable/user_guide/indexing.html#returning-a-view-versus-a-copy\n",
      "  forties.loc[:, 'decade'] = '1940s'\n",
      "/var/folders/qy/mhlfbdm940n8kbpppfc_whdh0000gn/T/ipykernel_16109/3597684698.py:3: SettingWithCopyWarning: \n",
      "A value is trying to be set on a copy of a slice from a DataFrame.\n",
      "Try using .loc[row_indexer,col_indexer] = value instead\n",
      "\n",
      "See the caveats in the documentation: https://pandas.pydata.org/pandas-docs/stable/user_guide/indexing.html#returning-a-view-versus-a-copy\n",
      "  fifties.loc[:, 'decade'] = '1950s'\n",
      "/var/folders/qy/mhlfbdm940n8kbpppfc_whdh0000gn/T/ipykernel_16109/3597684698.py:4: SettingWithCopyWarning: \n",
      "A value is trying to be set on a copy of a slice from a DataFrame.\n",
      "Try using .loc[row_indexer,col_indexer] = value instead\n",
      "\n",
      "See the caveats in the documentation: https://pandas.pydata.org/pandas-docs/stable/user_guide/indexing.html#returning-a-view-versus-a-copy\n",
      "  sixties.loc[:, 'decade'] = '1960s'\n",
      "/var/folders/qy/mhlfbdm940n8kbpppfc_whdh0000gn/T/ipykernel_16109/3597684698.py:5: SettingWithCopyWarning: \n",
      "A value is trying to be set on a copy of a slice from a DataFrame.\n",
      "Try using .loc[row_indexer,col_indexer] = value instead\n",
      "\n",
      "See the caveats in the documentation: https://pandas.pydata.org/pandas-docs/stable/user_guide/indexing.html#returning-a-view-versus-a-copy\n",
      "  seventies.loc[:, 'decade'] = '1970s'\n",
      "/var/folders/qy/mhlfbdm940n8kbpppfc_whdh0000gn/T/ipykernel_16109/3597684698.py:6: SettingWithCopyWarning: \n",
      "A value is trying to be set on a copy of a slice from a DataFrame.\n",
      "Try using .loc[row_indexer,col_indexer] = value instead\n",
      "\n",
      "See the caveats in the documentation: https://pandas.pydata.org/pandas-docs/stable/user_guide/indexing.html#returning-a-view-versus-a-copy\n",
      "  eighties.loc[:, 'decade'] = '1980s'\n",
      "/var/folders/qy/mhlfbdm940n8kbpppfc_whdh0000gn/T/ipykernel_16109/3597684698.py:7: SettingWithCopyWarning: \n",
      "A value is trying to be set on a copy of a slice from a DataFrame.\n",
      "Try using .loc[row_indexer,col_indexer] = value instead\n",
      "\n",
      "See the caveats in the documentation: https://pandas.pydata.org/pandas-docs/stable/user_guide/indexing.html#returning-a-view-versus-a-copy\n",
      "  ninties.loc[:, 'decade'] = '1990s'\n",
      "/var/folders/qy/mhlfbdm940n8kbpppfc_whdh0000gn/T/ipykernel_16109/3597684698.py:8: SettingWithCopyWarning: \n",
      "A value is trying to be set on a copy of a slice from a DataFrame.\n",
      "Try using .loc[row_indexer,col_indexer] = value instead\n",
      "\n",
      "See the caveats in the documentation: https://pandas.pydata.org/pandas-docs/stable/user_guide/indexing.html#returning-a-view-versus-a-copy\n",
      "  twenty.loc[:, 'decade'] = '2000s'\n",
      "/var/folders/qy/mhlfbdm940n8kbpppfc_whdh0000gn/T/ipykernel_16109/3597684698.py:9: SettingWithCopyWarning: \n",
      "A value is trying to be set on a copy of a slice from a DataFrame.\n",
      "Try using .loc[row_indexer,col_indexer] = value instead\n",
      "\n",
      "See the caveats in the documentation: https://pandas.pydata.org/pandas-docs/stable/user_guide/indexing.html#returning-a-view-versus-a-copy\n",
      "  twenty_ten.loc[:, 'decade'] = '2010s'\n",
      "/var/folders/qy/mhlfbdm940n8kbpppfc_whdh0000gn/T/ipykernel_16109/3597684698.py:10: SettingWithCopyWarning: \n",
      "A value is trying to be set on a copy of a slice from a DataFrame.\n",
      "Try using .loc[row_indexer,col_indexer] = value instead\n",
      "\n",
      "See the caveats in the documentation: https://pandas.pydata.org/pandas-docs/stable/user_guide/indexing.html#returning-a-view-versus-a-copy\n",
      "  twenty_twenty.loc[:, 'decade'] = '2020s'\n"
     ]
    }
   ],
   "source": [
    "# Assign labels to each decade\n",
    "forties.loc[:, 'decade'] = '1940s'\n",
    "fifties.loc[:, 'decade'] = '1950s'\n",
    "sixties.loc[:, 'decade'] = '1960s'\n",
    "seventies.loc[:, 'decade'] = '1970s'\n",
    "eighties.loc[:, 'decade'] = '1980s'\n",
    "ninties.loc[:, 'decade'] = '1990s'\n",
    "twenty.loc[:, 'decade'] = '2000s'\n",
    "twenty_ten.loc[:, 'decade'] = '2010s'\n",
    "twenty_twenty.loc[:, 'decade'] = '2020s'\n",
    "\n",
    "# Concatenate the DataFrames\n",
    "decades = pd.concat([forties, fifties, sixties, seventies, eighties, ninties, twenty, twenty_ten, twenty_twenty])\n",
    "\n",
    "# Generate chunks\n",
    "text_chunks, chunk_movie_name, chunk_decades, chunk_win_loss = generate_chunks(\n",
    "    decades['text'],\n",
    "    decades['Similarity Calc Name'],\n",
    "    decades['decade'],\n",
    "    decades['Win or Loss']\n",
    ")\n",
    "\n",
    "# Features\n",
    "X = stopword_removal_classification_vectorizer.fit_transform(text_chunks)\n",
    "y = chunk_decades"
   ]
  },
  {
   "cell_type": "markdown",
   "id": "abae1946",
   "metadata": {},
   "source": [
    "#### Top 10 Features From Each Decade"
   ]
  },
  {
   "cell_type": "code",
   "execution_count": 59,
   "id": "1d330d7f",
   "metadata": {
    "scrolled": false
   },
   "outputs": [
    {
     "name": "stdout",
     "output_type": "stream",
     "text": [
      "\n",
      "Top 15 features for 1940s:\n",
      "Index: 3930, Feature: don\n",
      "Index: 7479, Feature: ll\n",
      "Index: 7095, Feature: know\n",
      "Index: 10590, Feature: right\n",
      "Index: 7409, Feature: like\n",
      "Index: 13994, Feature: yes\n",
      "Index: 5492, Feature: good\n",
      "Index: 2667, Feature: come\n",
      "Index: 8767, Feature: oh\n",
      "Index: 13374, Feature: ve\n",
      "Index: 6955, Feature: just\n",
      "Index: 5512, Feature: got\n",
      "Index: 11488, Feature: sir\n",
      "Index: 8332, Feature: mr\n",
      "Index: 12683, Feature: think\n",
      "\n",
      "Top 15 features for 1950s:\n",
      "Index: 4060, Feature: don\n",
      "Index: 7725, Feature: ll\n",
      "Index: 7351, Feature: know\n",
      "Index: 7635, Feature: like\n",
      "Index: 5721, Feature: got\n",
      "Index: 7213, Feature: just\n",
      "Index: 13904, Feature: ve\n",
      "Index: 10928, Feature: right\n",
      "Index: 2748, Feature: come\n",
      "Index: 9026, Feature: oh\n",
      "Index: 5698, Feature: good\n",
      "Index: 14539, Feature: yes\n",
      "Index: 7578, Feature: let\n",
      "Index: 14112, Feature: want\n",
      "Index: 13111, Feature: think\n",
      "\n",
      "Top 15 features for 1960s:\n",
      "Index: 3461, Feature: don\n",
      "Index: 6573, Feature: ll\n",
      "Index: 6276, Feature: know\n",
      "Index: 2361, Feature: come\n",
      "Index: 6512, Feature: like\n",
      "Index: 6165, Feature: just\n",
      "Index: 11737, Feature: ve\n",
      "Index: 7658, Feature: oh\n",
      "Index: 9285, Feature: right\n",
      "Index: 11932, Feature: want\n",
      "Index: 6800, Feature: man\n",
      "Index: 4883, Feature: got\n",
      "Index: 12316, Feature: yes\n",
      "Index: 6457, Feature: let\n",
      "Index: 11093, Feature: think\n",
      "\n",
      "Top 15 features for 1970s:\n",
      "Index: 4581, Feature: don\n",
      "Index: 8436, Feature: know\n",
      "Index: 8865, Feature: ll\n",
      "Index: 8271, Feature: just\n",
      "Index: 12679, Feature: right\n",
      "Index: 3104, Feature: come\n",
      "Index: 8763, Feature: like\n",
      "Index: 6515, Feature: got\n",
      "Index: 16789, Feature: yeah\n",
      "Index: 10489, Feature: oh\n",
      "Index: 15201, Feature: think\n",
      "Index: 16309, Feature: want\n",
      "Index: 16071, Feature: ve\n",
      "Index: 6494, Feature: good\n",
      "Index: 6475, Feature: going\n",
      "\n",
      "Top 15 features for 1980s:\n",
      "Index: 4969, Feature: don\n",
      "Index: 8877, Feature: know\n",
      "Index: 9351, Feature: ll\n",
      "Index: 8710, Feature: just\n",
      "Index: 9253, Feature: like\n",
      "Index: 13388, Feature: right\n",
      "Index: 6982, Feature: got\n",
      "Index: 3383, Feature: come\n",
      "Index: 17217, Feature: want\n",
      "Index: 17717, Feature: yeah\n",
      "Index: 11022, Feature: oh\n",
      "Index: 16943, Feature: ve\n",
      "Index: 6954, Feature: good\n",
      "Index: 16021, Feature: think\n",
      "Index: 9681, Feature: man\n",
      "\n",
      "Top 15 features for 1990s:\n",
      "Index: 5305, Feature: don\n",
      "Index: 9651, Feature: know\n",
      "Index: 9454, Feature: just\n",
      "Index: 11986, Feature: oh\n",
      "Index: 10082, Feature: like\n",
      "Index: 10188, Feature: ll\n",
      "Index: 19240, Feature: yeah\n",
      "Index: 14526, Feature: right\n",
      "Index: 7554, Feature: got\n",
      "Index: 3611, Feature: come\n",
      "Index: 18678, Feature: want\n",
      "Index: 17362, Feature: think\n",
      "Index: 7526, Feature: good\n",
      "Index: 18370, Feature: ve\n",
      "Index: 4984, Feature: did\n",
      "\n",
      "Top 15 features for 2000s:\n",
      "Index: 5027, Feature: don\n",
      "Index: 9056, Feature: know\n",
      "Index: 8870, Feature: just\n",
      "Index: 17939, Feature: yeah\n",
      "Index: 9425, Feature: like\n",
      "Index: 9522, Feature: ll\n",
      "Index: 13515, Feature: right\n",
      "Index: 11230, Feature: okay\n",
      "Index: 11217, Feature: oh\n",
      "Index: 3397, Feature: come\n",
      "Index: 7089, Feature: good\n",
      "Index: 7121, Feature: got\n",
      "Index: 17437, Feature: want\n",
      "Index: 16240, Feature: think\n",
      "Index: 17171, Feature: ve\n",
      "\n",
      "Top 15 features for 2010s:\n",
      "Index: 10626, Feature: know\n",
      "Index: 5872, Feature: don\n",
      "Index: 21102, Feature: yeah\n",
      "Index: 10413, Feature: just\n",
      "Index: 16026, Feature: right\n",
      "Index: 11056, Feature: like\n",
      "Index: 13130, Feature: okay\n",
      "Index: 13121, Feature: oh\n",
      "Index: 11158, Feature: ll\n",
      "Index: 8344, Feature: got\n",
      "Index: 8316, Feature: good\n",
      "Index: 20572, Feature: want\n",
      "Index: 3937, Feature: come\n",
      "Index: 19087, Feature: think\n",
      "Index: 8314, Feature: gonna\n",
      "\n",
      "Top 15 features for 2020s:\n",
      "Index: 2662, Feature: don\n",
      "Index: 4881, Feature: know\n",
      "Index: 4780, Feature: just\n",
      "Index: 5096, Feature: like\n",
      "Index: 9650, Feature: yeah\n",
      "Index: 7311, Feature: right\n",
      "Index: 6070, Feature: okay\n",
      "Index: 1788, Feature: come\n",
      "Index: 6063, Feature: oh\n",
      "Index: 5146, Feature: ll\n",
      "Index: 3798, Feature: good\n",
      "Index: 3796, Feature: gonna\n",
      "Index: 9373, Feature: want\n",
      "Index: 8789, Feature: think\n",
      "Index: 2502, Feature: did\n"
     ]
    }
   ],
   "source": [
    "top_15_features_by_decade = {}\n",
    "\n",
    "# Iterate over each decade\n",
    "for decade in ['1940s', '1950s', '1960s', '1970s', '1980s', '1990s', '2000s', '2010s', '2020s']:\n",
    "    # Extract data for the current decade\n",
    "    subset_decade = decades[decades['decade'] == decade]\n",
    "    \n",
    "    # Features\n",
    "    X_tfidf = stopword_removal_classification_vectorizer.fit_transform(subset_decade['text'])\n",
    "\n",
    "    # Get the feature names\n",
    "    feature_names = np.array(stopword_removal_classification_vectorizer.get_feature_names_out())\n",
    "\n",
    "    # Get the sum of TF-IDF values for each feature\n",
    "    feature_sums = X_tfidf.sum(axis=0).A1\n",
    "\n",
    "    # Get the indices of top 15 features\n",
    "    top_15_feature_indices = feature_sums.argsort()[::-1][:15]\n",
    "\n",
    "    # Get the actual feature names for the top 15 features\n",
    "    top_15_features = [feature_names[i] for i in top_15_feature_indices]\n",
    "\n",
    "    # Store the top 15 features for the current decade\n",
    "    top_15_features_by_decade[decade] = top_15_features\n",
    "\n",
    "    # Print the top 15 features for the current decade\n",
    "    print(f\"\\nTop 15 features for {decade}:\")\n",
    "    for i, feature in enumerate(top_15_features):\n",
    "        print(f\"Index: {top_15_feature_indices[i]}, Feature: {feature}\")"
   ]
  },
  {
   "cell_type": "markdown",
   "id": "11093cc4",
   "metadata": {},
   "source": [
    "In this section, we iterate through each decade, vectorize the text from the decade's subset of text, pull the feature names out, sort them from most to least important, then print out the top fifteen features. The results seem to indicate that commonly used words in dialogue are highly representative of all decades. This is plausible since dialogue is the main form of communication in all movies. Though, it is a little strange that they are so similar. We tested a variety of methods to try and understand why this was happening, but were ultimately unsuccessful given our time limitations to complete this project. However, since they are so similar, this could feasibly lead to some difficulty making accurate predictions."
   ]
  },
  {
   "cell_type": "markdown",
   "id": "76b85ba3",
   "metadata": {},
   "source": [
    "## Random Forest Decade Classification"
   ]
  },
  {
   "cell_type": "markdown",
   "id": "4e687bd5",
   "metadata": {},
   "source": [
    "We started with random forest classification since it performed the best on the win/loss predictions. For consistency, we also used the same vectorizer."
   ]
  },
  {
   "cell_type": "code",
   "execution_count": 60,
   "id": "34591ded",
   "metadata": {},
   "outputs": [],
   "source": [
    "# Train test val Split\n",
    "X_train, X_temp, y_train, y_temp = train_test_split(X, y, test_size=0.3, random_state=42, stratify=y)\n",
    "X_val, X_test, y_val, y_test = train_test_split(X_temp, y_temp, test_size=0.5, random_state=42, stratify=y_temp)"
   ]
  },
  {
   "cell_type": "code",
   "execution_count": 61,
   "id": "e80e11cc",
   "metadata": {},
   "outputs": [
    {
     "name": "stdout",
     "output_type": "stream",
     "text": [
      "              precision    recall  f1-score   support\n",
      "\n",
      "       1940s       0.46      0.48      0.47      1327\n",
      "       1950s       0.46      0.41      0.43      1358\n",
      "       1960s       0.69      0.27      0.39       971\n",
      "       1970s       0.47      0.31      0.37      1498\n",
      "       1980s       0.35      0.38      0.36      1783\n",
      "       1990s       0.35      0.50      0.41      2084\n",
      "       2000s       0.44      0.33      0.38      1778\n",
      "       2010s       0.42      0.61      0.50      2150\n",
      "       2020s       0.89      0.20      0.33       620\n",
      "\n",
      "    accuracy                           0.42     13569\n",
      "   macro avg       0.50      0.39      0.40     13569\n",
      "weighted avg       0.46      0.42      0.41     13569\n",
      "\n"
     ]
    }
   ],
   "source": [
    "# Train the random forest classifier\n",
    "rf_clf.fit(X_train, y_train)\n",
    "\n",
    "# Predict on the test set\n",
    "rf_decade_pred = rf_clf.predict(X_test)\n",
    "\n",
    "# Print the classification report\n",
    "print(classification_report(y_test, rf_decade_pred, zero_division=1))"
   ]
  },
  {
   "cell_type": "markdown",
   "id": "4c4d45ac",
   "metadata": {},
   "source": [
    "## Logistic Regression Decade Classification"
   ]
  },
  {
   "cell_type": "code",
   "execution_count": 62,
   "id": "f8641fdb",
   "metadata": {},
   "outputs": [
    {
     "name": "stdout",
     "output_type": "stream",
     "text": [
      "              precision    recall  f1-score   support\n",
      "\n",
      "       1940s       0.56      0.58      0.57      1327\n",
      "       1950s       0.56      0.54      0.55      1358\n",
      "       1960s       0.64      0.38      0.48       971\n",
      "       1970s       0.52      0.44      0.48      1498\n",
      "       1980s       0.48      0.48      0.48      1783\n",
      "       1990s       0.47      0.58      0.52      2084\n",
      "       2000s       0.51      0.49      0.50      1778\n",
      "       2010s       0.52      0.66      0.58      2150\n",
      "       2020s       0.83      0.30      0.45       620\n",
      "\n",
      "    accuracy                           0.52     13569\n",
      "   macro avg       0.57      0.50      0.51     13569\n",
      "weighted avg       0.54      0.52      0.52     13569\n",
      "\n"
     ]
    }
   ],
   "source": [
    "# Train the logistic regression classifier\n",
    "logreg_clf.fit(X_train, y_train)\n",
    "\n",
    "# Predict on the test set\n",
    "logreg_decade_pred = logreg_clf.predict(X_test)\n",
    "\n",
    "# Print the classification report\n",
    "print(classification_report(y_test, logreg_decade_pred, zero_division=1))"
   ]
  },
  {
   "cell_type": "markdown",
   "id": "e686de05",
   "metadata": {},
   "source": [
    "### Visualization of Logistic Regression Predictions (prediction done on entire dataset for simplicity's sake)"
   ]
  },
  {
   "cell_type": "code",
   "execution_count": 63,
   "id": "1a59f5cb",
   "metadata": {},
   "outputs": [],
   "source": [
    "# Dataframe\n",
    "year_pred_df = pd.DataFrame({\n",
    "    'decade': y_test,\n",
    "    'logreg_decade_pred': logreg_decade_pred\n",
    "})\n",
    "\n",
    "year_pred_df['decade'] = year_pred_df['decade'].astype(str)\n",
    "\n",
    "year_pred_df = year_pred_df.sort_values(by='decade')"
   ]
  },
  {
   "cell_type": "code",
   "execution_count": 64,
   "id": "c7881616",
   "metadata": {},
   "outputs": [
    {
     "data": {
      "image/png": "[encoded data removed]",
      "text/plain": [
       "<Figure size 1000x800 with 2 Axes>"
      ]
     },
     "metadata": {},
     "output_type": "display_data"
    },
    {
     "data": {
      "image/png": "[encoded data removed]",
      "text/plain": [
       "<Figure size 1200x600 with 1 Axes>"
      ]
     },
     "metadata": {},
     "output_type": "display_data"
    }
   ],
   "source": [
    "conf_matrix = confusion_matrix(y_test, logreg_decade_pred)\n",
    "\n",
    "# Visualization 1: Confusion Matrix\n",
    "plt.figure(figsize=(10, 8))\n",
    "sns.heatmap(conf_matrix, annot=True, fmt='d', cmap='Blues', xticklabels=np.unique(y_test),\n",
    "            yticklabels=np.unique(y_test))\n",
    "plt.title('Confusion Matrix')\n",
    "plt.xlabel('Predicted Label')\n",
    "plt.ylabel('Actual Label')\n",
    "plt.show()\n",
    "\n",
    "# Visualization 3: Bar Plot of Actual vs Predicted Labels\n",
    "plt.figure(figsize=(12, 6))\n",
    "sns.countplot(x='decade', hue='logreg_decade_pred', data=year_pred_df, palette='Set1')\n",
    "plt.title('Actual vs Predicted Labels Distribution')\n",
    "plt.xlabel('Decade')\n",
    "plt.ylabel('Count')\n",
    "plt.legend(title='Predicted Label')\n",
    "plt.show()"
   ]
  },
  {
   "cell_type": "markdown",
   "id": "6f329e5c",
   "metadata": {},
   "source": [
    "When predicting decades, accuracy scores are far lower than when predicting win/loss when tested with a train test split. Our theory is that this could potentially be caused by a number of factors, including lesser differentiating factors between decades than between winning/losing scripts or perhaps just a smaller dataset to train and test on. In addition, interestingly, in terms of F1 score on the logistic regression model, the decade with the most data points did the best and the decade with the least data points did the worst. In the visualizations, the model seems to do better due to a larger volume of input data. Regardless, these baseline results could merit further testing with neural methods to see if any improvement can be made."
   ]
  },
  {
   "cell_type": "markdown",
   "id": "fa061f2c",
   "metadata": {},
   "source": [
    "# 6. BERT Classification Task for Decade Classification"
   ]
  },
  {
   "cell_type": "code",
   "execution_count": 65,
   "id": "f2722cf7",
   "metadata": {},
   "outputs": [],
   "source": [
    "X = text_chunks\n",
    "y = chunk_decades\n",
    "\n",
    "# Train test split\n",
    "X_train, X_temp, y_train, y_temp = train_test_split(X, y, test_size=0.3, random_state=42, stratify=y)\n",
    "X_val, X_test, y_val, y_test = train_test_split(X_temp, y_temp, test_size=0.5, random_state=42, stratify=y_temp)"
   ]
  },
  {
   "cell_type": "code",
   "execution_count": 66,
   "id": "9ba3e9c2",
   "metadata": {},
   "outputs": [],
   "source": [
    "model_name = 'distilbert-base-cased'\n",
    "device_name = 'mps'\n",
    "\n",
    "# This is the maximum number of tokens in any document sent to BERT.\n",
    "max_length = 512"
   ]
  },
  {
   "cell_type": "code",
   "execution_count": 67,
   "id": "1d749f67",
   "metadata": {},
   "outputs": [],
   "source": [
    "tokenizer = DistilBertTokenizerFast.from_pretrained(model_name)\n",
    "tokenized_scripts = tokenizer(text_chunks, truncation=True, padding=True, return_tensors=\"pt\")"
   ]
  },
  {
   "cell_type": "code",
   "execution_count": 68,
   "id": "fc538c0f",
   "metadata": {},
   "outputs": [],
   "source": [
    "unique_labels = set(label for label in y_train)\n",
    "label2id = {label: id for id, label in enumerate(unique_labels)}\n",
    "id2label = {id: label for label, id in label2id.items()}"
   ]
  },
  {
   "cell_type": "code",
   "execution_count": 69,
   "id": "90389e2f",
   "metadata": {},
   "outputs": [
    {
     "name": "stdout",
     "output_type": "stream",
     "text": [
      "huggingface/tokenizers: The current process just got forked, after parallelism has already been used. Disabling parallelism to avoid deadlocks...\n",
      "To disable this warning, you can either:\n",
      "\t- Avoid using `tokenizers` before the fork if possible\n",
      "\t- Explicitly set the environment variable TOKENIZERS_PARALLELISM=(true | false)\n"
     ]
    },
    {
     "data": {
      "application/vnd.jupyter.widget-view+json": {
       "model_id": "089e43e861474de2a09e04842b0a159b",
       "version_major": 2,
       "version_minor": 0
      },
      "text/plain": [
       "Downloading model.safetensors:   0%|          | 0.00/263M [00:00<?, ?B/s]"
      ]
     },
     "metadata": {},
     "output_type": "display_data"
    },
    {
     "name": "stderr",
     "output_type": "stream",
     "text": [
      "Some weights of the model checkpoint at distilbert-base-cased were not used when initializing DistilBertForSequenceClassification: ['vocab_layer_norm.bias', 'vocab_layer_norm.weight', 'vocab_transform.weight', 'vocab_transform.bias', 'vocab_projector.bias']\n",
      "- This IS expected if you are initializing DistilBertForSequenceClassification from the checkpoint of a model trained on another task or with another architecture (e.g. initializing a BertForSequenceClassification model from a BertForPreTraining model).\n",
      "- This IS NOT expected if you are initializing DistilBertForSequenceClassification from the checkpoint of a model that you expect to be exactly identical (initializing a BertForSequenceClassification model from a BertForSequenceClassification model).\n",
      "Some weights of DistilBertForSequenceClassification were not initialized from the model checkpoint at distilbert-base-cased and are newly initialized: ['classifier.bias', 'pre_classifier.weight', 'pre_classifier.bias', 'classifier.weight']\n",
      "You should probably TRAIN this model on a down-stream task to be able to use it for predictions and inference.\n"
     ]
    }
   ],
   "source": [
    "# Load pre-trained BERT model\n",
    "model = DistilBertForSequenceClassification.from_pretrained(model_name, num_labels=len(id2label)).to(device_name)"
   ]
  },
  {
   "cell_type": "code",
   "execution_count": 70,
   "id": "80a6ee0c",
   "metadata": {},
   "outputs": [],
   "source": [
    "# Encoding texts and labels for tokenizer\n",
    "train_encodings = tokenizer(X_train, truncation=True, padding=True, max_length=max_length)\n",
    "test_encodings  = tokenizer(X_test, truncation=True, padding=True, max_length=max_length)\n",
    "validation_encodings = tokenizer(X_val, truncation=True, padding=True, max_length=max_length)\n",
    "\n",
    "train_labels_encoded = [label2id[y] for y in y_train]\n",
    "test_labels_encoded  = [label2id[y] for y in y_test]\n",
    "val_labels_encoded = [label2id[y] for y in y_val]"
   ]
  },
  {
   "cell_type": "code",
   "execution_count": 71,
   "id": "4205e2c5",
   "metadata": {},
   "outputs": [],
   "source": [
    "# Convert encoded texts and labels into a dataset object\n",
    "class MyDataset(torch.utils.data.Dataset):\n",
    "    def __init__(self, encodings, labels):\n",
    "        self.encodings = encodings\n",
    "        self.labels = labels\n",
    "\n",
    "    def __getitem__(self, idx):\n",
    "        item = {key: torch.tensor(val[idx]) for key, val in self.encodings.items()}\n",
    "        item['labels'] = torch.tensor(self.labels[idx])\n",
    "        return item\n",
    "\n",
    "    def __len__(self):\n",
    "        return len(self.labels)\n",
    "\n",
    "train_dataset = MyDataset(train_encodings, train_labels_encoded)\n",
    "test_dataset = MyDataset(test_encodings, test_labels_encoded)\n",
    "validation_dataset = MyDataset(validation_encodings, val_labels_encoded)"
   ]
  },
  {
   "cell_type": "code",
   "execution_count": 72,
   "id": "b0ab7276",
   "metadata": {},
   "outputs": [],
   "source": [
    "# Set training parameters\n",
    "training_args = TrainingArguments(\n",
    "    num_train_epochs=5,              # total number of training epochs\n",
    "    per_device_train_batch_size=15,  # batch size per device during training\n",
    "    per_device_eval_batch_size=12,   # batch size for evaluation\n",
    "    learning_rate=1e-5,              # initial learning rate for Adam optimizer\n",
    "    warmup_steps=100,                # number of warmup steps for learning rate scheduler\n",
    "    weight_decay=0.01,               # strength of weight decay\n",
    "    output_dir='./results',          # output directory\n",
    "    logging_dir='./logs',            # directory for storing logs\n",
    "    logging_steps=10,               # number of steps to output logging (set lower because of small dataset size)\n",
    "    evaluation_strategy='steps',     # evaluate during fine-tuning so that we can see progress\n",
    ")"
   ]
  },
  {
   "cell_type": "code",
   "execution_count": 73,
   "id": "854119d7",
   "metadata": {},
   "outputs": [],
   "source": [
    "# Evaluation function that returns F1 score\n",
    "def compute_metrics(pred):\n",
    "    labels = pred.label_ids\n",
    "    preds = pred.predictions.argmax(-1)\n",
    "    #score = accuracy_score(labels, preds)\n",
    "    score = f1_score(labels, preds, average='weighted')\n",
    "    return {\n",
    "          'f1': score,\n",
    "      }"
   ]
  },
  {
   "cell_type": "code",
   "execution_count": 75,
   "id": "489c1085",
   "metadata": {},
   "outputs": [],
   "source": [
    "# Create HuggingFace Trainer Object\n",
    "trainer = Trainer(\n",
    "    model=model,              # the instantiated 🤗 Transformers model to be trained\n",
    "    args=training_args,                  # training arguments, defined above\n",
    "    train_dataset=train_dataset,         # training dataset\n",
    "    eval_dataset=validation_dataset,     # evaluation dataset\n",
    "    compute_metrics=compute_metrics      # our custom evaluation function\n",
    ")"
   ]
  },
  {
   "cell_type": "code",
   "execution_count": 76,
   "id": "66cd6f9e",
   "metadata": {},
   "outputs": [
    {
     "name": "stderr",
     "output_type": "stream",
     "text": [
      "/Users/wally/anaconda3/envs/3350/lib/python3.11/site-packages/transformers/optimization.py:407: FutureWarning: This implementation of AdamW is deprecated and will be removed in a future version. Use the PyTorch implementation torch.optim.AdamW instead, or set `no_deprecation_warning=True` to disable this warning\n",
      "  warnings.warn(\n"
     ]
    },
    {
     "data": {
      "text/html": [
       "\n",
       "    <div>\n",
       "      \n",
       "      <progress value='10' max='21110' style='width:300px; height:20px; vertical-align: middle;'></progress>\n",
       "      [   10/21110 00:09 < 7:07:15, 0.82 it/s, Epoch 0.00/5]\n",
       "    </div>\n",
       "    <table border=\"1\" class=\"dataframe\">\n",
       "  <thead>\n",
       " <tr style=\"text-align: left;\">\n",
       "      <th>Step</th>\n",
       "      <th>Training Loss</th>\n",
       "      <th>Validation Loss</th>\n",
       "    </tr>\n",
       "  </thead>\n",
       "  <tbody>\n",
       "  </tbody>\n",
       "</table><p>"
      ],
      "text/plain": [
       "<IPython.core.display.HTML object>"
      ]
     },
     "metadata": {},
     "output_type": "display_data"
    },
    {
     "ename": "KeyboardInterrupt",
     "evalue": "",
     "output_type": "error",
     "traceback": [
      "\u001b[0;31m---------------------------------------------------------------------------\u001b[0m",
      "\u001b[0;31mKeyboardInterrupt\u001b[0m                         Traceback (most recent call last)",
      "Cell \u001b[0;32mIn[76], line 2\u001b[0m\n\u001b[1;32m      1\u001b[0m \u001b[38;5;66;03m# Train the model\u001b[39;00m\n\u001b[0;32m----> 2\u001b[0m trainer\u001b[38;5;241m.\u001b[39mtrain()\n",
      "File \u001b[0;32m~/anaconda3/envs/3350/lib/python3.11/site-packages/transformers/trainer.py:1664\u001b[0m, in \u001b[0;36mTrainer.train\u001b[0;34m(self, resume_from_checkpoint, trial, ignore_keys_for_eval, **kwargs)\u001b[0m\n\u001b[1;32m   1659\u001b[0m     \u001b[38;5;28mself\u001b[39m\u001b[38;5;241m.\u001b[39mmodel_wrapped \u001b[38;5;241m=\u001b[39m \u001b[38;5;28mself\u001b[39m\u001b[38;5;241m.\u001b[39mmodel\n\u001b[1;32m   1661\u001b[0m inner_training_loop \u001b[38;5;241m=\u001b[39m find_executable_batch_size(\n\u001b[1;32m   1662\u001b[0m     \u001b[38;5;28mself\u001b[39m\u001b[38;5;241m.\u001b[39m_inner_training_loop, \u001b[38;5;28mself\u001b[39m\u001b[38;5;241m.\u001b[39m_train_batch_size, args\u001b[38;5;241m.\u001b[39mauto_find_batch_size\n\u001b[1;32m   1663\u001b[0m )\n\u001b[0;32m-> 1664\u001b[0m \u001b[38;5;28;01mreturn\u001b[39;00m inner_training_loop(\n\u001b[1;32m   1665\u001b[0m     args\u001b[38;5;241m=\u001b[39margs,\n\u001b[1;32m   1666\u001b[0m     resume_from_checkpoint\u001b[38;5;241m=\u001b[39mresume_from_checkpoint,\n\u001b[1;32m   1667\u001b[0m     trial\u001b[38;5;241m=\u001b[39mtrial,\n\u001b[1;32m   1668\u001b[0m     ignore_keys_for_eval\u001b[38;5;241m=\u001b[39mignore_keys_for_eval,\n\u001b[1;32m   1669\u001b[0m )\n",
      "File \u001b[0;32m~/anaconda3/envs/3350/lib/python3.11/site-packages/transformers/trainer.py:1940\u001b[0m, in \u001b[0;36mTrainer._inner_training_loop\u001b[0;34m(self, batch_size, args, resume_from_checkpoint, trial, ignore_keys_for_eval)\u001b[0m\n\u001b[1;32m   1938\u001b[0m         tr_loss_step \u001b[38;5;241m=\u001b[39m \u001b[38;5;28mself\u001b[39m\u001b[38;5;241m.\u001b[39mtraining_step(model, inputs)\n\u001b[1;32m   1939\u001b[0m \u001b[38;5;28;01melse\u001b[39;00m:\n\u001b[0;32m-> 1940\u001b[0m     tr_loss_step \u001b[38;5;241m=\u001b[39m \u001b[38;5;28mself\u001b[39m\u001b[38;5;241m.\u001b[39mtraining_step(model, inputs)\n\u001b[1;32m   1942\u001b[0m \u001b[38;5;28;01mif\u001b[39;00m (\n\u001b[1;32m   1943\u001b[0m     args\u001b[38;5;241m.\u001b[39mlogging_nan_inf_filter\n\u001b[1;32m   1944\u001b[0m     \u001b[38;5;129;01mand\u001b[39;00m \u001b[38;5;129;01mnot\u001b[39;00m is_torch_tpu_available()\n\u001b[1;32m   1945\u001b[0m     \u001b[38;5;129;01mand\u001b[39;00m (torch\u001b[38;5;241m.\u001b[39misnan(tr_loss_step) \u001b[38;5;129;01mor\u001b[39;00m torch\u001b[38;5;241m.\u001b[39misinf(tr_loss_step))\n\u001b[1;32m   1946\u001b[0m ):\n\u001b[1;32m   1947\u001b[0m     \u001b[38;5;66;03m# if loss is nan or inf simply add the average of previous logged losses\u001b[39;00m\n\u001b[1;32m   1948\u001b[0m     tr_loss \u001b[38;5;241m+\u001b[39m\u001b[38;5;241m=\u001b[39m tr_loss \u001b[38;5;241m/\u001b[39m (\u001b[38;5;241m1\u001b[39m \u001b[38;5;241m+\u001b[39m \u001b[38;5;28mself\u001b[39m\u001b[38;5;241m.\u001b[39mstate\u001b[38;5;241m.\u001b[39mglobal_step \u001b[38;5;241m-\u001b[39m \u001b[38;5;28mself\u001b[39m\u001b[38;5;241m.\u001b[39m_globalstep_last_logged)\n",
      "File \u001b[0;32m~/anaconda3/envs/3350/lib/python3.11/site-packages/transformers/trainer.py:2753\u001b[0m, in \u001b[0;36mTrainer.training_step\u001b[0;34m(self, model, inputs)\u001b[0m\n\u001b[1;32m   2751\u001b[0m     loss \u001b[38;5;241m=\u001b[39m \u001b[38;5;28mself\u001b[39m\u001b[38;5;241m.\u001b[39mdeepspeed\u001b[38;5;241m.\u001b[39mbackward(loss)\n\u001b[1;32m   2752\u001b[0m \u001b[38;5;28;01melse\u001b[39;00m:\n\u001b[0;32m-> 2753\u001b[0m     loss\u001b[38;5;241m.\u001b[39mbackward()\n\u001b[1;32m   2755\u001b[0m \u001b[38;5;28;01mreturn\u001b[39;00m loss\u001b[38;5;241m.\u001b[39mdetach()\n",
      "File \u001b[0;32m~/anaconda3/envs/3350/lib/python3.11/site-packages/torch/_tensor.py:487\u001b[0m, in \u001b[0;36mTensor.backward\u001b[0;34m(self, gradient, retain_graph, create_graph, inputs)\u001b[0m\n\u001b[1;32m    477\u001b[0m \u001b[38;5;28;01mif\u001b[39;00m has_torch_function_unary(\u001b[38;5;28mself\u001b[39m):\n\u001b[1;32m    478\u001b[0m     \u001b[38;5;28;01mreturn\u001b[39;00m handle_torch_function(\n\u001b[1;32m    479\u001b[0m         Tensor\u001b[38;5;241m.\u001b[39mbackward,\n\u001b[1;32m    480\u001b[0m         (\u001b[38;5;28mself\u001b[39m,),\n\u001b[0;32m   (...)\u001b[0m\n\u001b[1;32m    485\u001b[0m         inputs\u001b[38;5;241m=\u001b[39minputs,\n\u001b[1;32m    486\u001b[0m     )\n\u001b[0;32m--> 487\u001b[0m torch\u001b[38;5;241m.\u001b[39mautograd\u001b[38;5;241m.\u001b[39mbackward(\n\u001b[1;32m    488\u001b[0m     \u001b[38;5;28mself\u001b[39m, gradient, retain_graph, create_graph, inputs\u001b[38;5;241m=\u001b[39minputs\n\u001b[1;32m    489\u001b[0m )\n",
      "File \u001b[0;32m~/anaconda3/envs/3350/lib/python3.11/site-packages/torch/autograd/__init__.py:200\u001b[0m, in \u001b[0;36mbackward\u001b[0;34m(tensors, grad_tensors, retain_graph, create_graph, grad_variables, inputs)\u001b[0m\n\u001b[1;32m    195\u001b[0m     retain_graph \u001b[38;5;241m=\u001b[39m create_graph\n\u001b[1;32m    197\u001b[0m \u001b[38;5;66;03m# The reason we repeat same the comment below is that\u001b[39;00m\n\u001b[1;32m    198\u001b[0m \u001b[38;5;66;03m# some Python versions print out the first line of a multi-line function\u001b[39;00m\n\u001b[1;32m    199\u001b[0m \u001b[38;5;66;03m# calls in the traceback and some print out the last line\u001b[39;00m\n\u001b[0;32m--> 200\u001b[0m Variable\u001b[38;5;241m.\u001b[39m_execution_engine\u001b[38;5;241m.\u001b[39mrun_backward(  \u001b[38;5;66;03m# Calls into the C++ engine to run the backward pass\u001b[39;00m\n\u001b[1;32m    201\u001b[0m     tensors, grad_tensors_, retain_graph, create_graph, inputs,\n\u001b[1;32m    202\u001b[0m     allow_unreachable\u001b[38;5;241m=\u001b[39m\u001b[38;5;28;01mTrue\u001b[39;00m, accumulate_grad\u001b[38;5;241m=\u001b[39m\u001b[38;5;28;01mTrue\u001b[39;00m)\n",
      "\u001b[0;31mKeyboardInterrupt\u001b[0m: "
     ]
    }
   ],
   "source": [
    "# # Train the model\n",
    "# trainer.train()"
   ]
  },
  {
   "cell_type": "code",
   "execution_count": null,
   "id": "97703e7b",
   "metadata": {},
   "outputs": [],
   "source": [
    "# # Predict results based on Validation Dataset\n",
    "# predicted_results = trainer.predict(validation_dataset)\n",
    "# predicted_labels = predicted_results.predictions.argmax(-1) # Get the highest probability prediction\n",
    "# predicted_labels = predicted_labels.flatten().tolist()      # Flatten the predictions into a 1D list\n",
    "# predicted_labels = [id2label[l] for l in predicted_labels]  # Convert from integers back to strings for readability\n",
    "# print(classification_report(y_val, predicted_labels))"
   ]
  },
  {
   "cell_type": "code",
   "execution_count": null,
   "id": "14a00e76",
   "metadata": {},
   "outputs": [],
   "source": [
    "# # Apply fine-tuned model to Test Dataset\n",
    "# predicted_results = trainer.predict(test_dataset)\n",
    "# predicted_labels = predicted_results.predictions.argmax(-1) # Get the highest probability prediction\n",
    "# predicted_labels = predicted_labels.flatten().tolist()      # Flatten the predictions into a 1D list\n",
    "# predicted_labels = [id2label[l] for l in predicted_labels]  # Convert from integers back to strings for readability\n",
    "\n",
    "# print(classification_report(y_test, predicted_labels))"
   ]
  },
  {
   "cell_type": "markdown",
   "id": "97a4378c",
   "metadata": {},
   "source": [
    "The BERT model is predicted to take 19 hours to run, so this idea was unfortunately unable to be executed in its entirety."
   ]
  },
  {
   "cell_type": "markdown",
   "id": "852b0143",
   "metadata": {},
   "source": [
    "# 6. Sentiment Analysis over the decades"
   ]
  },
  {
   "cell_type": "markdown",
   "id": "5bbbc878",
   "metadata": {},
   "source": [
    "For this analysis, we will be looking into the different sentiments within the decades, but also within the winners and losers of our dataset. "
   ]
  },
  {
   "cell_type": "code",
   "execution_count": 77,
   "id": "bfce766f",
   "metadata": {},
   "outputs": [],
   "source": [
    "#decades \n",
    "forties = movie_subtitles_df[(movie_subtitles_df['years'] >= '1940') & (movie_subtitles_df['years'] < '1950')]\n",
    "fifties = movie_subtitles_df[(movie_subtitles_df['years'] >= '1950') & (movie_subtitles_df['years'] < '1960')]\n",
    "sixties = movie_subtitles_df[(movie_subtitles_df['years'] >= '1960') & (movie_subtitles_df['years'] < '1970')]\n",
    "seventies = movie_subtitles_df[(movie_subtitles_df['years'] >= '1970') & (movie_subtitles_df['years'] < '1980')]\n",
    "eighties = movie_subtitles_df[(movie_subtitles_df['years'] >= '1980') & (movie_subtitles_df['years'] < '1990')]\n",
    "ninties = movie_subtitles_df[(movie_subtitles_df['years'] >= '1990') & (movie_subtitles_df['years'] < '2000')]\n",
    "twenty = movie_subtitles_df[(movie_subtitles_df['years'] >= '2000') & (movie_subtitles_df['years'] < '2010')]\n",
    "twenty_ten = movie_subtitles_df[(movie_subtitles_df['years'] >= '2010') & (movie_subtitles_df['years'] < '2020')]\n",
    "twenty_twenty = movie_subtitles_df[(movie_subtitles_df['years'] >= '2020') & (movie_subtitles_df['years'] < '2030')]"
   ]
  },
  {
   "cell_type": "code",
   "execution_count": 78,
   "id": "da41c01b",
   "metadata": {},
   "outputs": [],
   "source": [
    "years = [forties, fifties, sixties, seventies, eighties, ninties, twenty, twenty_ten, twenty_twenty]"
   ]
  },
  {
   "cell_type": "code",
   "execution_count": 79,
   "id": "94995d71",
   "metadata": {},
   "outputs": [],
   "source": [
    "def sentiment_score(vader, text_string, name):\n",
    "    sentiment_dict = vader.polarity_scores(text_string)\n",
    "    overall_sentiment = 'positive' if sentiment_dict['compound'] >= 0.05 else 'negative' if sentiment_dict['compound'] <= -0.05 else 'neutral'\n",
    "    return sentiment_dict['pos'], sentiment_dict['neg']"
   ]
  },
  {
   "cell_type": "code",
   "execution_count": null,
   "id": "c1afe2ec",
   "metadata": {},
   "outputs": [],
   "source": [
    "#compiling sentiment scores for decades \n",
    "names = [1920, 1930, 1940, 1950, 1960, 1970, 1980, 1990, 2000, 2010, 2020]\n",
    "ind = 0\n",
    "pos_neg = {}\n",
    "for year in years:\n",
    "    analyzer = SentimentIntensityAnalyzer()\n",
    "    pos_list, neg_list = [], []\n",
    "    for text,movie in zip(year['text'], year['Movie Name']):\n",
    "        pos, neg = sentiment_score(analyzer, str(text), movie)\n",
    "        pos_list.append(pos)\n",
    "        neg_list.append(neg)\n",
    "    pos_neg[f\"{names[ind]}_pos\"] = pos_list\n",
    "    pos_neg[f\"{names[ind]}_neg\"] = neg_list\n",
    "    ind += 1"
   ]
  },
  {
   "cell_type": "code",
   "execution_count": null,
   "id": "0237f965",
   "metadata": {},
   "outputs": [],
   "source": [
    "plt.figure(figsize=(10, 6))\n",
    "plt.title('Scatter Plot for Dictionary Values')\n",
    "plt.xticks(rotation=45)\n",
    "plt.xlabel('Years')\n",
    "plt.ylabel('Sentiment Scores')\n",
    "\n",
    "for key, values in pos_neg.items():\n",
    "    plt.scatter([key] * len(values), values, label=key)\n",
    "\n",
    "x_values_pos, average_tokens_values_pos = [], []\n",
    "x_values_neg, average_tokens_values_neg = [], []\n",
    "\n",
    "for key, values in pos_neg.items():\n",
    "    if 'pos' in key: \n",
    "        average_tokens = sum(values)/(len(values)+1)\n",
    "        plt.scatter(x=key, y=average_tokens, color='lightgreen', linestyle='--', label='Average Tokens',marker ='*', s=200)    \n",
    "        x_values_pos.append(key)\n",
    "        average_tokens_values_pos.append(average_tokens)\n",
    "    if 'neg' in key:\n",
    "        average_tokens = sum(values)/(len(values)+1)\n",
    "        plt.scatter(x=key, y=average_tokens, color='red', linestyle='--', label='Average Tokens',marker ='*', s=200)    \n",
    "        x_values_neg.append(key)\n",
    "        average_tokens_values_neg.append(average_tokens)\n",
    "\n",
    "plt.plot(x_values_pos, average_tokens_values_pos, color='lightgreen', linestyle='-', marker='o', markersize=5)\n",
    "plt.plot(x_values_neg, average_tokens_values_neg, color='red', linestyle='-', marker='o', markersize=5)\n",
    "\n",
    "plt.show()"
   ]
  },
  {
   "cell_type": "code",
   "execution_count": null,
   "id": "63ca665f",
   "metadata": {},
   "outputs": [],
   "source": [
    "#winners or losers \n",
    "winners = movie_subtitles_df[(movie_subtitles_df['Win or Loss'] == 1)]\n",
    "losers = movie_subtitles_df[(movie_subtitles_df['Win or Loss'] == 0)]"
   ]
  },
  {
   "cell_type": "code",
   "execution_count": null,
   "id": "a7c28ea0",
   "metadata": {},
   "outputs": [],
   "source": [
    "names = ['wins', 'losses']\n",
    "ind = 0\n",
    "# pos_list, neg_list = [], []\n",
    "win_loss = {}\n",
    "for group in [winners, losers]:\n",
    "    analyzer = SentimentIntensityAnalyzer()\n",
    "    pos_list, neg_list = [], []\n",
    "    for text, movie in zip(group['text'], group['Movie Name']):\n",
    "        pos, neg = sentiment_score(analyzer, str(text), movie)\n",
    "        pos_list.append(pos)\n",
    "        neg_list.append(neg)\n",
    "    win_loss[f\"{names[ind]}_pos\"] = pos_list\n",
    "    win_loss[f\"{names[ind]}_neg\"] = neg_list\n",
    "    ind += 1"
   ]
  },
  {
   "cell_type": "code",
   "execution_count": null,
   "id": "a479729d",
   "metadata": {},
   "outputs": [],
   "source": [
    "plt.figure(figsize=(10, 6))\n",
    "plt.title('Scatter Plot for Dictionary Values')\n",
    "plt.xticks(rotation=45)\n",
    "plt.xlabel('Years')\n",
    "plt.ylabel('Sentiment Scores')\n",
    "for key, values in win_loss.items():\n",
    "    plt.scatter([key] * len(values), values, label=key)\n",
    "\n",
    "x_values_pos, average_tokens_values_pos = [], []\n",
    "x_values_neg, average_tokens_values_neg = [], []\n",
    "\n",
    "for key, values in win_loss.items():\n",
    "    if 'pos' in key: \n",
    "        average_tokens = sum(values)/(len(values)+1)\n",
    "        plt.scatter(x=key, y=average_tokens, color='lightgreen', linestyle='--', label='Average Tokens',marker ='*', s=200)    \n",
    "        x_values_pos.append(key)\n",
    "        average_tokens_values_pos.append(average_tokens)\n",
    "    if 'neg' in key:\n",
    "        average_tokens = sum(values)/(len(values)+1)\n",
    "        plt.scatter(x=key, y=average_tokens, color='red', linestyle='--', label='Average Tokens',marker ='*', s=200)    \n",
    "        x_values_neg.append(key)\n",
    "        average_tokens_values_neg.append(average_tokens)\n",
    "\n",
    "plt.plot(x_values_pos, average_tokens_values_pos, color='lightgreen', linestyle='-', marker='o', markersize=5)\n",
    "plt.plot(x_values_neg, average_tokens_values_neg, color='red', linestyle='-', marker='o', markersize=5)\n",
    "    \n",
    "plt.show()"
   ]
  },
  {
   "cell_type": "markdown",
   "id": "3bccbc73",
   "metadata": {},
   "source": [
    "Now, we will perform the same analysis but using HuggingFace Library Instead. "
   ]
  },
  {
   "cell_type": "code",
   "execution_count": null,
   "id": "a1da58da",
   "metadata": {},
   "outputs": [],
   "source": [
    "def sentiment_scores(text):\n",
    "    model_name = \"distilbert-base-uncased-finetuned-sst-2-english\"\n",
    "    tokenizer = AutoTokenizer.from_pretrained(model_name)\n",
    "    classifier = pipeline(\"sentiment-analysis\", model=model_name, tokenizer=tokenizer)\n",
    "    shortened_text = text[2000:2512]\n",
    "    results = classifier(shortened_text)\n",
    "    \n",
    "    positive_score = 0\n",
    "    negative_score = 0\n",
    "\n",
    "    for result in results:\n",
    "        label = result['label'].lower()\n",
    "        if label == 'positive':\n",
    "            positive_score += result['score']\n",
    "        elif label == 'negative':\n",
    "            negative_score += result['score']\n",
    "\n",
    "    return positive_score, negative_score"
   ]
  },
  {
   "cell_type": "code",
   "execution_count": null,
   "id": "241ab0bf",
   "metadata": {},
   "outputs": [],
   "source": [
    "names = [1920, 1930, 1940, 1950, 1960, 1970, 1980, 1990, 2000, 2010, 2020]\n",
    "pos_neg = {}\n",
    "ind = 0\n",
    "for year in years:\n",
    "    pos_list, neg_list = [], []\n",
    "    \n",
    "    for text, movie in zip(year['text'], year['Movie Name']):\n",
    "        pos_score, neg_score = sentiment_scores(str(text))\n",
    "        pos_list.append(pos_score)\n",
    "        neg_list.append(neg_score)\n",
    "\n",
    "    pos_neg[f\"{names[ind]}_pos\"] = pos_list\n",
    "    pos_neg[f\"{names[ind]}_neg\"] = neg_list\n",
    "    ind += 1"
   ]
  },
  {
   "cell_type": "code",
   "execution_count": null,
   "id": "3c59cc45",
   "metadata": {},
   "outputs": [],
   "source": [
    "plt.figure(figsize=(10, 6))\n",
    "plt.title('Scatter Plot for Dictionary Values')\n",
    "plt.xticks(rotation=45)\n",
    "plt.xlabel('Years')\n",
    "plt.ylabel('Sentiment Scores')\n",
    "\n",
    "for key, values in pos_neg.items():\n",
    "    plt.scatter([key] * len(values), values, label=key)\n",
    "\n",
    "x_values_pos, average_tokens_values_pos = [], []\n",
    "x_values_neg, average_tokens_values_neg = [], []\n",
    "\n",
    "for key, values in pos_neg.items():\n",
    "    if 'pos' in key: \n",
    "        average_tokens = sum(values)/(len(values)+1)\n",
    "        plt.scatter(x=key, y=average_tokens, color='lightgreen', linestyle='--', label='Average Tokens',marker ='*', s=200)    \n",
    "        x_values_pos.append(key)\n",
    "        average_tokens_values_pos.append(average_tokens)\n",
    "    if 'neg' in key:\n",
    "        average_tokens = sum(values)/(len(values)+1)\n",
    "        plt.scatter(x=key, y=average_tokens, color='red', linestyle='--', label='Average Tokens',marker ='*', s=200)    \n",
    "        x_values_neg.append(key)\n",
    "        average_tokens_values_neg.append(average_tokens)\n",
    "\n",
    "plt.plot(x_values_pos, average_tokens_values_pos, color='lightgreen', linestyle='-', marker='o', markersize=5)\n",
    "plt.plot(x_values_neg, average_tokens_values_neg, color='red', linestyle='-', marker='o', markersize=5)\n",
    "     \n",
    "    \n",
    "plt.show()"
   ]
  },
  {
   "cell_type": "code",
   "execution_count": null,
   "id": "f5d1eab7",
   "metadata": {},
   "outputs": [],
   "source": [
    "names = ['wins', 'losses']\n",
    "win_loss = {}\n",
    "ind = 0\n",
    "for group in [winners, losers]:\n",
    "    pos_list, neg_list = [], []\n",
    "    \n",
    "    for text, movie in zip(group['text'], group['Movie Name']):\n",
    "        pos_score, neg_score = sentiment_scores(str(text))\n",
    "        pos_list.append(pos_score)\n",
    "        neg_list.append(neg_score)\n",
    "\n",
    "    win_loss[f\"{names[ind]}_pos\"] = pos_list\n",
    "    win_loss[f\"{names[ind]}_neg\"] = neg_list\n",
    "    ind += 1"
   ]
  },
  {
   "cell_type": "code",
   "execution_count": null,
   "id": "d177606e",
   "metadata": {},
   "outputs": [],
   "source": [
    "plt.figure(figsize=(10, 6))\n",
    "plt.title('Scatter Plot for Dictionary Values')\n",
    "plt.xticks(rotation=45)\n",
    "plt.xlabel('Years')\n",
    "plt.ylabel('Sentiment Scores')\n",
    "for key, values in win_loss.items():\n",
    "    plt.scatter([key] * len(values), values, label=key)\n",
    "\n",
    "x_values_pos, average_tokens_values_pos = [], []\n",
    "x_values_neg, average_tokens_values_neg = [], []\n",
    "\n",
    "for key, values in win_loss.items():\n",
    "    if 'pos' in key: \n",
    "        average_tokens = sum(values)/(len(values)+1)\n",
    "        plt.scatter(x=key, y=average_tokens, color='lightgreen', linestyle='--', label='Average Tokens',marker ='*', s=200)    \n",
    "        x_values_pos.append(key)\n",
    "        average_tokens_values_pos.append(average_tokens)\n",
    "    if 'neg' in key:\n",
    "        average_tokens = sum(values)/(len(values)+1)\n",
    "        plt.scatter(x=key, y=average_tokens, color='red', linestyle='--', label='Average Tokens',marker ='*', s=200)    \n",
    "        x_values_neg.append(key)\n",
    "        average_tokens_values_neg.append(average_tokens)\n",
    "\n",
    "plt.plot(x_values_pos, average_tokens_values_pos, color='lightgreen', linestyle='-', marker='o', markersize=5)\n",
    "plt.plot(x_values_neg, average_tokens_values_neg, color='red', linestyle='-', marker='o', markersize=5)    \n",
    "    \n",
    "plt.show()"
   ]
  },
  {
   "cell_type": "markdown",
   "id": "8814a287",
   "metadata": {},
   "source": [
    "### Sentiment Analysis Reflection "
   ]
  },
  {
   "cell_type": "markdown",
   "id": "e8bf01c5",
   "metadata": {},
   "source": [
    "When continuing on with the analysis of our movies, my group thought it would be fitting to do a sentiment analysis to attempt to find different trends over time. Additionally, we wanted to do sentiment analyses between movies that won awards and those that did not. In order to accomplish this task, we split up the dataset into 1) different decades and 2) winners of awards and losers. When producing a sentiment analysis for the movies over the decades, I first proceeded with the classifier that we used in class: vader. The vader sentiment analysis tool uses a combination of a list of lexical features (i.e., words) which are labeled according to their semantic orientation as either positive or negative. This score is the compounded into a compound score that represents the sentiment of the entire text that was input into the analyzer. However, this tool is specifically attuned to sentiments that are expressed in social media. Because of this fact, we were slighly hesitant on how the classifier would perform on classification with movies. In order to take this classification to the next level, we wanted to attempt to levegerage the HuggingFace library and use a bert sentiment tool in order to get another classification. The next model that we used was the `DistilBERT` model that has been fine-tuned for the sentiment analysis task. Bert is different from Vader in that Bert leverages attention mechanisms to understand the context of words within text. It does so by considering the entire context of a sentence by looking at words that come before and after. The sentiment score using Bert is likley to be more nuanced, as transformer models can capture more complex patterns in text data than rule-based systems like VADER. When interpreting the results of the classifiers, is seems as thought the distributions of the sentiments are not necessarily the same with each classsifer. There are a few reasons why this might be in terms of the classifiers themselves. \n",
    "1. VADER is a rule-based model that looks at words individually, often weighting them according to their position in a sentiment lexicon. On the other hand, `DistilBERT` looks at the context around each word, which might result in a different interpretation of sentiment.\n",
    "\n",
    "2. The `DistilBERT` model has been trained on a corpus of data that likely includes a variety of text sources, while VADER's lexicon is weighted towards social media text. This can result in differing interpretations of sentiment for the same text. Because of this, the `DistilBERT` model might be better suited for a sentiment analysis on movies. \n",
    "\n",
    "3. The `DistilBERT` approach takes a snippet of text (512 characters), which might not represent the overall sentiment of the entire text. VADER assesses the sentiment of the entire text string provided. The BERT model is limited in the length of the text that it is able to take in-- preventing a wholistic picture and might be a down fall for this model. \n",
    "\n",
    "4. The VADER method aggregates sentiment into a single compound score, simplifying the output to positive, negative, or neutral. The `DistilBERT` model, however, provides a score for each sentiment label, and this analysis sums the scores for all instances labeled as positive or negative.\n",
    "\n",
    "5. `DistilBERT`'s attention mechanisms allow it to be sensitive to the context in which words are used, which could lead to a different interpretation of the same words compared to VADER's method. The VADER method uses a list of lexical features that are specific to social media-- proving to potentially "
   ]
  },
  {
   "cell_type": "markdown",
   "id": "0eafbfc1",
   "metadata": {},
   "source": [
    "While these factors might begin to explain the differences between the performance of the sentiment analyses, it is important to think about them in the context of the data: movies. Because this dataset is very distinct, I believe that the `DistilBERT` model might be better suited for a sentiment analysis in this case. Below are a couple reasons as to why. \n",
    "1. Award-nominated films often have complex storylines with nuanced emotional arcs. A model like DistilBERT is likley be better suited to understand these nuances because of its ability to comprehend context and the interplay of different emotional signals within the text. This could make it more accurate for analyzing the sophisticated narratives of critically acclaimed films.\n",
    "2.  The sentiment conveyed in movies can be deeply rooted in the cultural and historical context of the time when they were made. Since the VADER sentiment analysis tool is based on a lexicon that may not fully account for historical and cultural shifts in language, its assessments may be less accurate for movies outside of its core temporal and cultural training data.\n",
    "3. Academy Award-nominated films often feature rich dialogues and monologues that carry a significant emotional weight. A model trained on varied textual data, like DistilBERT, might be better at capturing the sentiment of these complex speech patterns compared to VADER, which may not account for the subtleties of dialogue delivery and emotional undertones.\n",
    "4. Films that receive critical acclaim often include subtext, irony, or dark humor, which can be challenging for a more straightforward sentiment analysis tool like VADER. DistilBERT and similar transformer models are more likely to grasp such subtleties due to their deeper contextual understanding.\n",
    "5. The genres of Academy Award-nominated films vary widely, from dramas and historical films to comedies and musicals. Each genre can express sentiment in different ways. DistilBERT's nuanced understanding of context could make it more adaptable across various genres of films.\n",
    "\n",
    "Although VADER's lexicon-based approach can effectively analyze explicit sentiments, especially in shorter and less complex texts, DistilBERT's context-aware approach may provide a more accurate sentiment analysis for the complex and often subtle narratives found in Academy Award-nominated films."
   ]
  },
  {
   "cell_type": "markdown",
   "id": "32fc1df5",
   "metadata": {},
   "source": [
    "Going a step further than the fundamental function of these two tools, we want to understand how they actually performed. One way of assessing this is by looking at and analyzing the graphs that we have made in order to visualize the results. \n",
    "The distribution of sentiment scores in the VADER graph is more compact, suggesting less variation between movies or a more conservative assessment of sentiment. On the other hand, `DistilBERT` shows a more varied distribution, which might suggest a greater sensitivity to the nuances in the text. In addition to this, we want to observe the trends that the graphs are showing overtime. Both graphs show trends across decades with both positive and negative sentiment scores. However, the trends differ between the two. VADER appears to show a more stable sentiment over time, whereas DistilBERT reflects more variation in sentiment. This could mean that DistilBERT captures the changing nature of film narratives and sentiments over time more dramatically. The interpretation of the graphs may heavily depend on your expectations going into the analysis. Based on my groups understanding of the dataset is that the trends from decade to decade will fluctuate overtime. If we expect that movies' sentiments, especially those nominated for Academy Awards, would vary greatly over time due to changes in societal norms, storytelling styles, and topics, then DistilBERT's results may be seen as more accurate due to their higher variability and potentially deeper understanding of context. Overall, it seems that the `DistilBERT` does a better job of understanding the dataset in the context that it is being shown. The visualizations and sentiment results second this perspective that we are seeing.  "
   ]
  },
  {
   "cell_type": "markdown",
   "id": "98772146",
   "metadata": {},
   "source": [
    "## Appendix"
   ]
  },
  {
   "cell_type": "code",
   "execution_count": null,
   "id": "75e42796",
   "metadata": {},
   "outputs": [],
   "source": [
    "# Initialize an empty dictionary to store top 10 features for each decade\n",
    "top_10_features_by_decade = {}\n",
    "\n",
    "# Iterate over each decade\n",
    "for decade in decades['decade'].unique():\n",
    "    # Extract data for the current decade\n",
    "    subset_decade = decades[decades['decade'] == decade]\n",
    "    \n",
    "    # Features\n",
    "    X = stopword_removal_classification_vectorizer.fit_transform(subset_decade['text'])\n",
    "    y = subset_decade['decade']\n",
    "\n",
    "    # Train RandomForestClassifier\n",
    "    rf_clf = RandomForestClassifier()\n",
    "    rf_clf.fit(X, y)\n",
    "\n",
    "    # Get feature importances\n",
    "    importances = rf_clf.feature_importances_\n",
    "    feature_names = stopword_removal_classification_vectorizer.get_feature_names_out()\n",
    "\n",
    "    # Get indices of top 10 features\n",
    "    top_10_feature_indices = importances.argsort()[::-1][:10]\n",
    "\n",
    "    # Get the actual feature names for the top 10 features\n",
    "    top_10_features = [feature_names[i] for i in top_10_feature_indices]\n",
    "\n",
    "    # Store the top 10 features for the current decade\n",
    "    top_10_features_by_decade[decade] = top_10_features\n",
    "\n",
    "    # Print the top 10 features for the current decade\n",
    "    print(f\"Top 10 features for {decade}:\")\n",
    "    for i, feature in enumerate(top_10_features):\n",
    "        print(f\"Index: {top_10_feature_indices[i]}, Feature: {feature}\")"
   ]
  }
 ],
 "metadata": {
  "kernelspec": {
   "display_name": "Python 3 (ipykernel)",
   "language": "python",
   "name": "python3"
  },
  "language_info": {
   "codemirror_mode": {
    "name": "ipython",
    "version": 3
   },
   "file_extension": ".py",
   "mimetype": "text/x-python",
   "name": "python",
   "nbconvert_exporter": "python",
   "pygments_lexer": "ipython3",
   "version": "3.11.4"
  }
 },
 "nbformat": 4,
 "nbformat_minor": 5
}
