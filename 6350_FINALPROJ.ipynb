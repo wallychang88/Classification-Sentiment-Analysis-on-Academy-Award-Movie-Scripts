{
 "cells": [
  {
   "cell_type": "code",
   "execution_count": 11,
   "id": "5260aefe-2690-4658-a2f3-6e7c8488a401",
   "metadata": {
    "tags": []
   },
   "outputs": [],
   "source": [
    "# def convert_srt_to_txt(srt_path, txt_path):\n",
    "#     with open(srt_path, 'r', encoding='ISO-8859-1') as srt_file:\n",
    "#         # Read lines from the .srt file\n",
    "#         srt_lines = srt_file.readlines()\n",
    "\n",
    "#         # Extract text content (skip the time codes and numbering)\n",
    "#         text_content = ' '.join(line.strip() for line in srt_lines if not line.strip().isdigit())\n",
    "\n",
    "#     # Save the extracted text to a .txt file\n",
    "#     with open(txt_path, 'w', encoding='utf-8') as txt_file:\n",
    "#         txt_file.write(text_content)\n",
    "    \n",
    "#     srt_path = \"scripts/The.Great.McGinty.1940.576x416.24fps.1102kbs.88mp3.Eng._fr.sp.subs_WunSeeDee.srt\"\n",
    "#     output_txt_path = \"txt/The.Great.McGinty.1940.576x416.24fps.1102kbs.88mp3.Eng._fr.sp.subs_WunSeeDee.txt\"\n",
    "    \n",
    "\n",
    "# # Example usage\n",
    "\n",
    "# convert_srt_to_txt(srt_file.name, output_txt_path)\n"
   ]
  },
  {
   "cell_type": "code",
   "execution_count": null,
   "id": "97002091-2a49-4084-93ae-0179ade32c59",
   "metadata": {},
   "outputs": [],
   "source": [
    "for "
   ]
  }
 ],
 "metadata": {
  "kernelspec": {
   "display_name": "Python 3 (ipykernel)",
   "language": "python",
   "name": "python3"
  },
  "language_info": {
   "codemirror_mode": {
    "name": "ipython",
    "version": 3
   },
   "file_extension": ".py",
   "mimetype": "text/x-python",
   "name": "python",
   "nbconvert_exporter": "python",
   "pygments_lexer": "ipython3",
   "version": "3.10.12"
  }
 },
 "nbformat": 4,
 "nbformat_minor": 5
}
