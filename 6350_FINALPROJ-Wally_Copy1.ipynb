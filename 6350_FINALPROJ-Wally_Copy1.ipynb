{
 "cells": [
  {
   "cell_type": "code",
   "execution_count": 2,
   "id": "5260aefe-2690-4658-a2f3-6e7c8488a401",
   "metadata": {
    "tags": []
   },
   "outputs": [
    {
     "ename": "ModuleNotFoundError",
     "evalue": "No module named 'chardet'",
     "output_type": "error",
     "traceback": [
      "\u001b[0;31m---------------------------------------------------------------------------\u001b[0m",
      "\u001b[0;31mModuleNotFoundError\u001b[0m                       Traceback (most recent call last)",
      "Cell \u001b[0;32mIn[2], line 1\u001b[0m\n\u001b[0;32m----> 1\u001b[0m \u001b[38;5;28;01mimport\u001b[39;00m \u001b[38;5;21;01mchardet\u001b[39;00m\n\u001b[1;32m      2\u001b[0m \u001b[38;5;28;01mimport\u001b[39;00m \u001b[38;5;21;01mos\u001b[39;00m\n\u001b[1;32m      4\u001b[0m \u001b[38;5;28;01mdef\u001b[39;00m \u001b[38;5;21mdetect_encoding\u001b[39m(file_path):\n",
      "\u001b[0;31mModuleNotFoundError\u001b[0m: No module named 'chardet'"
     ]
    }
   ],
   "source": [
    "import chardet\n",
    "import os\n",
    "\n",
    "def detect_encoding(file_path):\n",
    "    with open(file_path, 'rb') as file:\n",
    "        raw_data = file.read()\n",
    "\n",
    "    result = chardet.detect(raw_data)\n",
    "    return result['encoding']\n",
    "\n",
    "def srt_to_text(srt_file_path):\n",
    "    encoding_attempts = ['utf-8', 'latin-1', 'utf-16']\n",
    "\n",
    "    for encoding in encoding_attempts:\n",
    "        try:\n",
    "            with open(srt_file_path, 'r', encoding=encoding) as file:\n",
    "                lines = file.readlines()\n",
    "\n",
    "            text = \"\"\n",
    "            current_line = \"\"\n",
    "            is_time_line = True\n",
    "\n",
    "            for line in lines:\n",
    "                line = line.strip()\n",
    "\n",
    "                if not line:\n",
    "                    is_time_line = True\n",
    "                    continue\n",
    "\n",
    "                if is_time_line:\n",
    "                    is_time_line = False\n",
    "                    continue\n",
    "\n",
    "                current_line += line + \" \"\n",
    "\n",
    "                # If the line ends with a punctuation indicating the end of a sentence\n",
    "                if line.endswith(('.', '!', '?')):\n",
    "                    text += current_line + \"\\n\"\n",
    "                    current_line = \"\"\n",
    "\n",
    "            return text.strip()\n",
    "        except UnicodeDecodeError:\n",
    "            print(f\"Error decoding using {encoding} for file: {srt_file_path}. Trying another encoding.\")\n",
    "\n",
    "    # If none of the encodings work\n",
    "    print(f\"Unable to decode file: {srt_file_path}\")\n",
    "    return None\n",
    "\n",
    "def process_srt_files_in_folder(folder_path):\n",
    "    for filename in os.listdir(folder_path):\n",
    "        if filename.endswith(\".srt\"):\n",
    "            srt_file_path = os.path.join(folder_path, filename)\n",
    "            text_content = srt_to_text(srt_file_path)\n",
    "\n",
    "            if text_content is not None:\n",
    "                print(f\"Text extracted from {srt_file_path}:\\n{text_content}\\n\")\n"
   ]
  },
  {
   "cell_type": "code",
   "execution_count": 1,
   "id": "97002091-2a49-4084-93ae-0179ade32c59",
   "metadata": {},
   "outputs": [
    {
     "ename": "NameError",
     "evalue": "name 'process_srt_files_in_folder' is not defined",
     "output_type": "error",
     "traceback": [
      "\u001b[0;31m---------------------------------------------------------------------------\u001b[0m",
      "\u001b[0;31mNameError\u001b[0m                                 Traceback (most recent call last)",
      "Cell \u001b[0;32mIn[1], line 3\u001b[0m\n\u001b[1;32m      1\u001b[0m \u001b[38;5;66;03m# Example usage for a folder containing SRT files\u001b[39;00m\n\u001b[1;32m      2\u001b[0m folder_path \u001b[38;5;241m=\u001b[39m \u001b[38;5;124m'\u001b[39m\u001b[38;5;124m/Users/wally/Library/CloudStorage/OneDrive-Personal/Documents/Cornell/1. Fourth Year/INFO 6350 - Text Mining History and Literature/INFO6350_Final_Project/srt_files\u001b[39m\u001b[38;5;124m'\u001b[39m\n\u001b[0;32m----> 3\u001b[0m process_srt_files_in_folder(folder_path)\n",
      "\u001b[0;31mNameError\u001b[0m: name 'process_srt_files_in_folder' is not defined"
     ]
    }
   ],
   "source": [
    "# Example usage for a folder containing SRT files\n",
    "folder_path = '/Users/wally/Library/CloudStorage/OneDrive-Personal/Documents/Cornell/1. Fourth Year/INFO 6350 - Text Mining History and Literature/INFO6350_Final_Project/srt_files'\n",
    "process_srt_files_in_folder(folder_path)"
   ]
  },
  {
   "cell_type": "code",
   "execution_count": null,
   "id": "315b215e",
   "metadata": {},
   "outputs": [],
   "source": []
  }
 ],
 "metadata": {
  "kernelspec": {
   "display_name": "Python 3 (ipykernel)",
   "language": "python",
   "name": "python3"
  },
  "language_info": {
   "codemirror_mode": {
    "name": "ipython",
    "version": 3
   },
   "file_extension": ".py",
   "mimetype": "text/x-python",
   "name": "python",
   "nbconvert_exporter": "python",
   "pygments_lexer": "ipython3",
   "version": "3.11.4"
  }
 },
 "nbformat": 4,
 "nbformat_minor": 5
}
