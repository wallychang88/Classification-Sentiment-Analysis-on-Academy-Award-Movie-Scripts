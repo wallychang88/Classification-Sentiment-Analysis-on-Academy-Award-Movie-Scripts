{
 "cells": [
  {
   "cell_type": "code",
   "execution_count": 1,
   "id": "85d4b2e7",
   "metadata": {},
   "outputs": [],
   "source": [
    "import chardet\n",
    "import os\n",
    "import pandas as pd"
   ]
  },
  {
   "cell_type": "code",
   "execution_count": 2,
   "id": "5260aefe-2690-4658-a2f3-6e7c8488a401",
   "metadata": {
    "tags": []
   },
   "outputs": [],
   "source": [
    "def detect_encoding(file_path):\n",
    "    with open(file_path, 'rb') as file:\n",
    "        raw_data = file.read()\n",
    "\n",
    "    result = chardet.detect(raw_data)\n",
    "    return result['encoding']\n",
    "\n",
    "def srt_to_text(srt_file_path):\n",
    "    encoding_attempts = ['utf-8', 'ISO-8859-1', 'utf-16', ]\n",
    "\n",
    "    for encoding in encoding_attempts:\n",
    "        try:\n",
    "            with open(srt_file_path, 'r', encoding=encoding) as file:\n",
    "                lines = file.readlines()\n",
    "\n",
    "            text = \"\"\n",
    "            current_line = \"\"\n",
    "            is_time_line = True\n",
    "\n",
    "            for line in lines:\n",
    "                line = line.strip()\n",
    "\n",
    "                if not line:\n",
    "                    is_time_line = True\n",
    "                    continue\n",
    "\n",
    "                if is_time_line:\n",
    "                    is_time_line = False\n",
    "                    continue\n",
    "\n",
    "                current_line += line + \" \"\n",
    "\n",
    "                # If the line ends with a punctuation indicating the end of a sentence\n",
    "                if line.endswith(('.', '!', '?')):\n",
    "                    text += current_line + \"\\n\"\n",
    "                    current_line = \"\"\n",
    "\n",
    "            return text.strip()\n",
    "        except UnicodeDecodeError:\n",
    "            None\n",
    "\n",
    "    # If none of the encodings work\n",
    "    print(f\"Unable to decode file: {srt_file_path}\")\n",
    "    return None\n",
    "\n",
    "def process_srt_files_in_folder(folder_path):\n",
    "    result_dict = []\n",
    "\n",
    "    for filename in os.listdir(folder_path):\n",
    "        if filename.endswith(\".srt\"):\n",
    "            srt_file_path = os.path.join(folder_path, filename)\n",
    "            text_content = srt_to_text(srt_file_path)\n",
    "\n",
    "            if text_content is not None:\n",
    "                file_dict = {\"name\": filename, \"text\": text_content}\n",
    "                result_dict.append(file_dict)\n",
    "\n",
    "    return result_dict\n",
    "\n",
    "# Example usage for a folder containing SRT files\n",
    "folder_path = '/Users/wally/Library/CloudStorage/OneDrive-Personal/Documents/Cornell/1. Fourth Year/INFO 6350 - Text Mining History and Literature/INFO6350_Final_Project/srt_files'\n",
    "result_dictionary = process_srt_files_in_folder(folder_path)\n",
    "\n"
   ]
  },
  {
   "cell_type": "code",
   "execution_count": 3,
   "id": "98e7947f",
   "metadata": {},
   "outputs": [],
   "source": [
    "movie_subtitles_df = pd.DataFrame(result_dictionary)"
   ]
  },
  {
   "cell_type": "code",
   "execution_count": 4,
   "id": "8cd84e01",
   "metadata": {},
   "outputs": [],
   "source": [
    "# Removal of timestamps\n",
    "movie_subtitles_df['text'] = movie_subtitles_df['text'].str.replace(r'\\d{2}:\\d{2}:\\d{2},\\d{3} --> \\d{2}:\\d{2}:\\d{2},\\d{3}[\\s-]+', '\\n', regex=True)\n"
   ]
  },
  {
   "cell_type": "code",
   "execution_count": 5,
   "id": "c6aba171",
   "metadata": {},
   "outputs": [
    {
     "data": {
      "text/html": [
       "<div>\n",
       "<style scoped>\n",
       "    .dataframe tbody tr th:only-of-type {\n",
       "        vertical-align: middle;\n",
       "    }\n",
       "\n",
       "    .dataframe tbody tr th {\n",
       "        vertical-align: top;\n",
       "    }\n",
       "\n",
       "    .dataframe thead th {\n",
       "        text-align: right;\n",
       "    }\n",
       "</style>\n",
       "<table border=\"1\" class=\"dataframe\">\n",
       "  <thead>\n",
       "    <tr style=\"text-align: right;\">\n",
       "      <th></th>\n",
       "      <th>name</th>\n",
       "      <th>text</th>\n",
       "    </tr>\n",
       "  </thead>\n",
       "  <tbody>\n",
       "    <tr>\n",
       "      <th>0</th>\n",
       "      <td>Foreign.Correspondent.1940.1080p.BluRay.x265-R...</td>\n",
       "      <td>\\nWhat's new? \\n- Same old daily bunkeroo. \\n\\...</td>\n",
       "    </tr>\n",
       "    <tr>\n",
       "      <th>1</th>\n",
       "      <td>Angels.Over.Broadway.1940.DVDRip.english.srt</td>\n",
       "      <td>\\n&lt;i&gt;Go on, soak them.&lt;/i&gt; \\n&lt;i&gt;The wetter the...</td>\n",
       "    </tr>\n",
       "    <tr>\n",
       "      <th>2</th>\n",
       "      <td>(1940)Dr.Ehrlich'sMagicBullet.ING.srt</td>\n",
       "      <td>\\n[Theme music] \\n[Music continues] \\n[Music c...</td>\n",
       "    </tr>\n",
       "  </tbody>\n",
       "</table>\n",
       "</div>"
      ],
      "text/plain": [
       "                                                name  \\\n",
       "0  Foreign.Correspondent.1940.1080p.BluRay.x265-R...   \n",
       "1       Angels.Over.Broadway.1940.DVDRip.english.srt   \n",
       "2              (1940)Dr.Ehrlich'sMagicBullet.ING.srt   \n",
       "\n",
       "                                                text  \n",
       "0  \\nWhat's new? \\n- Same old daily bunkeroo. \\n\\...  \n",
       "1  \\n<i>Go on, soak them.</i> \\n<i>The wetter the...  \n",
       "2  \\n[Theme music] \\n[Music continues] \\n[Music c...  "
      ]
     },
     "execution_count": 5,
     "metadata": {},
     "output_type": "execute_result"
    }
   ],
   "source": [
    "movie_subtitles_df"
   ]
  },
  {
   "cell_type": "code",
   "execution_count": null,
   "id": "2dd68cce",
   "metadata": {},
   "outputs": [],
   "source": []
  }
 ],
 "metadata": {
  "kernelspec": {
   "display_name": "Python 3 (ipykernel)",
   "language": "python",
   "name": "python3"
  },
  "language_info": {
   "codemirror_mode": {
    "name": "ipython",
    "version": 3
   },
   "file_extension": ".py",
   "mimetype": "text/x-python",
   "name": "python",
   "nbconvert_exporter": "python",
   "pygments_lexer": "ipython3",
   "version": "3.11.4"
  }
 },
 "nbformat": 4,
 "nbformat_minor": 5
}
